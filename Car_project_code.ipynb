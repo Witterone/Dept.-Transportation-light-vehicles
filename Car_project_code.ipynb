{
  "nbformat": 4,
  "nbformat_minor": 0,
  "metadata": {
    "colab": {
      "name": "Car_project_code.ipynb",
      "provenance": [],
      "authorship_tag": "ABX9TyOow/Tz+56IMAAdrqHeOn5Y",
      "include_colab_link": true
    },
    "kernelspec": {
      "name": "python3",
      "display_name": "Python 3"
    }
  },
  "cells": [
    {
      "cell_type": "markdown",
      "metadata": {
        "id": "view-in-github",
        "colab_type": "text"
      },
      "source": [
        "<a href=\"https://colab.research.google.com/github/Witterone/Dept.-Transportation-light-vehicles/blob/master/Car_project_code.ipynb\" target=\"_parent\"><img src=\"https://colab.research.google.com/assets/colab-badge.svg\" alt=\"Open In Colab\"/></a>"
      ]
    },
    {
      "cell_type": "code",
      "metadata": {
        "id": "SO8mtELT0Pfx",
        "colab_type": "code",
        "outputId": "78960c61-cd88-42c2-9cea-443fad749a51",
        "colab": {
          "base_uri": "https://localhost:8080/",
          "height": 360
        }
      },
      "source": [
        "import pandas as pd\n",
        "import numpy as np\n",
        "import matplotlib.pyplot as plt\n",
        "car = pd.read_csv('https://raw.githubusercontent.com/Witterone/Dept.-Transportation-light-vehicles/master/light-duty-vehicles-2020-05-20.csv')\n",
        "car.head()"
      ],
      "execution_count": 1,
      "outputs": [
        {
          "output_type": "execute_result",
          "data": {
            "text/html": [
              "<div>\n",
              "<style scoped>\n",
              "    .dataframe tbody tr th:only-of-type {\n",
              "        vertical-align: middle;\n",
              "    }\n",
              "\n",
              "    .dataframe tbody tr th {\n",
              "        vertical-align: top;\n",
              "    }\n",
              "\n",
              "    .dataframe thead th {\n",
              "        text-align: right;\n",
              "    }\n",
              "</style>\n",
              "<table border=\"1\" class=\"dataframe\">\n",
              "  <thead>\n",
              "    <tr style=\"text-align: right;\">\n",
              "      <th></th>\n",
              "      <th>Vehicle ID</th>\n",
              "      <th>Fuel ID</th>\n",
              "      <th>Fuel Configuration ID</th>\n",
              "      <th>Manufacturer ID</th>\n",
              "      <th>Category ID</th>\n",
              "      <th>Model</th>\n",
              "      <th>Model Year</th>\n",
              "      <th>Alternative Fuel Economy City</th>\n",
              "      <th>Alternative Fuel Economy Highway</th>\n",
              "      <th>Alternative Fuel Economy Combined</th>\n",
              "      <th>Conventional Fuel Economy City</th>\n",
              "      <th>Conventional Fuel Economy Highway</th>\n",
              "      <th>Conventional Fuel Economy Combined</th>\n",
              "      <th>Transmission Type</th>\n",
              "      <th>Engine Type</th>\n",
              "      <th>Engine Size</th>\n",
              "      <th>Engine Cylinder Count</th>\n",
              "      <th>Engine Description</th>\n",
              "      <th>Manufacturer</th>\n",
              "      <th>Manufacturer URL</th>\n",
              "      <th>Category</th>\n",
              "      <th>Fuel Code</th>\n",
              "      <th>Fuel</th>\n",
              "      <th>Fuel Configuration Name</th>\n",
              "      <th>Electric-Only Range</th>\n",
              "      <th>PHEV Type</th>\n",
              "      <th>Notes</th>\n",
              "    </tr>\n",
              "  </thead>\n",
              "  <tbody>\n",
              "    <tr>\n",
              "      <th>0</th>\n",
              "      <td>12280</td>\n",
              "      <td>45</td>\n",
              "      <td>9.0</td>\n",
              "      <td>365</td>\n",
              "      <td>29</td>\n",
              "      <td>MDX AWD</td>\n",
              "      <td>2020</td>\n",
              "      <td>NaN</td>\n",
              "      <td>NaN</td>\n",
              "      <td>NaN</td>\n",
              "      <td>26.0</td>\n",
              "      <td>27.0</td>\n",
              "      <td>27.0</td>\n",
              "      <td>Auto</td>\n",
              "      <td>SI</td>\n",
              "      <td>3.0L</td>\n",
              "      <td>6.0</td>\n",
              "      <td>3.0L V6</td>\n",
              "      <td>Acura</td>\n",
              "      <td>http://www.acura.com/</td>\n",
              "      <td>SUV</td>\n",
              "      <td>HYBR</td>\n",
              "      <td>Hybrid Electric</td>\n",
              "      <td>Hybrid Electric</td>\n",
              "      <td>NaN</td>\n",
              "      <td>NaN</td>\n",
              "      <td>NaN</td>\n",
              "    </tr>\n",
              "    <tr>\n",
              "      <th>1</th>\n",
              "      <td>12377</td>\n",
              "      <td>45</td>\n",
              "      <td>9.0</td>\n",
              "      <td>365</td>\n",
              "      <td>27</td>\n",
              "      <td>NSX</td>\n",
              "      <td>2020</td>\n",
              "      <td>NaN</td>\n",
              "      <td>NaN</td>\n",
              "      <td>NaN</td>\n",
              "      <td>21.0</td>\n",
              "      <td>22.0</td>\n",
              "      <td>21.0</td>\n",
              "      <td>Auto</td>\n",
              "      <td>SI</td>\n",
              "      <td>3.5L</td>\n",
              "      <td>6.0</td>\n",
              "      <td>3.5L V6</td>\n",
              "      <td>Acura</td>\n",
              "      <td>http://www.acura.com/</td>\n",
              "      <td>Sedan/Wagon</td>\n",
              "      <td>HYBR</td>\n",
              "      <td>Hybrid Electric</td>\n",
              "      <td>Hybrid Electric</td>\n",
              "      <td>NaN</td>\n",
              "      <td>NaN</td>\n",
              "      <td>NaN</td>\n",
              "    </tr>\n",
              "    <tr>\n",
              "      <th>2</th>\n",
              "      <td>12306</td>\n",
              "      <td>45</td>\n",
              "      <td>9.0</td>\n",
              "      <td>365</td>\n",
              "      <td>27</td>\n",
              "      <td>RLX</td>\n",
              "      <td>2020</td>\n",
              "      <td>NaN</td>\n",
              "      <td>NaN</td>\n",
              "      <td>NaN</td>\n",
              "      <td>28.0</td>\n",
              "      <td>29.0</td>\n",
              "      <td>28.0</td>\n",
              "      <td>Auto</td>\n",
              "      <td>SI</td>\n",
              "      <td>3.5L</td>\n",
              "      <td>6.0</td>\n",
              "      <td>3.5L V6</td>\n",
              "      <td>Acura</td>\n",
              "      <td>http://www.acura.com/</td>\n",
              "      <td>Sedan/Wagon</td>\n",
              "      <td>HYBR</td>\n",
              "      <td>Hybrid Electric</td>\n",
              "      <td>Hybrid Electric</td>\n",
              "      <td>NaN</td>\n",
              "      <td>NaN</td>\n",
              "      <td>NaN</td>\n",
              "    </tr>\n",
              "    <tr>\n",
              "      <th>3</th>\n",
              "      <td>12379</td>\n",
              "      <td>45</td>\n",
              "      <td>9.0</td>\n",
              "      <td>377</td>\n",
              "      <td>27</td>\n",
              "      <td>A6 Allroad</td>\n",
              "      <td>2020</td>\n",
              "      <td>NaN</td>\n",
              "      <td>NaN</td>\n",
              "      <td>NaN</td>\n",
              "      <td>20.0</td>\n",
              "      <td>26.0</td>\n",
              "      <td>22.0</td>\n",
              "      <td>Auto</td>\n",
              "      <td>SI</td>\n",
              "      <td>3.0L</td>\n",
              "      <td>6.0</td>\n",
              "      <td>3.0L V6</td>\n",
              "      <td>Audi</td>\n",
              "      <td>http://progress.audiusa.com/</td>\n",
              "      <td>Sedan/Wagon</td>\n",
              "      <td>HYBR</td>\n",
              "      <td>Hybrid Electric</td>\n",
              "      <td>Hybrid Electric</td>\n",
              "      <td>NaN</td>\n",
              "      <td>NaN</td>\n",
              "      <td>NaN</td>\n",
              "    </tr>\n",
              "    <tr>\n",
              "      <th>4</th>\n",
              "      <td>12307</td>\n",
              "      <td>45</td>\n",
              "      <td>9.0</td>\n",
              "      <td>377</td>\n",
              "      <td>27</td>\n",
              "      <td>A6 quattro</td>\n",
              "      <td>2020</td>\n",
              "      <td>NaN</td>\n",
              "      <td>NaN</td>\n",
              "      <td>NaN</td>\n",
              "      <td>24.0</td>\n",
              "      <td>32.0</td>\n",
              "      <td>27.0</td>\n",
              "      <td>Auto</td>\n",
              "      <td>SI</td>\n",
              "      <td>2.0L</td>\n",
              "      <td>4.0</td>\n",
              "      <td>2.0L I4</td>\n",
              "      <td>Audi</td>\n",
              "      <td>http://progress.audiusa.com/</td>\n",
              "      <td>Sedan/Wagon</td>\n",
              "      <td>HYBR</td>\n",
              "      <td>Hybrid Electric</td>\n",
              "      <td>Hybrid Electric</td>\n",
              "      <td>NaN</td>\n",
              "      <td>NaN</td>\n",
              "      <td>NaN</td>\n",
              "    </tr>\n",
              "  </tbody>\n",
              "</table>\n",
              "</div>"
            ],
            "text/plain": [
              "   Vehicle ID  Fuel ID  ...  PHEV Type  Notes\n",
              "0       12280       45  ...        NaN    NaN\n",
              "1       12377       45  ...        NaN    NaN\n",
              "2       12306       45  ...        NaN    NaN\n",
              "3       12379       45  ...        NaN    NaN\n",
              "4       12307       45  ...        NaN    NaN\n",
              "\n",
              "[5 rows x 27 columns]"
            ]
          },
          "metadata": {
            "tags": []
          },
          "execution_count": 1
        }
      ]
    },
    {
      "cell_type": "code",
      "metadata": {
        "id": "JycAI_HU3Jeq",
        "colab_type": "code",
        "outputId": "c4a5e600-c837-4666-e8f5-ede0a27bcfbf",
        "colab": {
          "base_uri": "https://localhost:8080/",
          "height": 80
        }
      },
      "source": [
        "brands = car[['Manufacturer ID','Manufacturer']]\n",
        "brand_ID =[brands['Manufacturer'].unique(),brands['Manufacturer ID'].unique()]\n",
        "#brand_ID = pd.DataFrame(brand_ID.T,columns=['Brand','ID'])\n",
        "brand_ID = np.array(brand_ID)\n",
        "brand_ID = brand_ID.T\n",
        "brand_ID = pd.DataFrame(brand_ID,columns=['Maker','ID'])\n",
        "brand_ID[brand_ID['ID']==319]\n"
      ],
      "execution_count": 2,
      "outputs": [
        {
          "output_type": "execute_result",
          "data": {
            "text/html": [
              "<div>\n",
              "<style scoped>\n",
              "    .dataframe tbody tr th:only-of-type {\n",
              "        vertical-align: middle;\n",
              "    }\n",
              "\n",
              "    .dataframe tbody tr th {\n",
              "        vertical-align: top;\n",
              "    }\n",
              "\n",
              "    .dataframe thead th {\n",
              "        text-align: right;\n",
              "    }\n",
              "</style>\n",
              "<table border=\"1\" class=\"dataframe\">\n",
              "  <thead>\n",
              "    <tr style=\"text-align: right;\">\n",
              "      <th></th>\n",
              "      <th>Maker</th>\n",
              "      <th>ID</th>\n",
              "    </tr>\n",
              "  </thead>\n",
              "  <tbody>\n",
              "    <tr>\n",
              "      <th>47</th>\n",
              "      <td>Solectria</td>\n",
              "      <td>319</td>\n",
              "    </tr>\n",
              "  </tbody>\n",
              "</table>\n",
              "</div>"
            ],
            "text/plain": [
              "        Maker   ID\n",
              "47  Solectria  319"
            ]
          },
          "metadata": {
            "tags": []
          },
          "execution_count": 2
        }
      ]
    },
    {
      "cell_type": "markdown",
      "metadata": {
        "id": "0KxtFsMw0dAd",
        "colab_type": "text"
      },
      "source": [
        "## This is were I made a Dataframe to identify the Manufacturer based on the ID number allowing me to drop the string column"
      ]
    },
    {
      "cell_type": "code",
      "metadata": {
        "id": "vlB46srCo-en",
        "colab_type": "code",
        "outputId": "61ec6f74-f03a-4332-f68a-b054ae52c2e0",
        "colab": {
          "base_uri": "https://localhost:8080/",
          "height": 901
        }
      },
      "source": [
        "car['Manufacturer ID'].value_counts()"
      ],
      "execution_count": 3,
      "outputs": [
        {
          "output_type": "execute_result",
          "data": {
            "text/plain": [
              "219    439\n",
              "215    339\n",
              "213    225\n",
              "221    152\n",
              "225    130\n",
              "209     87\n",
              "239     87\n",
              "217     70\n",
              "243     69\n",
              "237     65\n",
              "223     61\n",
              "211     60\n",
              "377     54\n",
              "349     47\n",
              "351     42\n",
              "391     40\n",
              "361     37\n",
              "275     29\n",
              "231     29\n",
              "385     27\n",
              "227     24\n",
              "233     23\n",
              "235     23\n",
              "359     22\n",
              "387     19\n",
              "355     17\n",
              "347     16\n",
              "365     16\n",
              "395     15\n",
              "229     13\n",
              "319     12\n",
              "381     10\n",
              "263     10\n",
              "317      9\n",
              "379      7\n",
              "383      5\n",
              "273      5\n",
              "425      4\n",
              "315      4\n",
              "341      4\n",
              "410      4\n",
              "247      3\n",
              "389      3\n",
              "424      3\n",
              "353      2\n",
              "363      2\n",
              "241      1\n",
              "271      1\n",
              "409      1\n",
              "367      1\n",
              "371      1\n",
              "Name: Manufacturer ID, dtype: int64"
            ]
          },
          "metadata": {
            "tags": []
          },
          "execution_count": 3
        }
      ]
    },
    {
      "cell_type": "code",
      "metadata": {
        "id": "LrOUP2786r3g",
        "colab_type": "code",
        "outputId": "c12713dd-db19-42f3-8cb7-11b14f3524df",
        "colab": {
          "base_uri": "https://localhost:8080/",
          "height": 221
        }
      },
      "source": [
        "car['Engine Type'].value_counts()\n",
        "#This is a column to drop"
      ],
      "execution_count": 4,
      "outputs": [
        {
          "output_type": "execute_result",
          "data": {
            "text/plain": [
              "SI                  864\n",
              "e-motor             129\n",
              "CI                  109\n",
              "Vortec 5300          61\n",
              "Triton modular       39\n",
              "                   ... \n",
              "80 kW e-motor         1\n",
              "VTEC E Lean Burn      1\n",
              "DOHC 24 Valve         1\n",
              "Vortec  6000          1\n",
              "Duratech              1\n",
              "Name: Engine Type, Length: 115, dtype: int64"
            ]
          },
          "metadata": {
            "tags": []
          },
          "execution_count": 4
        }
      ]
    },
    {
      "cell_type": "markdown",
      "metadata": {
        "id": "30KpDI2g0xkk",
        "colab_type": "text"
      },
      "source": [
        "## I did a quick exploration of Engines listed and found too many unique entries I then decided that I would drop this column."
      ]
    },
    {
      "cell_type": "code",
      "metadata": {
        "id": "qO_63-Z-7OQr",
        "colab_type": "code",
        "outputId": "9377c7bf-4378-421b-9efd-a0615285ef13",
        "colab": {
          "base_uri": "https://localhost:8080/",
          "height": 459
        }
      },
      "source": [
        "print(car['Fuel'].value_counts())\n",
        "car['Fuel ID'].value_counts()"
      ],
      "execution_count": 5,
      "outputs": [
        {
          "output_type": "stream",
          "text": [
            "Ethanol (E85)                   888\n",
            "Hybrid Electric                 527\n",
            "Electric                        244\n",
            "CNG - Compressed Natural Gas    224\n",
            "Plug-in Hybrid Electric         181\n",
            "Biodiesel (B20)                 148\n",
            "Propane                          69\n",
            "CNG - Bi-fuel                    29\n",
            "Hydrogen Fuel Cell               26\n",
            "Propane - Bi-fuel                18\n",
            "Methanol                         14\n",
            "Other                             1\n",
            "Name: Fuel, dtype: int64\n"
          ],
          "name": "stdout"
        },
        {
          "output_type": "execute_result",
          "data": {
            "text/plain": [
              "11    888\n",
              "45    527\n",
              "41    244\n",
              "3     224\n",
              "57    181\n",
              "35    148\n",
              "55     69\n",
              "37     29\n",
              "9      26\n",
              "39     18\n",
              "49     14\n",
              "53      1\n",
              "Name: Fuel ID, dtype: int64"
            ]
          },
          "metadata": {
            "tags": []
          },
          "execution_count": 5
        }
      ]
    },
    {
      "cell_type": "code",
      "metadata": {
        "id": "lp6z9PLp8tIQ",
        "colab_type": "code",
        "outputId": "66d5f74d-48cf-447b-ab8c-5e4927e7d67c",
        "colab": {
          "base_uri": "https://localhost:8080/",
          "height": 421
        }
      },
      "source": [
        "fuel = car[['Fuel','Fuel ID']]\n",
        "fuel_ID = [fuel['Fuel'].unique(),fuel['Fuel ID'].unique()]\n",
        "fuel_ID = np.array(fuel_ID)\n",
        "fuel_ID = fuel_ID.T\n",
        "fuel_ID = pd.DataFrame(fuel_ID,columns=['fuel','F_ID'])\n",
        "fuel_ID"
      ],
      "execution_count": 6,
      "outputs": [
        {
          "output_type": "execute_result",
          "data": {
            "text/html": [
              "<div>\n",
              "<style scoped>\n",
              "    .dataframe tbody tr th:only-of-type {\n",
              "        vertical-align: middle;\n",
              "    }\n",
              "\n",
              "    .dataframe tbody tr th {\n",
              "        vertical-align: top;\n",
              "    }\n",
              "\n",
              "    .dataframe thead th {\n",
              "        text-align: right;\n",
              "    }\n",
              "</style>\n",
              "<table border=\"1\" class=\"dataframe\">\n",
              "  <thead>\n",
              "    <tr style=\"text-align: right;\">\n",
              "      <th></th>\n",
              "      <th>fuel</th>\n",
              "      <th>F_ID</th>\n",
              "    </tr>\n",
              "  </thead>\n",
              "  <tbody>\n",
              "    <tr>\n",
              "      <th>0</th>\n",
              "      <td>Hybrid Electric</td>\n",
              "      <td>45</td>\n",
              "    </tr>\n",
              "    <tr>\n",
              "      <th>1</th>\n",
              "      <td>Plug-in Hybrid Electric</td>\n",
              "      <td>57</td>\n",
              "    </tr>\n",
              "    <tr>\n",
              "      <th>2</th>\n",
              "      <td>Electric</td>\n",
              "      <td>41</td>\n",
              "    </tr>\n",
              "    <tr>\n",
              "      <th>3</th>\n",
              "      <td>Biodiesel (B20)</td>\n",
              "      <td>35</td>\n",
              "    </tr>\n",
              "    <tr>\n",
              "      <th>4</th>\n",
              "      <td>Ethanol (E85)</td>\n",
              "      <td>11</td>\n",
              "    </tr>\n",
              "    <tr>\n",
              "      <th>5</th>\n",
              "      <td>Hydrogen Fuel Cell</td>\n",
              "      <td>9</td>\n",
              "    </tr>\n",
              "    <tr>\n",
              "      <th>6</th>\n",
              "      <td>CNG - Compressed Natural Gas</td>\n",
              "      <td>3</td>\n",
              "    </tr>\n",
              "    <tr>\n",
              "      <th>7</th>\n",
              "      <td>Propane</td>\n",
              "      <td>55</td>\n",
              "    </tr>\n",
              "    <tr>\n",
              "      <th>8</th>\n",
              "      <td>CNG - Bi-fuel</td>\n",
              "      <td>37</td>\n",
              "    </tr>\n",
              "    <tr>\n",
              "      <th>9</th>\n",
              "      <td>Propane - Bi-fuel</td>\n",
              "      <td>39</td>\n",
              "    </tr>\n",
              "    <tr>\n",
              "      <th>10</th>\n",
              "      <td>Other</td>\n",
              "      <td>53</td>\n",
              "    </tr>\n",
              "    <tr>\n",
              "      <th>11</th>\n",
              "      <td>Methanol</td>\n",
              "      <td>49</td>\n",
              "    </tr>\n",
              "  </tbody>\n",
              "</table>\n",
              "</div>"
            ],
            "text/plain": [
              "                            fuel F_ID\n",
              "0                Hybrid Electric   45\n",
              "1        Plug-in Hybrid Electric   57\n",
              "2                       Electric   41\n",
              "3                Biodiesel (B20)   35\n",
              "4                  Ethanol (E85)   11\n",
              "5             Hydrogen Fuel Cell    9\n",
              "6   CNG - Compressed Natural Gas    3\n",
              "7                        Propane   55\n",
              "8                  CNG - Bi-fuel   37\n",
              "9              Propane - Bi-fuel   39\n",
              "10                         Other   53\n",
              "11                      Methanol   49"
            ]
          },
          "metadata": {
            "tags": []
          },
          "execution_count": 6
        }
      ]
    },
    {
      "cell_type": "markdown",
      "metadata": {
        "id": "LQa_BPAg1Flg",
        "colab_type": "text"
      },
      "source": [
        "## here I made a Dataframe to identify the fuel types by ID number."
      ]
    },
    {
      "cell_type": "code",
      "metadata": {
        "id": "QuuSYrPZDA_c",
        "colab_type": "code",
        "outputId": "a4291cc9-c69e-4ee8-cd17-e65eefaafd6a",
        "colab": {
          "base_uri": "https://localhost:8080/",
          "height": 204
        }
      },
      "source": [
        "cat = car[['Category ID','Category']]\n",
        "cat_ID = [cat['Category ID'].unique(),cat['Category'].unique()]\n",
        "cat_ID = np.array(cat_ID).T\n",
        "cat_ID = pd.DataFrame(cat_ID,columns=['C_ID','Category'])\n",
        "cat_ID.head()"
      ],
      "execution_count": 7,
      "outputs": [
        {
          "output_type": "execute_result",
          "data": {
            "text/html": [
              "<div>\n",
              "<style scoped>\n",
              "    .dataframe tbody tr th:only-of-type {\n",
              "        vertical-align: middle;\n",
              "    }\n",
              "\n",
              "    .dataframe tbody tr th {\n",
              "        vertical-align: top;\n",
              "    }\n",
              "\n",
              "    .dataframe thead th {\n",
              "        text-align: right;\n",
              "    }\n",
              "</style>\n",
              "<table border=\"1\" class=\"dataframe\">\n",
              "  <thead>\n",
              "    <tr style=\"text-align: right;\">\n",
              "      <th></th>\n",
              "      <th>C_ID</th>\n",
              "      <th>Category</th>\n",
              "    </tr>\n",
              "  </thead>\n",
              "  <tbody>\n",
              "    <tr>\n",
              "      <th>0</th>\n",
              "      <td>29</td>\n",
              "      <td>SUV</td>\n",
              "    </tr>\n",
              "    <tr>\n",
              "      <th>1</th>\n",
              "      <td>27</td>\n",
              "      <td>Sedan/Wagon</td>\n",
              "    </tr>\n",
              "    <tr>\n",
              "      <th>2</th>\n",
              "      <td>25</td>\n",
              "      <td>Pickup</td>\n",
              "    </tr>\n",
              "    <tr>\n",
              "      <th>3</th>\n",
              "      <td>9</td>\n",
              "      <td>Van</td>\n",
              "    </tr>\n",
              "    <tr>\n",
              "      <th>4</th>\n",
              "      <td>17</td>\n",
              "      <td>Vocational/Cab Chassis</td>\n",
              "    </tr>\n",
              "  </tbody>\n",
              "</table>\n",
              "</div>"
            ],
            "text/plain": [
              "  C_ID                Category\n",
              "0   29                     SUV\n",
              "1   27             Sedan/Wagon\n",
              "2   25                  Pickup\n",
              "3    9                     Van\n",
              "4   17  Vocational/Cab Chassis"
            ]
          },
          "metadata": {
            "tags": []
          },
          "execution_count": 7
        }
      ]
    },
    {
      "cell_type": "markdown",
      "metadata": {
        "id": "N0Vvx6yb1T1I",
        "colab_type": "text"
      },
      "source": [
        "## I made a small Dataframe to identify the vehicle type by ID number."
      ]
    },
    {
      "cell_type": "code",
      "metadata": {
        "id": "YMG9BjKnAlpI",
        "colab_type": "code",
        "outputId": "6d4cd2df-8034-476e-fa0a-383e1aa0194a",
        "colab": {
          "base_uri": "https://localhost:8080/",
          "height": 275
        }
      },
      "source": [
        "car_C = car.copy()\n",
        "car_C = car_C[['Vehicle ID','Fuel ID','Fuel Configuration ID',\t'Manufacturer ID',\t'Category ID','Model Year',\n",
        "'Alternative Fuel Economy City',\t'Alternative Fuel Economy Highway',\t'Alternative Fuel Economy Combined',\t'Conventional Fuel Economy City',\n",
        "'Conventional Fuel Economy Highway',\t'Conventional Fuel Economy Combined','Engine Size',\t'Engine Cylinder Count',\t'Engine Description'\t]]\n",
        "car_C.tail()"
      ],
      "execution_count": 8,
      "outputs": [
        {
          "output_type": "execute_result",
          "data": {
            "text/html": [
              "<div>\n",
              "<style scoped>\n",
              "    .dataframe tbody tr th:only-of-type {\n",
              "        vertical-align: middle;\n",
              "    }\n",
              "\n",
              "    .dataframe tbody tr th {\n",
              "        vertical-align: top;\n",
              "    }\n",
              "\n",
              "    .dataframe thead th {\n",
              "        text-align: right;\n",
              "    }\n",
              "</style>\n",
              "<table border=\"1\" class=\"dataframe\">\n",
              "  <thead>\n",
              "    <tr style=\"text-align: right;\">\n",
              "      <th></th>\n",
              "      <th>Vehicle ID</th>\n",
              "      <th>Fuel ID</th>\n",
              "      <th>Fuel Configuration ID</th>\n",
              "      <th>Manufacturer ID</th>\n",
              "      <th>Category ID</th>\n",
              "      <th>Model Year</th>\n",
              "      <th>Alternative Fuel Economy City</th>\n",
              "      <th>Alternative Fuel Economy Highway</th>\n",
              "      <th>Alternative Fuel Economy Combined</th>\n",
              "      <th>Conventional Fuel Economy City</th>\n",
              "      <th>Conventional Fuel Economy Highway</th>\n",
              "      <th>Conventional Fuel Economy Combined</th>\n",
              "      <th>Engine Size</th>\n",
              "      <th>Engine Cylinder Count</th>\n",
              "      <th>Engine Description</th>\n",
              "    </tr>\n",
              "  </thead>\n",
              "  <tbody>\n",
              "    <tr>\n",
              "      <th>2364</th>\n",
              "      <td>656</td>\n",
              "      <td>3</td>\n",
              "      <td>1.0</td>\n",
              "      <td>225</td>\n",
              "      <td>9</td>\n",
              "      <td>1992</td>\n",
              "      <td>NaN</td>\n",
              "      <td>NaN</td>\n",
              "      <td>NaN</td>\n",
              "      <td>NaN</td>\n",
              "      <td>NaN</td>\n",
              "      <td>NaN</td>\n",
              "      <td>3.3 L</td>\n",
              "      <td>NaN</td>\n",
              "      <td>NaN</td>\n",
              "    </tr>\n",
              "    <tr>\n",
              "      <th>2365</th>\n",
              "      <td>660</td>\n",
              "      <td>49</td>\n",
              "      <td>5.0</td>\n",
              "      <td>225</td>\n",
              "      <td>27</td>\n",
              "      <td>1992</td>\n",
              "      <td>NaN</td>\n",
              "      <td>NaN</td>\n",
              "      <td>NaN</td>\n",
              "      <td>NaN</td>\n",
              "      <td>NaN</td>\n",
              "      <td>NaN</td>\n",
              "      <td>NaN</td>\n",
              "      <td>NaN</td>\n",
              "      <td>NaN</td>\n",
              "    </tr>\n",
              "    <tr>\n",
              "      <th>2366</th>\n",
              "      <td>658</td>\n",
              "      <td>49</td>\n",
              "      <td>5.0</td>\n",
              "      <td>219</td>\n",
              "      <td>9</td>\n",
              "      <td>1992</td>\n",
              "      <td>NaN</td>\n",
              "      <td>NaN</td>\n",
              "      <td>NaN</td>\n",
              "      <td>12.0</td>\n",
              "      <td>17.0</td>\n",
              "      <td>NaN</td>\n",
              "      <td>NaN</td>\n",
              "      <td>NaN</td>\n",
              "      <td>NaN</td>\n",
              "    </tr>\n",
              "    <tr>\n",
              "      <th>2367</th>\n",
              "      <td>650</td>\n",
              "      <td>49</td>\n",
              "      <td>5.0</td>\n",
              "      <td>215</td>\n",
              "      <td>27</td>\n",
              "      <td>1991</td>\n",
              "      <td>NaN</td>\n",
              "      <td>NaN</td>\n",
              "      <td>NaN</td>\n",
              "      <td>NaN</td>\n",
              "      <td>NaN</td>\n",
              "      <td>NaN</td>\n",
              "      <td>NaN</td>\n",
              "      <td>NaN</td>\n",
              "      <td>NaN</td>\n",
              "    </tr>\n",
              "    <tr>\n",
              "      <th>2368</th>\n",
              "      <td>649</td>\n",
              "      <td>49</td>\n",
              "      <td>5.0</td>\n",
              "      <td>219</td>\n",
              "      <td>27</td>\n",
              "      <td>1991</td>\n",
              "      <td>14.0</td>\n",
              "      <td>19.0</td>\n",
              "      <td>NaN</td>\n",
              "      <td>19.0</td>\n",
              "      <td>26.0</td>\n",
              "      <td>NaN</td>\n",
              "      <td>3.0 L</td>\n",
              "      <td>6.0</td>\n",
              "      <td>NaN</td>\n",
              "    </tr>\n",
              "  </tbody>\n",
              "</table>\n",
              "</div>"
            ],
            "text/plain": [
              "      Vehicle ID  Fuel ID  ...  Engine Cylinder Count  Engine Description\n",
              "2364         656        3  ...                    NaN                 NaN\n",
              "2365         660       49  ...                    NaN                 NaN\n",
              "2366         658       49  ...                    NaN                 NaN\n",
              "2367         650       49  ...                    NaN                 NaN\n",
              "2368         649       49  ...                    6.0                 NaN\n",
              "\n",
              "[5 rows x 15 columns]"
            ]
          },
          "metadata": {
            "tags": []
          },
          "execution_count": 8
        }
      ]
    },
    {
      "cell_type": "markdown",
      "metadata": {
        "id": "n_ID2Lff1fLi",
        "colab_type": "text"
      },
      "source": [
        "## This is where I reduced the columns to only the ones that gave numeric information as well as gave a value for most of the rows. \n",
        "\n",
        "##This allowed me to view the new dataframe and make sense of the information I was seeing much more quickly."
      ]
    },
    {
      "cell_type": "code",
      "metadata": {
        "id": "mhW4ZGrRH3Mw",
        "colab_type": "code",
        "outputId": "ca6b1a79-350e-48fd-db08-740c7b6401d7",
        "colab": {
          "base_uri": "https://localhost:8080/",
          "height": 275
        }
      },
      "source": [
        "Cur_car = car_C[car_C['Model Year']>=2000]\n",
        "Ant_car = car_C[car_C['Model Year']<=1999].reset_index()\n",
        "Ant_car.head()"
      ],
      "execution_count": 9,
      "outputs": [
        {
          "output_type": "execute_result",
          "data": {
            "text/html": [
              "<div>\n",
              "<style scoped>\n",
              "    .dataframe tbody tr th:only-of-type {\n",
              "        vertical-align: middle;\n",
              "    }\n",
              "\n",
              "    .dataframe tbody tr th {\n",
              "        vertical-align: top;\n",
              "    }\n",
              "\n",
              "    .dataframe thead th {\n",
              "        text-align: right;\n",
              "    }\n",
              "</style>\n",
              "<table border=\"1\" class=\"dataframe\">\n",
              "  <thead>\n",
              "    <tr style=\"text-align: right;\">\n",
              "      <th></th>\n",
              "      <th>index</th>\n",
              "      <th>Vehicle ID</th>\n",
              "      <th>Fuel ID</th>\n",
              "      <th>Fuel Configuration ID</th>\n",
              "      <th>Manufacturer ID</th>\n",
              "      <th>Category ID</th>\n",
              "      <th>Model Year</th>\n",
              "      <th>Alternative Fuel Economy City</th>\n",
              "      <th>Alternative Fuel Economy Highway</th>\n",
              "      <th>Alternative Fuel Economy Combined</th>\n",
              "      <th>Conventional Fuel Economy City</th>\n",
              "      <th>Conventional Fuel Economy Highway</th>\n",
              "      <th>Conventional Fuel Economy Combined</th>\n",
              "      <th>Engine Size</th>\n",
              "      <th>Engine Cylinder Count</th>\n",
              "      <th>Engine Description</th>\n",
              "    </tr>\n",
              "  </thead>\n",
              "  <tbody>\n",
              "    <tr>\n",
              "      <th>0</th>\n",
              "      <td>2240</td>\n",
              "      <td>45</td>\n",
              "      <td>3</td>\n",
              "      <td>3.0</td>\n",
              "      <td>215</td>\n",
              "      <td>27</td>\n",
              "      <td>1999</td>\n",
              "      <td>20.0</td>\n",
              "      <td>26.0</td>\n",
              "      <td>NaN</td>\n",
              "      <td>22.0</td>\n",
              "      <td>26.0</td>\n",
              "      <td>NaN</td>\n",
              "      <td>2.2 L</td>\n",
              "      <td>4.0</td>\n",
              "      <td>NaN</td>\n",
              "    </tr>\n",
              "    <tr>\n",
              "      <th>1</th>\n",
              "      <td>2241</td>\n",
              "      <td>46</td>\n",
              "      <td>3</td>\n",
              "      <td>3.0</td>\n",
              "      <td>215</td>\n",
              "      <td>25</td>\n",
              "      <td>1999</td>\n",
              "      <td>12.3</td>\n",
              "      <td>22.1</td>\n",
              "      <td>NaN</td>\n",
              "      <td>12.3</td>\n",
              "      <td>22.1</td>\n",
              "      <td>NaN</td>\n",
              "      <td>5.7 L</td>\n",
              "      <td>8.0</td>\n",
              "      <td>NaN</td>\n",
              "    </tr>\n",
              "    <tr>\n",
              "      <th>2</th>\n",
              "      <td>2242</td>\n",
              "      <td>44</td>\n",
              "      <td>41</td>\n",
              "      <td>1.0</td>\n",
              "      <td>215</td>\n",
              "      <td>25</td>\n",
              "      <td>1999</td>\n",
              "      <td>45.0</td>\n",
              "      <td>41.0</td>\n",
              "      <td>NaN</td>\n",
              "      <td>16.0</td>\n",
              "      <td>21.0</td>\n",
              "      <td>NaN</td>\n",
              "      <td>NaN</td>\n",
              "      <td>NaN</td>\n",
              "      <td>NaN</td>\n",
              "    </tr>\n",
              "    <tr>\n",
              "      <th>3</th>\n",
              "      <td>2243</td>\n",
              "      <td>53</td>\n",
              "      <td>41</td>\n",
              "      <td>1.0</td>\n",
              "      <td>215</td>\n",
              "      <td>25</td>\n",
              "      <td>1999</td>\n",
              "      <td>94.0</td>\n",
              "      <td>86.0</td>\n",
              "      <td>NaN</td>\n",
              "      <td>16.0</td>\n",
              "      <td>21.0</td>\n",
              "      <td>NaN</td>\n",
              "      <td>NaN</td>\n",
              "      <td>NaN</td>\n",
              "      <td>NaN</td>\n",
              "    </tr>\n",
              "    <tr>\n",
              "      <th>4</th>\n",
              "      <td>2244</td>\n",
              "      <td>23</td>\n",
              "      <td>41</td>\n",
              "      <td>1.0</td>\n",
              "      <td>223</td>\n",
              "      <td>9</td>\n",
              "      <td>1999</td>\n",
              "      <td>67.0</td>\n",
              "      <td>73.0</td>\n",
              "      <td>NaN</td>\n",
              "      <td>20.0</td>\n",
              "      <td>26.0</td>\n",
              "      <td>NaN</td>\n",
              "      <td>NaN</td>\n",
              "      <td>NaN</td>\n",
              "      <td>NaN</td>\n",
              "    </tr>\n",
              "  </tbody>\n",
              "</table>\n",
              "</div>"
            ],
            "text/plain": [
              "   index  Vehicle ID  ...  Engine Cylinder Count  Engine Description\n",
              "0   2240          45  ...                    4.0                 NaN\n",
              "1   2241          46  ...                    8.0                 NaN\n",
              "2   2242          44  ...                    NaN                 NaN\n",
              "3   2243          53  ...                    NaN                 NaN\n",
              "4   2244          23  ...                    NaN                 NaN\n",
              "\n",
              "[5 rows x 16 columns]"
            ]
          },
          "metadata": {
            "tags": []
          },
          "execution_count": 9
        }
      ]
    },
    {
      "cell_type": "markdown",
      "metadata": {
        "id": "DOuTgivX1-WJ",
        "colab_type": "text"
      },
      "source": [
        "## Here I decided to split the dataframe into models that were produced before the year 2000 and after.\n",
        "\n",
        "## I felt that the past 20 years would have a majority of the data and make for much cleaner visualizations.\n",
        "\n",
        "## I also checked to make sure I was keeping a bulk of the data."
      ]
    },
    {
      "cell_type": "code",
      "metadata": {
        "id": "-wRP7_9wLH0P",
        "colab_type": "code",
        "outputId": "e9d3d88e-738a-4ee4-ebf3-cf4223569e9e",
        "colab": {
          "base_uri": "https://localhost:8080/",
          "height": 221
        }
      },
      "source": [
        "Cur_car['Fuel ID'].value_counts()"
      ],
      "execution_count": 10,
      "outputs": [
        {
          "output_type": "execute_result",
          "data": {
            "text/plain": [
              "11    875\n",
              "45    527\n",
              "41    216\n",
              "57    181\n",
              "3     161\n",
              "35    148\n",
              "55     58\n",
              "37     29\n",
              "9      26\n",
              "39     18\n",
              "53      1\n",
              "Name: Fuel ID, dtype: int64"
            ]
          },
          "metadata": {
            "tags": []
          },
          "execution_count": 10
        }
      ]
    },
    {
      "cell_type": "code",
      "metadata": {
        "id": "MRQm1lN0Lib1",
        "colab_type": "code",
        "outputId": "1ee7d8dd-bb93-434e-d4ec-b25de91e42b9",
        "colab": {
          "base_uri": "https://localhost:8080/",
          "height": 119
        }
      },
      "source": [
        "Ant_car['Fuel ID'].value_counts()"
      ],
      "execution_count": 11,
      "outputs": [
        {
          "output_type": "execute_result",
          "data": {
            "text/plain": [
              "3     63\n",
              "41    28\n",
              "49    14\n",
              "11    13\n",
              "55    11\n",
              "Name: Fuel ID, dtype: int64"
            ]
          },
          "metadata": {
            "tags": []
          },
          "execution_count": 11
        }
      ]
    },
    {
      "cell_type": "code",
      "metadata": {
        "id": "c1BEmtqySEzv",
        "colab_type": "code",
        "outputId": "0cd0113d-46fa-4126-ed45-f4dd810a43ff",
        "colab": {
          "base_uri": "https://localhost:8080/",
          "height": 204
        }
      },
      "source": [
        "Cur_car[['Alternative Fuel Economy City','Alternative Fuel Economy Highway','Alternative Fuel Economy Combined']].dropna().head()"
      ],
      "execution_count": 12,
      "outputs": [
        {
          "output_type": "execute_result",
          "data": {
            "text/html": [
              "<div>\n",
              "<style scoped>\n",
              "    .dataframe tbody tr th:only-of-type {\n",
              "        vertical-align: middle;\n",
              "    }\n",
              "\n",
              "    .dataframe tbody tr th {\n",
              "        vertical-align: top;\n",
              "    }\n",
              "\n",
              "    .dataframe thead th {\n",
              "        text-align: right;\n",
              "    }\n",
              "</style>\n",
              "<table border=\"1\" class=\"dataframe\">\n",
              "  <thead>\n",
              "    <tr style=\"text-align: right;\">\n",
              "      <th></th>\n",
              "      <th>Alternative Fuel Economy City</th>\n",
              "      <th>Alternative Fuel Economy Highway</th>\n",
              "      <th>Alternative Fuel Economy Combined</th>\n",
              "    </tr>\n",
              "  </thead>\n",
              "  <tbody>\n",
              "    <tr>\n",
              "      <th>10</th>\n",
              "      <td>78.0</td>\n",
              "      <td>78.0</td>\n",
              "      <td>78.0</td>\n",
              "    </tr>\n",
              "    <tr>\n",
              "      <th>11</th>\n",
              "      <td>76.0</td>\n",
              "      <td>78.0</td>\n",
              "      <td>77.0</td>\n",
              "    </tr>\n",
              "    <tr>\n",
              "      <th>22</th>\n",
              "      <td>124.0</td>\n",
              "      <td>102.0</td>\n",
              "      <td>113.0</td>\n",
              "    </tr>\n",
              "    <tr>\n",
              "      <th>23</th>\n",
              "      <td>124.0</td>\n",
              "      <td>102.0</td>\n",
              "      <td>113.0</td>\n",
              "    </tr>\n",
              "    <tr>\n",
              "      <th>29</th>\n",
              "      <td>73.0</td>\n",
              "      <td>71.0</td>\n",
              "      <td>72.0</td>\n",
              "    </tr>\n",
              "  </tbody>\n",
              "</table>\n",
              "</div>"
            ],
            "text/plain": [
              "    Alternative Fuel Economy City  ...  Alternative Fuel Economy Combined\n",
              "10                           78.0  ...                               78.0\n",
              "11                           76.0  ...                               77.0\n",
              "22                          124.0  ...                              113.0\n",
              "23                          124.0  ...                              113.0\n",
              "29                           73.0  ...                               72.0\n",
              "\n",
              "[5 rows x 3 columns]"
            ]
          },
          "metadata": {
            "tags": []
          },
          "execution_count": 12
        }
      ]
    },
    {
      "cell_type": "code",
      "metadata": {
        "id": "ixZUpbUyU3pq",
        "colab_type": "code",
        "outputId": "e44cb55a-e157-4d6e-df9c-6301002e5e9f",
        "colab": {
          "base_uri": "https://localhost:8080/",
          "height": 68
        }
      },
      "source": [
        "Ant_car['Alternative Fuel Economy Combined']= Ant_car[['Alternative Fuel Economy City','Alternative Fuel Economy Highway']].mean(axis=1)\n",
        "Ant_car['Alternative Fuel Economy Combined'].isnull().value_counts()"
      ],
      "execution_count": 13,
      "outputs": [
        {
          "output_type": "execute_result",
          "data": {
            "text/plain": [
              "False    105\n",
              "True      24\n",
              "Name: Alternative Fuel Economy Combined, dtype: int64"
            ]
          },
          "metadata": {
            "tags": []
          },
          "execution_count": 13
        }
      ]
    },
    {
      "cell_type": "code",
      "metadata": {
        "id": "q0RIwWiGiEe2",
        "colab_type": "code",
        "outputId": "a57eeef1-1649-4f72-b74e-7c0c0f03527f",
        "colab": {
          "base_uri": "https://localhost:8080/",
          "height": 275
        }
      },
      "source": [
        "Ant_car.head()"
      ],
      "execution_count": 14,
      "outputs": [
        {
          "output_type": "execute_result",
          "data": {
            "text/html": [
              "<div>\n",
              "<style scoped>\n",
              "    .dataframe tbody tr th:only-of-type {\n",
              "        vertical-align: middle;\n",
              "    }\n",
              "\n",
              "    .dataframe tbody tr th {\n",
              "        vertical-align: top;\n",
              "    }\n",
              "\n",
              "    .dataframe thead th {\n",
              "        text-align: right;\n",
              "    }\n",
              "</style>\n",
              "<table border=\"1\" class=\"dataframe\">\n",
              "  <thead>\n",
              "    <tr style=\"text-align: right;\">\n",
              "      <th></th>\n",
              "      <th>index</th>\n",
              "      <th>Vehicle ID</th>\n",
              "      <th>Fuel ID</th>\n",
              "      <th>Fuel Configuration ID</th>\n",
              "      <th>Manufacturer ID</th>\n",
              "      <th>Category ID</th>\n",
              "      <th>Model Year</th>\n",
              "      <th>Alternative Fuel Economy City</th>\n",
              "      <th>Alternative Fuel Economy Highway</th>\n",
              "      <th>Alternative Fuel Economy Combined</th>\n",
              "      <th>Conventional Fuel Economy City</th>\n",
              "      <th>Conventional Fuel Economy Highway</th>\n",
              "      <th>Conventional Fuel Economy Combined</th>\n",
              "      <th>Engine Size</th>\n",
              "      <th>Engine Cylinder Count</th>\n",
              "      <th>Engine Description</th>\n",
              "    </tr>\n",
              "  </thead>\n",
              "  <tbody>\n",
              "    <tr>\n",
              "      <th>0</th>\n",
              "      <td>2240</td>\n",
              "      <td>45</td>\n",
              "      <td>3</td>\n",
              "      <td>3.0</td>\n",
              "      <td>215</td>\n",
              "      <td>27</td>\n",
              "      <td>1999</td>\n",
              "      <td>20.0</td>\n",
              "      <td>26.0</td>\n",
              "      <td>23.0</td>\n",
              "      <td>22.0</td>\n",
              "      <td>26.0</td>\n",
              "      <td>NaN</td>\n",
              "      <td>2.2 L</td>\n",
              "      <td>4.0</td>\n",
              "      <td>NaN</td>\n",
              "    </tr>\n",
              "    <tr>\n",
              "      <th>1</th>\n",
              "      <td>2241</td>\n",
              "      <td>46</td>\n",
              "      <td>3</td>\n",
              "      <td>3.0</td>\n",
              "      <td>215</td>\n",
              "      <td>25</td>\n",
              "      <td>1999</td>\n",
              "      <td>12.3</td>\n",
              "      <td>22.1</td>\n",
              "      <td>17.2</td>\n",
              "      <td>12.3</td>\n",
              "      <td>22.1</td>\n",
              "      <td>NaN</td>\n",
              "      <td>5.7 L</td>\n",
              "      <td>8.0</td>\n",
              "      <td>NaN</td>\n",
              "    </tr>\n",
              "    <tr>\n",
              "      <th>2</th>\n",
              "      <td>2242</td>\n",
              "      <td>44</td>\n",
              "      <td>41</td>\n",
              "      <td>1.0</td>\n",
              "      <td>215</td>\n",
              "      <td>25</td>\n",
              "      <td>1999</td>\n",
              "      <td>45.0</td>\n",
              "      <td>41.0</td>\n",
              "      <td>43.0</td>\n",
              "      <td>16.0</td>\n",
              "      <td>21.0</td>\n",
              "      <td>NaN</td>\n",
              "      <td>NaN</td>\n",
              "      <td>NaN</td>\n",
              "      <td>NaN</td>\n",
              "    </tr>\n",
              "    <tr>\n",
              "      <th>3</th>\n",
              "      <td>2243</td>\n",
              "      <td>53</td>\n",
              "      <td>41</td>\n",
              "      <td>1.0</td>\n",
              "      <td>215</td>\n",
              "      <td>25</td>\n",
              "      <td>1999</td>\n",
              "      <td>94.0</td>\n",
              "      <td>86.0</td>\n",
              "      <td>90.0</td>\n",
              "      <td>16.0</td>\n",
              "      <td>21.0</td>\n",
              "      <td>NaN</td>\n",
              "      <td>NaN</td>\n",
              "      <td>NaN</td>\n",
              "      <td>NaN</td>\n",
              "    </tr>\n",
              "    <tr>\n",
              "      <th>4</th>\n",
              "      <td>2244</td>\n",
              "      <td>23</td>\n",
              "      <td>41</td>\n",
              "      <td>1.0</td>\n",
              "      <td>223</td>\n",
              "      <td>9</td>\n",
              "      <td>1999</td>\n",
              "      <td>67.0</td>\n",
              "      <td>73.0</td>\n",
              "      <td>70.0</td>\n",
              "      <td>20.0</td>\n",
              "      <td>26.0</td>\n",
              "      <td>NaN</td>\n",
              "      <td>NaN</td>\n",
              "      <td>NaN</td>\n",
              "      <td>NaN</td>\n",
              "    </tr>\n",
              "  </tbody>\n",
              "</table>\n",
              "</div>"
            ],
            "text/plain": [
              "   index  Vehicle ID  ...  Engine Cylinder Count  Engine Description\n",
              "0   2240          45  ...                    4.0                 NaN\n",
              "1   2241          46  ...                    8.0                 NaN\n",
              "2   2242          44  ...                    NaN                 NaN\n",
              "3   2243          53  ...                    NaN                 NaN\n",
              "4   2244          23  ...                    NaN                 NaN\n",
              "\n",
              "[5 rows x 16 columns]"
            ]
          },
          "metadata": {
            "tags": []
          },
          "execution_count": 14
        }
      ]
    },
    {
      "cell_type": "markdown",
      "metadata": {
        "id": "_vGyPitl2nGT",
        "colab_type": "text"
      },
      "source": [
        "## Here I tested a formula to fill in some missing values for the combined fuel economy data, as I determined it was just derived from the city and highway economy averaged together I just used the present data to fill the rest in following that formula."
      ]
    },
    {
      "cell_type": "code",
      "metadata": {
        "id": "6ioVLcDdpSSV",
        "colab_type": "code",
        "colab": {}
      },
      "source": [
        "Cur_car = Cur_car.drop([2060,2106])\n",
        "# I dropped these values as they were clearly recorded in error with values 10 times the average.\n",
        "# After doing some research I found that the record was a prototype that got 375 miles per charge.\n",
        "# The recorded value is incorrect even if using miles per charge and not even the converted value."
      ],
      "execution_count": 0,
      "outputs": []
    },
    {
      "cell_type": "code",
      "metadata": {
        "id": "s4fQmrImlEsx",
        "colab_type": "code",
        "colab": {}
      },
      "source": [
        "Cur_car['Alternative Fuel Economy Combined']= Cur_car[['Alternative Fuel Economy City','Alternative Fuel Economy Highway']].mean(axis=1)\n",
        "Cur_car['Alternative Fuel Economy Combined'].isnull().value_counts()\n",
        "Econ_cur = Cur_car[Cur_car['Alternative Fuel Economy Combined']!=(np.NaN)]"
      ],
      "execution_count": 0,
      "outputs": []
    },
    {
      "cell_type": "code",
      "metadata": {
        "id": "s6STyPGKmm0j",
        "colab_type": "code",
        "outputId": "c5b1e7a5-fea8-45b3-92a6-02c24c1b9790",
        "colab": {
          "base_uri": "https://localhost:8080/",
          "height": 221
        }
      },
      "source": [
        "Econ_cur['Alternative Fuel Economy Combined'].sort_values(ascending=False)"
      ],
      "execution_count": 17,
      "outputs": [
        {
          "output_type": "execute_result",
          "data": {
            "text/plain": [
              "156     144.5\n",
              "699     136.0\n",
              "291     136.0\n",
              "519     136.0\n",
              "782     133.0\n",
              "        ...  \n",
              "2220      NaN\n",
              "2224      NaN\n",
              "2228      NaN\n",
              "2235      NaN\n",
              "2237      NaN\n",
              "Name: Alternative Fuel Economy Combined, Length: 2238, dtype: float64"
            ]
          },
          "metadata": {
            "tags": []
          },
          "execution_count": 17
        }
      ]
    },
    {
      "cell_type": "code",
      "metadata": {
        "id": "Fv8h0mqXkYFc",
        "colab_type": "code",
        "colab": {}
      },
      "source": [
        "Cur_car['Conventional Fuel Economy Combined'] = Cur_car[['Conventional Fuel Economy City','Alternative Fuel Economy Highway']].mean(axis=1)\n",
        "Cur_car['Alternative Fuel Economy Combined'].isnull().value_counts()\n",
        "Econ_C_cur = Cur_car[Cur_car['Conventional Fuel Economy Combined']!=np.NaN]"
      ],
      "execution_count": 0,
      "outputs": []
    },
    {
      "cell_type": "code",
      "metadata": {
        "id": "_Ogd092yz1JP",
        "colab_type": "code",
        "outputId": "9ff6d620-43cf-42d4-c220-dee2192786bb",
        "colab": {
          "base_uri": "https://localhost:8080/",
          "height": 700
        }
      },
      "source": [
        "model_yr = Cur_car['Model Year'].unique()\n",
        "yr_grp = Cur_car.groupby('Model Year', as_index=False)['Alternative Fuel Economy Combined'].mean()\n",
        "yr_grp"
      ],
      "execution_count": 19,
      "outputs": [
        {
          "output_type": "execute_result",
          "data": {
            "text/html": [
              "<div>\n",
              "<style scoped>\n",
              "    .dataframe tbody tr th:only-of-type {\n",
              "        vertical-align: middle;\n",
              "    }\n",
              "\n",
              "    .dataframe tbody tr th {\n",
              "        vertical-align: top;\n",
              "    }\n",
              "\n",
              "    .dataframe thead th {\n",
              "        text-align: right;\n",
              "    }\n",
              "</style>\n",
              "<table border=\"1\" class=\"dataframe\">\n",
              "  <thead>\n",
              "    <tr style=\"text-align: right;\">\n",
              "      <th></th>\n",
              "      <th>Model Year</th>\n",
              "      <th>Alternative Fuel Economy Combined</th>\n",
              "    </tr>\n",
              "  </thead>\n",
              "  <tbody>\n",
              "    <tr>\n",
              "      <th>0</th>\n",
              "      <td>2000</td>\n",
              "      <td>28.609677</td>\n",
              "    </tr>\n",
              "    <tr>\n",
              "      <th>1</th>\n",
              "      <td>2001</td>\n",
              "      <td>22.790385</td>\n",
              "    </tr>\n",
              "    <tr>\n",
              "      <th>2</th>\n",
              "      <td>2002</td>\n",
              "      <td>19.770270</td>\n",
              "    </tr>\n",
              "    <tr>\n",
              "      <th>3</th>\n",
              "      <td>2003</td>\n",
              "      <td>19.329268</td>\n",
              "    </tr>\n",
              "    <tr>\n",
              "      <th>4</th>\n",
              "      <td>2004</td>\n",
              "      <td>18.794872</td>\n",
              "    </tr>\n",
              "    <tr>\n",
              "      <th>5</th>\n",
              "      <td>2005</td>\n",
              "      <td>21.111111</td>\n",
              "    </tr>\n",
              "    <tr>\n",
              "      <th>6</th>\n",
              "      <td>2006</td>\n",
              "      <td>20.263889</td>\n",
              "    </tr>\n",
              "    <tr>\n",
              "      <th>7</th>\n",
              "      <td>2007</td>\n",
              "      <td>20.826087</td>\n",
              "    </tr>\n",
              "    <tr>\n",
              "      <th>8</th>\n",
              "      <td>2008</td>\n",
              "      <td>19.520408</td>\n",
              "    </tr>\n",
              "    <tr>\n",
              "      <th>9</th>\n",
              "      <td>2009</td>\n",
              "      <td>19.383929</td>\n",
              "    </tr>\n",
              "    <tr>\n",
              "      <th>10</th>\n",
              "      <td>2010</td>\n",
              "      <td>20.277778</td>\n",
              "    </tr>\n",
              "    <tr>\n",
              "      <th>11</th>\n",
              "      <td>2011</td>\n",
              "      <td>18.611204</td>\n",
              "    </tr>\n",
              "    <tr>\n",
              "      <th>12</th>\n",
              "      <td>2012</td>\n",
              "      <td>22.567164</td>\n",
              "    </tr>\n",
              "    <tr>\n",
              "      <th>13</th>\n",
              "      <td>2013</td>\n",
              "      <td>25.561111</td>\n",
              "    </tr>\n",
              "    <tr>\n",
              "      <th>14</th>\n",
              "      <td>2014</td>\n",
              "      <td>28.967033</td>\n",
              "    </tr>\n",
              "    <tr>\n",
              "      <th>15</th>\n",
              "      <td>2015</td>\n",
              "      <td>35.472222</td>\n",
              "    </tr>\n",
              "    <tr>\n",
              "      <th>16</th>\n",
              "      <td>2016</td>\n",
              "      <td>46.135294</td>\n",
              "    </tr>\n",
              "    <tr>\n",
              "      <th>17</th>\n",
              "      <td>2017</td>\n",
              "      <td>56.224719</td>\n",
              "    </tr>\n",
              "    <tr>\n",
              "      <th>18</th>\n",
              "      <td>2018</td>\n",
              "      <td>54.173077</td>\n",
              "    </tr>\n",
              "    <tr>\n",
              "      <th>19</th>\n",
              "      <td>2019</td>\n",
              "      <td>59.670886</td>\n",
              "    </tr>\n",
              "    <tr>\n",
              "      <th>20</th>\n",
              "      <td>2020</td>\n",
              "      <td>66.362903</td>\n",
              "    </tr>\n",
              "  </tbody>\n",
              "</table>\n",
              "</div>"
            ],
            "text/plain": [
              "    Model Year  Alternative Fuel Economy Combined\n",
              "0         2000                          28.609677\n",
              "1         2001                          22.790385\n",
              "2         2002                          19.770270\n",
              "3         2003                          19.329268\n",
              "4         2004                          18.794872\n",
              "5         2005                          21.111111\n",
              "6         2006                          20.263889\n",
              "7         2007                          20.826087\n",
              "8         2008                          19.520408\n",
              "9         2009                          19.383929\n",
              "10        2010                          20.277778\n",
              "11        2011                          18.611204\n",
              "12        2012                          22.567164\n",
              "13        2013                          25.561111\n",
              "14        2014                          28.967033\n",
              "15        2015                          35.472222\n",
              "16        2016                          46.135294\n",
              "17        2017                          56.224719\n",
              "18        2018                          54.173077\n",
              "19        2019                          59.670886\n",
              "20        2020                          66.362903"
            ]
          },
          "metadata": {
            "tags": []
          },
          "execution_count": 19
        }
      ]
    },
    {
      "cell_type": "markdown",
      "metadata": {
        "id": "mlVnMOqS3Hbo",
        "colab_type": "text"
      },
      "source": [
        "## I found online a great way to average values together based on a shared value in a seperate column and used it to make a dataframe useful to show an average efficiency value for each year."
      ]
    },
    {
      "cell_type": "code",
      "metadata": {
        "id": "X3dEameYQfn7",
        "colab_type": "code",
        "outputId": "37949c35-62d3-4e84-b1b0-604b92ad83d4",
        "colab": {
          "base_uri": "https://localhost:8080/",
          "height": 360
        }
      },
      "source": [
        "#Alternative Fuel economy for modern cars by year\n",
        "plt.scatter(x=Econ_cur['Model Year'],y=Econ_cur['Alternative Fuel Economy Combined'], alpha = .3)\n",
        "plt.plot(yr_grp['Model Year'],yr_grp['Alternative Fuel Economy Combined'],color ='black', label ='Average Fuel Economy')\n",
        "plt.legend()\n",
        "plt.title('Fuel Efficiency of Alternative Energy Vehicles 2000 - 2020',fontsize=17,y = 1.2)\n",
        "plt.xticks(range(2000,2021,1),rotation=70)\n",
        "plt.xlabel('Year of Production',fontsize = 11)\n",
        "plt.ylabel('Fuel Efficiency in Miles per Gallon')\n",
        "plt.show()"
      ],
      "execution_count": 20,
      "outputs": [
        {
          "output_type": "display_data",
          "data": {
            "image/png": "[encoded data removed]",
            "text/plain": [
              "<Figure size 432x288 with 1 Axes>"
            ]
          },
          "metadata": {
            "tags": [],
            "needs_background": "light"
          }
        }
      ]
    },
    {
      "cell_type": "markdown",
      "metadata": {
        "id": "PGzU5pHABSOc",
        "colab_type": "text"
      },
      "source": [
        "##Despite the majority of vehicles still performing at or under 20 miles per gallon the average fuel economy of alternative energy vehicles appears to be increasing taking a visible turn upward around the year 2011. "
      ]
    },
    {
      "cell_type": "markdown",
      "metadata": {
        "id": "hN-T1oUi3fB1",
        "colab_type": "text"
      },
      "source": [
        "### I graphed the data by year on a scatterplot to show the spread of values for efficiency. I then went back and made the average by year and used a line graph to show an average trend."
      ]
    },
    {
      "cell_type": "code",
      "metadata": {
        "id": "olyKJQyMlar5",
        "colab_type": "code",
        "outputId": "1d28eb58-1d4f-4853-b45e-2a907e84ee59",
        "colab": {
          "base_uri": "https://localhost:8080/",
          "height": 265
        }
      },
      "source": [
        "# Conventional Fuel economy for modern cars by year\n",
        "plt.scatter(Econ_C_cur['Model Year'],Econ_C_cur['Conventional Fuel Economy Combined']);"
      ],
      "execution_count": 21,
      "outputs": [
        {
          "output_type": "display_data",
          "data": {
            "image/png": "[encoded data removed]",
            "text/plain": [
              "<Figure size 432x288 with 1 Axes>"
            ]
          },
          "metadata": {
            "tags": [],
            "needs_background": "light"
          }
        }
      ]
    },
    {
      "cell_type": "markdown",
      "metadata": {
        "id": "ACoEkTkG359E",
        "colab_type": "text"
      },
      "source": [
        "### This was a test to see what the conventional fuel economy was doing but it seemed to be blurred together with the alternative energy values and I decided not to use it."
      ]
    },
    {
      "cell_type": "code",
      "metadata": {
        "id": "-fm0oaB0FwxD",
        "colab_type": "code",
        "outputId": "96910932-3e37-4bed-c7df-2dca76726ca7",
        "colab": {
          "base_uri": "https://localhost:8080/",
          "height": 275
        }
      },
      "source": [
        "df1= Cur_car[Cur_car['Fuel ID']==11]\n",
        "df2= Cur_car[Cur_car['Fuel ID']==3]\n",
        "df3=Cur_car[Cur_car['Fuel ID']==35]\n",
        "df4=Cur_car[Cur_car['Fuel ID']==55]\n",
        "df5=Cur_car[Cur_car['Fuel ID']==37]\n",
        "df6=Cur_car[Cur_car['Fuel ID']==39]\n",
        "df7=Cur_car[Cur_car['Fuel ID']==49]\n",
        "combust = pd.concat([df1,df2,df3,df4,df5,df6,df7])\n",
        "combust.head()"
      ],
      "execution_count": 22,
      "outputs": [
        {
          "output_type": "execute_result",
          "data": {
            "text/html": [
              "<div>\n",
              "<style scoped>\n",
              "    .dataframe tbody tr th:only-of-type {\n",
              "        vertical-align: middle;\n",
              "    }\n",
              "\n",
              "    .dataframe tbody tr th {\n",
              "        vertical-align: top;\n",
              "    }\n",
              "\n",
              "    .dataframe thead th {\n",
              "        text-align: right;\n",
              "    }\n",
              "</style>\n",
              "<table border=\"1\" class=\"dataframe\">\n",
              "  <thead>\n",
              "    <tr style=\"text-align: right;\">\n",
              "      <th></th>\n",
              "      <th>Vehicle ID</th>\n",
              "      <th>Fuel ID</th>\n",
              "      <th>Fuel Configuration ID</th>\n",
              "      <th>Manufacturer ID</th>\n",
              "      <th>Category ID</th>\n",
              "      <th>Model Year</th>\n",
              "      <th>Alternative Fuel Economy City</th>\n",
              "      <th>Alternative Fuel Economy Highway</th>\n",
              "      <th>Alternative Fuel Economy Combined</th>\n",
              "      <th>Conventional Fuel Economy City</th>\n",
              "      <th>Conventional Fuel Economy Highway</th>\n",
              "      <th>Conventional Fuel Economy Combined</th>\n",
              "      <th>Engine Size</th>\n",
              "      <th>Engine Cylinder Count</th>\n",
              "      <th>Engine Description</th>\n",
              "    </tr>\n",
              "  </thead>\n",
              "  <tbody>\n",
              "    <tr>\n",
              "      <th>34</th>\n",
              "      <td>12301</td>\n",
              "      <td>11</td>\n",
              "      <td>5.0</td>\n",
              "      <td>215</td>\n",
              "      <td>27</td>\n",
              "      <td>2020</td>\n",
              "      <td>14.0</td>\n",
              "      <td>20.0</td>\n",
              "      <td>17.0</td>\n",
              "      <td>18.0</td>\n",
              "      <td>28.0</td>\n",
              "      <td>19.0</td>\n",
              "      <td>3.6L</td>\n",
              "      <td>6.0</td>\n",
              "      <td>3.6L V6</td>\n",
              "    </tr>\n",
              "    <tr>\n",
              "      <th>35</th>\n",
              "      <td>12303</td>\n",
              "      <td>11</td>\n",
              "      <td>5.0</td>\n",
              "      <td>215</td>\n",
              "      <td>25</td>\n",
              "      <td>2020</td>\n",
              "      <td>11.0</td>\n",
              "      <td>14.0</td>\n",
              "      <td>12.5</td>\n",
              "      <td>15.0</td>\n",
              "      <td>19.0</td>\n",
              "      <td>14.5</td>\n",
              "      <td>5.3L</td>\n",
              "      <td>8.0</td>\n",
              "      <td>5.3L V8</td>\n",
              "    </tr>\n",
              "    <tr>\n",
              "      <th>38</th>\n",
              "      <td>12302</td>\n",
              "      <td>11</td>\n",
              "      <td>5.0</td>\n",
              "      <td>215</td>\n",
              "      <td>25</td>\n",
              "      <td>2020</td>\n",
              "      <td>11.0</td>\n",
              "      <td>13.0</td>\n",
              "      <td>12.0</td>\n",
              "      <td>14.0</td>\n",
              "      <td>18.0</td>\n",
              "      <td>13.5</td>\n",
              "      <td>5.3L</td>\n",
              "      <td>8.0</td>\n",
              "      <td>5.3L V8</td>\n",
              "    </tr>\n",
              "    <tr>\n",
              "      <th>39</th>\n",
              "      <td>12269</td>\n",
              "      <td>11</td>\n",
              "      <td>5.0</td>\n",
              "      <td>215</td>\n",
              "      <td>29</td>\n",
              "      <td>2020</td>\n",
              "      <td>11.0</td>\n",
              "      <td>17.0</td>\n",
              "      <td>14.0</td>\n",
              "      <td>15.0</td>\n",
              "      <td>22.0</td>\n",
              "      <td>16.0</td>\n",
              "      <td>5.3L</td>\n",
              "      <td>8.0</td>\n",
              "      <td>5.3L V8</td>\n",
              "    </tr>\n",
              "    <tr>\n",
              "      <th>40</th>\n",
              "      <td>12270</td>\n",
              "      <td>11</td>\n",
              "      <td>5.0</td>\n",
              "      <td>215</td>\n",
              "      <td>29</td>\n",
              "      <td>2020</td>\n",
              "      <td>11.0</td>\n",
              "      <td>16.0</td>\n",
              "      <td>13.5</td>\n",
              "      <td>14.0</td>\n",
              "      <td>21.0</td>\n",
              "      <td>15.0</td>\n",
              "      <td>5.3L</td>\n",
              "      <td>8.0</td>\n",
              "      <td>5.3L V8</td>\n",
              "    </tr>\n",
              "  </tbody>\n",
              "</table>\n",
              "</div>"
            ],
            "text/plain": [
              "    Vehicle ID  Fuel ID  ...  Engine Cylinder Count  Engine Description\n",
              "34       12301       11  ...                    6.0             3.6L V6\n",
              "35       12303       11  ...                    8.0             5.3L V8\n",
              "38       12302       11  ...                    8.0             5.3L V8\n",
              "39       12269       11  ...                    8.0             5.3L V8\n",
              "40       12270       11  ...                    8.0             5.3L V8\n",
              "\n",
              "[5 rows x 15 columns]"
            ]
          },
          "metadata": {
            "tags": []
          },
          "execution_count": 22
        }
      ]
    },
    {
      "cell_type": "code",
      "metadata": {
        "id": "pvvXFVbJZnFK",
        "colab_type": "code",
        "outputId": "bad65d41-6679-42ed-fd2a-e5208118cc06",
        "colab": {
          "base_uri": "https://localhost:8080/",
          "height": 615
        }
      },
      "source": [
        "df8 = Cur_car[Cur_car['Fuel ID']==41]\n",
        "df9 = Cur_car[Cur_car['Fuel ID']==57]\n",
        "df10 = Cur_car[Cur_car['Fuel ID']==45]\n",
        "df11 = Cur_car[Cur_car['Fuel ID']==9]\n",
        "df12 = Cur_car[Cur_car['Fuel ID']==14]\n",
        "electric = pd.concat([df8,df9,df10,df11,df12])\n",
        "electric.head()"
      ],
      "execution_count": 23,
      "outputs": [
        {
          "output_type": "execute_result",
          "data": {
            "text/html": [
              "<div>\n",
              "<style scoped>\n",
              "    .dataframe tbody tr th:only-of-type {\n",
              "        vertical-align: middle;\n",
              "    }\n",
              "\n",
              "    .dataframe tbody tr th {\n",
              "        vertical-align: top;\n",
              "    }\n",
              "\n",
              "    .dataframe thead th {\n",
              "        text-align: right;\n",
              "    }\n",
              "</style>\n",
              "<table border=\"1\" class=\"dataframe\">\n",
              "  <thead>\n",
              "    <tr style=\"text-align: right;\">\n",
              "      <th></th>\n",
              "      <th>Vehicle ID</th>\n",
              "      <th>Fuel ID</th>\n",
              "      <th>Fuel Configuration ID</th>\n",
              "      <th>Manufacturer ID</th>\n",
              "      <th>Category ID</th>\n",
              "      <th>Model Year</th>\n",
              "      <th>Alternative Fuel Economy City</th>\n",
              "      <th>Alternative Fuel Economy Highway</th>\n",
              "      <th>Alternative Fuel Economy Combined</th>\n",
              "      <th>Conventional Fuel Economy City</th>\n",
              "      <th>Conventional Fuel Economy Highway</th>\n",
              "      <th>Conventional Fuel Economy Combined</th>\n",
              "      <th>Engine Size</th>\n",
              "      <th>Engine Cylinder Count</th>\n",
              "      <th>Engine Description</th>\n",
              "    </tr>\n",
              "  </thead>\n",
              "  <tbody>\n",
              "    <tr>\n",
              "      <th>10</th>\n",
              "      <td>12431</td>\n",
              "      <td>41</td>\n",
              "      <td>NaN</td>\n",
              "      <td>377</td>\n",
              "      <td>29</td>\n",
              "      <td>2020</td>\n",
              "      <td>78.0</td>\n",
              "      <td>78.0</td>\n",
              "      <td>78.0</td>\n",
              "      <td>NaN</td>\n",
              "      <td>NaN</td>\n",
              "      <td>78.0</td>\n",
              "      <td>141 kW and 172 kW electric motor</td>\n",
              "      <td>NaN</td>\n",
              "      <td>141 kW and 172 kW electric motors;\\r\\n240 Ah b...</td>\n",
              "    </tr>\n",
              "    <tr>\n",
              "      <th>11</th>\n",
              "      <td>12432</td>\n",
              "      <td>41</td>\n",
              "      <td>NaN</td>\n",
              "      <td>377</td>\n",
              "      <td>29</td>\n",
              "      <td>2020</td>\n",
              "      <td>76.0</td>\n",
              "      <td>78.0</td>\n",
              "      <td>77.0</td>\n",
              "      <td>NaN</td>\n",
              "      <td>NaN</td>\n",
              "      <td>78.0</td>\n",
              "      <td>141 kW and 172 kW electric motor</td>\n",
              "      <td>NaN</td>\n",
              "      <td>141 kW and 172 kW electric motors;\\r\\n240 Ah b...</td>\n",
              "    </tr>\n",
              "    <tr>\n",
              "      <th>22</th>\n",
              "      <td>12438</td>\n",
              "      <td>41</td>\n",
              "      <td>1.0</td>\n",
              "      <td>211</td>\n",
              "      <td>27</td>\n",
              "      <td>2020</td>\n",
              "      <td>124.0</td>\n",
              "      <td>102.0</td>\n",
              "      <td>113.0</td>\n",
              "      <td>NaN</td>\n",
              "      <td>NaN</td>\n",
              "      <td>102.0</td>\n",
              "      <td>125 kW electric motor</td>\n",
              "      <td>NaN</td>\n",
              "      <td>125 kW electric motor;\\r\\n120 Ah battery</td>\n",
              "    </tr>\n",
              "    <tr>\n",
              "      <th>23</th>\n",
              "      <td>12439</td>\n",
              "      <td>41</td>\n",
              "      <td>1.0</td>\n",
              "      <td>211</td>\n",
              "      <td>27</td>\n",
              "      <td>2020</td>\n",
              "      <td>124.0</td>\n",
              "      <td>102.0</td>\n",
              "      <td>113.0</td>\n",
              "      <td>NaN</td>\n",
              "      <td>NaN</td>\n",
              "      <td>102.0</td>\n",
              "      <td>135 kW electric motor</td>\n",
              "      <td>NaN</td>\n",
              "      <td>135 kW electric motor;\\r\\n120 Ah battery</td>\n",
              "    </tr>\n",
              "    <tr>\n",
              "      <th>29</th>\n",
              "      <td>12350</td>\n",
              "      <td>41</td>\n",
              "      <td>1.0</td>\n",
              "      <td>410</td>\n",
              "      <td>27</td>\n",
              "      <td>2020</td>\n",
              "      <td>73.0</td>\n",
              "      <td>71.0</td>\n",
              "      <td>72.0</td>\n",
              "      <td>NaN</td>\n",
              "      <td>NaN</td>\n",
              "      <td>71.0</td>\n",
              "      <td>75 kW electric motor</td>\n",
              "      <td>NaN</td>\n",
              "      <td>75 kW electric motor; \\r\\n270 Ah battery</td>\n",
              "    </tr>\n",
              "  </tbody>\n",
              "</table>\n",
              "</div>"
            ],
            "text/plain": [
              "    Vehicle ID  ...                                 Engine Description\n",
              "10       12431  ...  141 kW and 172 kW electric motors;\\r\\n240 Ah b...\n",
              "11       12432  ...  141 kW and 172 kW electric motors;\\r\\n240 Ah b...\n",
              "22       12438  ...           125 kW electric motor;\\r\\n120 Ah battery\n",
              "23       12439  ...           135 kW electric motor;\\r\\n120 Ah battery\n",
              "29       12350  ...           75 kW electric motor; \\r\\n270 Ah battery\n",
              "\n",
              "[5 rows x 15 columns]"
            ]
          },
          "metadata": {
            "tags": []
          },
          "execution_count": 23
        }
      ]
    },
    {
      "cell_type": "markdown",
      "metadata": {
        "id": "AFLSMeuI4MpT",
        "colab_type": "text"
      },
      "source": [
        "###Here I did a lot of work because I couldn't find an elegant way to divide the current model dataframe into specific fuel types so I did my best to splice and concatinate two data frame representing electric or partially electric vehicles and combustion type vehicles using alternative fuels."
      ]
    },
    {
      "cell_type": "markdown",
      "metadata": {
        "id": "awfDPm0rkyQT",
        "colab_type": "text"
      },
      "source": [
        "###I dropped the one example of 'other' as there was no further information and there was only a single value with this fuel catagory."
      ]
    },
    {
      "cell_type": "code",
      "metadata": {
        "id": "PD51okZghbhW",
        "colab_type": "code",
        "outputId": "9161b2be-4271-48f9-b493-8a1c87119ccb",
        "colab": {
          "base_uri": "https://localhost:8080/",
          "height": 221
        }
      },
      "source": [
        "electric['Alternative Fuel Economy Combined'].sort_values()"
      ],
      "execution_count": 24,
      "outputs": [
        {
          "output_type": "execute_result",
          "data": {
            "text/plain": [
              "1729     0.300\n",
              "1725     0.345\n",
              "1651     0.365\n",
              "2196    13.700\n",
              "2236    13.700\n",
              "         ...  \n",
              "1074       NaN\n",
              "1103       NaN\n",
              "1130       NaN\n",
              "1300       NaN\n",
              "1595       NaN\n",
              "Name: Alternative Fuel Economy Combined, Length: 948, dtype: float64"
            ]
          },
          "metadata": {
            "tags": []
          },
          "execution_count": 24
        }
      ]
    },
    {
      "cell_type": "code",
      "metadata": {
        "id": "eS62XF94mIOG",
        "colab_type": "code",
        "outputId": "ec587f4c-69c5-4067-c36e-8e366998ba32",
        "colab": {
          "base_uri": "https://localhost:8080/",
          "height": 151
        }
      },
      "source": [
        "electric[electric['Alternative Fuel Economy Combined']==0.365]"
      ],
      "execution_count": 25,
      "outputs": [
        {
          "output_type": "execute_result",
          "data": {
            "text/html": [
              "<div>\n",
              "<style scoped>\n",
              "    .dataframe tbody tr th:only-of-type {\n",
              "        vertical-align: middle;\n",
              "    }\n",
              "\n",
              "    .dataframe tbody tr th {\n",
              "        vertical-align: top;\n",
              "    }\n",
              "\n",
              "    .dataframe thead th {\n",
              "        text-align: right;\n",
              "    }\n",
              "</style>\n",
              "<table border=\"1\" class=\"dataframe\">\n",
              "  <thead>\n",
              "    <tr style=\"text-align: right;\">\n",
              "      <th></th>\n",
              "      <th>Vehicle ID</th>\n",
              "      <th>Fuel ID</th>\n",
              "      <th>Fuel Configuration ID</th>\n",
              "      <th>Manufacturer ID</th>\n",
              "      <th>Category ID</th>\n",
              "      <th>Model Year</th>\n",
              "      <th>Alternative Fuel Economy City</th>\n",
              "      <th>Alternative Fuel Economy Highway</th>\n",
              "      <th>Alternative Fuel Economy Combined</th>\n",
              "      <th>Conventional Fuel Economy City</th>\n",
              "      <th>Conventional Fuel Economy Highway</th>\n",
              "      <th>Conventional Fuel Economy Combined</th>\n",
              "      <th>Engine Size</th>\n",
              "      <th>Engine Cylinder Count</th>\n",
              "      <th>Engine Description</th>\n",
              "    </tr>\n",
              "  </thead>\n",
              "  <tbody>\n",
              "    <tr>\n",
              "      <th>1651</th>\n",
              "      <td>10126</td>\n",
              "      <td>57</td>\n",
              "      <td>NaN</td>\n",
              "      <td>215</td>\n",
              "      <td>27</td>\n",
              "      <td>2011</td>\n",
              "      <td>0.36</td>\n",
              "      <td>0.37</td>\n",
              "      <td>0.365</td>\n",
              "      <td>35.0</td>\n",
              "      <td>40.0</td>\n",
              "      <td>17.685</td>\n",
              "      <td>1.4L</td>\n",
              "      <td>4.0</td>\n",
              "      <td>NaN</td>\n",
              "    </tr>\n",
              "  </tbody>\n",
              "</table>\n",
              "</div>"
            ],
            "text/plain": [
              "      Vehicle ID  Fuel ID  ...  Engine Cylinder Count  Engine Description\n",
              "1651       10126       57  ...                    4.0                 NaN\n",
              "\n",
              "[1 rows x 15 columns]"
            ]
          },
          "metadata": {
            "tags": []
          },
          "execution_count": 25
        }
      ]
    },
    {
      "cell_type": "code",
      "metadata": {
        "id": "z7YyucJpdLwx",
        "colab_type": "code",
        "colab": {}
      },
      "source": [
        "cmb_avg = combust.groupby('Model Year', as_index=False)['Alternative Fuel Economy Combined'].mean()\n",
        "elc_avg = electric.groupby('Model Year', as_index=False)['Alternative Fuel Economy Combined'].mean()"
      ],
      "execution_count": 0,
      "outputs": []
    },
    {
      "cell_type": "code",
      "metadata": {
        "id": "MCV8Y_nrbvvX",
        "colab_type": "code",
        "outputId": "7f8a380e-0a5b-421a-8cd1-f1097ab1c7ee",
        "colab": {
          "base_uri": "https://localhost:8080/",
          "height": 360
        }
      },
      "source": [
        "plt.scatter(combust['Model Year'],combust['Alternative Fuel Economy Combined'], color = 'red', alpha =.3)\n",
        "plt.scatter(electric['Model Year'],electric['Alternative Fuel Economy Combined'], color ='yellow', alpha =.4)\n",
        "plt.plot(elc_avg['Model Year'],elc_avg['Alternative Fuel Economy Combined'],color ='orange', label ='Average Electric Efficiency')\n",
        "plt.plot(cmb_avg['Model Year'],cmb_avg['Alternative Fuel Economy Combined'],color ='black', label ='Average Commbustion Efficiency')\n",
        "plt.legend()\n",
        "plt.title('Fuel Efficiency of Hybrid/Electric Energy Vehicles VS Alternative Combustion Vehicles 2000 - 2020',fontsize=17,y = 1.2)\n",
        "plt.xticks(range(2000,2021,1),rotation=70)\n",
        "plt.xlabel('Year of Production',fontsize = 11)\n",
        "plt.ylabel('Fuel Efficiency in Miles per Gallon')\n",
        "plt.show()"
      ],
      "execution_count": 27,
      "outputs": [
        {
          "output_type": "display_data",
          "data": {
            "image/png": "[encoded data removed]",
            "text/plain": [
              "<Figure size 432x288 with 1 Axes>"
            ]
          },
          "metadata": {
            "tags": [],
            "needs_background": "light"
          }
        }
      ]
    },
    {
      "cell_type": "markdown",
      "metadata": {
        "id": "fALEmFFP40OX",
        "colab_type": "text"
      },
      "source": [
        "## I then repeated my work with finding the average efficiency per year, but this time I have data for the two types of engines plotted together to better illustrate the difference in efficiency between them."
      ]
    },
    {
      "cell_type": "code",
      "metadata": {
        "id": "Ew_HQe7JqxRP",
        "colab_type": "code",
        "colab": {
          "base_uri": "https://localhost:8080/",
          "height": 360
        },
        "outputId": "e7b480cd-fbf9-45bc-8df7-793313d306be"
      },
      "source": [
        "merge_test = combust.merge(fuel_ID,left_on='Fuel ID',right_on='F_ID')\n",
        "cmb_Wfid = merge_test.drop('F_ID',axis=1)\n",
        "cmb_ID=cmb_Wfid.merge(brand_ID,left_on='Manufacturer ID',right_on='ID').drop(['ID','Engine Cylinder Count'],axis=1)\n",
        "cmb_ID=cmb_ID.merge(cat_ID,left_on='Category ID',right_on='C_ID').drop('C_ID',axis=1)\n",
        "cmb_ID.head()"
      ],
      "execution_count": 28,
      "outputs": [
        {
          "output_type": "execute_result",
          "data": {
            "text/html": [
              "<div>\n",
              "<style scoped>\n",
              "    .dataframe tbody tr th:only-of-type {\n",
              "        vertical-align: middle;\n",
              "    }\n",
              "\n",
              "    .dataframe tbody tr th {\n",
              "        vertical-align: top;\n",
              "    }\n",
              "\n",
              "    .dataframe thead th {\n",
              "        text-align: right;\n",
              "    }\n",
              "</style>\n",
              "<table border=\"1\" class=\"dataframe\">\n",
              "  <thead>\n",
              "    <tr style=\"text-align: right;\">\n",
              "      <th></th>\n",
              "      <th>Vehicle ID</th>\n",
              "      <th>Fuel ID</th>\n",
              "      <th>Fuel Configuration ID</th>\n",
              "      <th>Manufacturer ID</th>\n",
              "      <th>Category ID</th>\n",
              "      <th>Model Year</th>\n",
              "      <th>Alternative Fuel Economy City</th>\n",
              "      <th>Alternative Fuel Economy Highway</th>\n",
              "      <th>Alternative Fuel Economy Combined</th>\n",
              "      <th>Conventional Fuel Economy City</th>\n",
              "      <th>Conventional Fuel Economy Highway</th>\n",
              "      <th>Conventional Fuel Economy Combined</th>\n",
              "      <th>Engine Size</th>\n",
              "      <th>Engine Description</th>\n",
              "      <th>fuel</th>\n",
              "      <th>Maker</th>\n",
              "      <th>Category</th>\n",
              "    </tr>\n",
              "  </thead>\n",
              "  <tbody>\n",
              "    <tr>\n",
              "      <th>0</th>\n",
              "      <td>12301</td>\n",
              "      <td>11</td>\n",
              "      <td>5.0</td>\n",
              "      <td>215</td>\n",
              "      <td>27</td>\n",
              "      <td>2020</td>\n",
              "      <td>14.0</td>\n",
              "      <td>20.0</td>\n",
              "      <td>17.0</td>\n",
              "      <td>18.0</td>\n",
              "      <td>28.0</td>\n",
              "      <td>19.0</td>\n",
              "      <td>3.6L</td>\n",
              "      <td>3.6L V6</td>\n",
              "      <td>Ethanol (E85)</td>\n",
              "      <td>Chevrolet</td>\n",
              "      <td>Sedan/Wagon</td>\n",
              "    </tr>\n",
              "    <tr>\n",
              "      <th>1</th>\n",
              "      <td>12039</td>\n",
              "      <td>11</td>\n",
              "      <td>5.0</td>\n",
              "      <td>215</td>\n",
              "      <td>27</td>\n",
              "      <td>2019</td>\n",
              "      <td>14.0</td>\n",
              "      <td>20.0</td>\n",
              "      <td>17.0</td>\n",
              "      <td>18.0</td>\n",
              "      <td>28.0</td>\n",
              "      <td>19.0</td>\n",
              "      <td>3.6L</td>\n",
              "      <td>3.6L V6</td>\n",
              "      <td>Ethanol (E85)</td>\n",
              "      <td>Chevrolet</td>\n",
              "      <td>Sedan/Wagon</td>\n",
              "    </tr>\n",
              "    <tr>\n",
              "      <th>2</th>\n",
              "      <td>11856</td>\n",
              "      <td>11</td>\n",
              "      <td>5.0</td>\n",
              "      <td>215</td>\n",
              "      <td>27</td>\n",
              "      <td>2018</td>\n",
              "      <td>14.0</td>\n",
              "      <td>20.0</td>\n",
              "      <td>17.0</td>\n",
              "      <td>18.0</td>\n",
              "      <td>28.0</td>\n",
              "      <td>19.0</td>\n",
              "      <td>3.6L</td>\n",
              "      <td>3.6L V6</td>\n",
              "      <td>Ethanol (E85)</td>\n",
              "      <td>Chevrolet</td>\n",
              "      <td>Sedan/Wagon</td>\n",
              "    </tr>\n",
              "    <tr>\n",
              "      <th>3</th>\n",
              "      <td>11649</td>\n",
              "      <td>11</td>\n",
              "      <td>5.0</td>\n",
              "      <td>215</td>\n",
              "      <td>27</td>\n",
              "      <td>2017</td>\n",
              "      <td>14.0</td>\n",
              "      <td>20.0</td>\n",
              "      <td>17.0</td>\n",
              "      <td>19.0</td>\n",
              "      <td>28.0</td>\n",
              "      <td>19.5</td>\n",
              "      <td>3.6L</td>\n",
              "      <td>3.6L V6</td>\n",
              "      <td>Ethanol (E85)</td>\n",
              "      <td>Chevrolet</td>\n",
              "      <td>Sedan/Wagon</td>\n",
              "    </tr>\n",
              "    <tr>\n",
              "      <th>4</th>\n",
              "      <td>11509</td>\n",
              "      <td>11</td>\n",
              "      <td>1.0</td>\n",
              "      <td>215</td>\n",
              "      <td>27</td>\n",
              "      <td>2016</td>\n",
              "      <td>NaN</td>\n",
              "      <td>NaN</td>\n",
              "      <td>NaN</td>\n",
              "      <td>NaN</td>\n",
              "      <td>NaN</td>\n",
              "      <td>NaN</td>\n",
              "      <td>6.0L</td>\n",
              "      <td>6.0L V8</td>\n",
              "      <td>Ethanol (E85)</td>\n",
              "      <td>Chevrolet</td>\n",
              "      <td>Sedan/Wagon</td>\n",
              "    </tr>\n",
              "  </tbody>\n",
              "</table>\n",
              "</div>"
            ],
            "text/plain": [
              "   Vehicle ID Fuel ID  ...      Maker     Category\n",
              "0       12301      11  ...  Chevrolet  Sedan/Wagon\n",
              "1       12039      11  ...  Chevrolet  Sedan/Wagon\n",
              "2       11856      11  ...  Chevrolet  Sedan/Wagon\n",
              "3       11649      11  ...  Chevrolet  Sedan/Wagon\n",
              "4       11509      11  ...  Chevrolet  Sedan/Wagon\n",
              "\n",
              "[5 rows x 17 columns]"
            ]
          },
          "metadata": {
            "tags": []
          },
          "execution_count": 28
        }
      ]
    },
    {
      "cell_type": "code",
      "metadata": {
        "id": "St07NWLatdJI",
        "colab_type": "code",
        "colab": {
          "base_uri": "https://localhost:8080/",
          "height": 615
        },
        "outputId": "6530766b-12f1-4026-c8ee-846f58f2fc91"
      },
      "source": [
        "elc_Wfid = electric.merge(fuel_ID,left_on='Fuel ID',right_on='F_ID').drop('F_ID',axis=1)\n",
        "elc_ID = elc_Wfid.merge(brand_ID,left_on='Manufacturer ID',right_on='ID').drop(['ID','Engine Cylinder Count'],axis=1)\n",
        "elc_ID = elc_ID.merge(cat_ID,left_on='Category ID',right_on='C_ID').drop('C_ID',axis=1)\n",
        "elc_ID.head()"
      ],
      "execution_count": 29,
      "outputs": [
        {
          "output_type": "execute_result",
          "data": {
            "text/html": [
              "<div>\n",
              "<style scoped>\n",
              "    .dataframe tbody tr th:only-of-type {\n",
              "        vertical-align: middle;\n",
              "    }\n",
              "\n",
              "    .dataframe tbody tr th {\n",
              "        vertical-align: top;\n",
              "    }\n",
              "\n",
              "    .dataframe thead th {\n",
              "        text-align: right;\n",
              "    }\n",
              "</style>\n",
              "<table border=\"1\" class=\"dataframe\">\n",
              "  <thead>\n",
              "    <tr style=\"text-align: right;\">\n",
              "      <th></th>\n",
              "      <th>Vehicle ID</th>\n",
              "      <th>Fuel ID</th>\n",
              "      <th>Fuel Configuration ID</th>\n",
              "      <th>Manufacturer ID</th>\n",
              "      <th>Category ID</th>\n",
              "      <th>Model Year</th>\n",
              "      <th>Alternative Fuel Economy City</th>\n",
              "      <th>Alternative Fuel Economy Highway</th>\n",
              "      <th>Alternative Fuel Economy Combined</th>\n",
              "      <th>Conventional Fuel Economy City</th>\n",
              "      <th>Conventional Fuel Economy Highway</th>\n",
              "      <th>Conventional Fuel Economy Combined</th>\n",
              "      <th>Engine Size</th>\n",
              "      <th>Engine Description</th>\n",
              "      <th>fuel</th>\n",
              "      <th>Maker</th>\n",
              "      <th>Category</th>\n",
              "    </tr>\n",
              "  </thead>\n",
              "  <tbody>\n",
              "    <tr>\n",
              "      <th>0</th>\n",
              "      <td>12431</td>\n",
              "      <td>41</td>\n",
              "      <td>NaN</td>\n",
              "      <td>377</td>\n",
              "      <td>29</td>\n",
              "      <td>2020</td>\n",
              "      <td>78.0</td>\n",
              "      <td>78.0</td>\n",
              "      <td>78.0</td>\n",
              "      <td>NaN</td>\n",
              "      <td>NaN</td>\n",
              "      <td>78.0</td>\n",
              "      <td>141 kW and 172 kW electric motor</td>\n",
              "      <td>141 kW and 172 kW electric motors;\\r\\n240 Ah b...</td>\n",
              "      <td>Electric</td>\n",
              "      <td>Audi</td>\n",
              "      <td>SUV</td>\n",
              "    </tr>\n",
              "    <tr>\n",
              "      <th>1</th>\n",
              "      <td>12432</td>\n",
              "      <td>41</td>\n",
              "      <td>NaN</td>\n",
              "      <td>377</td>\n",
              "      <td>29</td>\n",
              "      <td>2020</td>\n",
              "      <td>76.0</td>\n",
              "      <td>78.0</td>\n",
              "      <td>77.0</td>\n",
              "      <td>NaN</td>\n",
              "      <td>NaN</td>\n",
              "      <td>78.0</td>\n",
              "      <td>141 kW and 172 kW electric motor</td>\n",
              "      <td>141 kW and 172 kW electric motors;\\r\\n240 Ah b...</td>\n",
              "      <td>Electric</td>\n",
              "      <td>Audi</td>\n",
              "      <td>SUV</td>\n",
              "    </tr>\n",
              "    <tr>\n",
              "      <th>2</th>\n",
              "      <td>12247</td>\n",
              "      <td>41</td>\n",
              "      <td>NaN</td>\n",
              "      <td>377</td>\n",
              "      <td>29</td>\n",
              "      <td>2019</td>\n",
              "      <td>73.0</td>\n",
              "      <td>74.0</td>\n",
              "      <td>73.5</td>\n",
              "      <td>NaN</td>\n",
              "      <td>NaN</td>\n",
              "      <td>74.0</td>\n",
              "      <td>141 kW and 172 kW electric motor</td>\n",
              "      <td>141 kW and 172 kW electric motors;\\r\\n240 Ah b...</td>\n",
              "      <td>Electric</td>\n",
              "      <td>Audi</td>\n",
              "      <td>SUV</td>\n",
              "    </tr>\n",
              "    <tr>\n",
              "      <th>3</th>\n",
              "      <td>12436</td>\n",
              "      <td>45</td>\n",
              "      <td>9.0</td>\n",
              "      <td>377</td>\n",
              "      <td>29</td>\n",
              "      <td>2020</td>\n",
              "      <td>NaN</td>\n",
              "      <td>NaN</td>\n",
              "      <td>NaN</td>\n",
              "      <td>13.0</td>\n",
              "      <td>19.0</td>\n",
              "      <td>13.0</td>\n",
              "      <td>4.0L</td>\n",
              "      <td>4.0L V8</td>\n",
              "      <td>Hybrid Electric</td>\n",
              "      <td>Audi</td>\n",
              "      <td>SUV</td>\n",
              "    </tr>\n",
              "    <tr>\n",
              "      <th>4</th>\n",
              "      <td>11568</td>\n",
              "      <td>45</td>\n",
              "      <td>1.0</td>\n",
              "      <td>377</td>\n",
              "      <td>29</td>\n",
              "      <td>2016</td>\n",
              "      <td>24.0</td>\n",
              "      <td>30.0</td>\n",
              "      <td>27.0</td>\n",
              "      <td>NaN</td>\n",
              "      <td>NaN</td>\n",
              "      <td>30.0</td>\n",
              "      <td>2.0</td>\n",
              "      <td>2.0 I4</td>\n",
              "      <td>Hybrid Electric</td>\n",
              "      <td>Audi</td>\n",
              "      <td>SUV</td>\n",
              "    </tr>\n",
              "  </tbody>\n",
              "</table>\n",
              "</div>"
            ],
            "text/plain": [
              "   Vehicle ID Fuel ID  Fuel Configuration ID  ...             fuel Maker  Category\n",
              "0       12431      41                    NaN  ...         Electric  Audi       SUV\n",
              "1       12432      41                    NaN  ...         Electric  Audi       SUV\n",
              "2       12247      41                    NaN  ...         Electric  Audi       SUV\n",
              "3       12436      45                    9.0  ...  Hybrid Electric  Audi       SUV\n",
              "4       11568      45                    1.0  ...  Hybrid Electric  Audi       SUV\n",
              "\n",
              "[5 rows x 17 columns]"
            ]
          },
          "metadata": {
            "tags": []
          },
          "execution_count": 29
        }
      ]
    },
    {
      "cell_type": "markdown",
      "metadata": {
        "id": "NRIpAWA8t4sl",
        "colab_type": "text"
      },
      "source": [
        "### Here I rejoined the fuel text description with the two dataframes so I can use the text as hoverover information."
      ]
    },
    {
      "cell_type": "code",
      "metadata": {
        "id": "pao5RhYGuLPm",
        "colab_type": "code",
        "colab": {
          "base_uri": "https://localhost:8080/",
          "height": 542
        },
        "outputId": "09da4382-26f1-4d6b-cc21-b8380a5b5d9a"
      },
      "source": [
        "import plotly.express as px\n",
        "fig = px.scatter(elc_ID,x='Model Year',y='Alternative Fuel Economy Combined',color = 'fuel',hover_data=['Maker'],title='Fuel Efficiency for Electric Vehicles by Alternative Fuel Type Over the Past 20 Years').for_each_trace(lambda t: t.update(name=t.name.split(\"=\")[1]))\n",
        "\n",
        "fig.show()"
      ],
      "execution_count": 30,
      "outputs": [
        {
          "output_type": "display_data",
          "data": {
            "text/html": [
              "<html>\n",
              "<head><meta charset=\"utf-8\" /></head>\n",
              "<body>\n",
              "    <div>\n",
              "            <script src=\"https://cdnjs.cloudflare.com/ajax/libs/mathjax/2.7.5/MathJax.js?config=TeX-AMS-MML_SVG\"></script><script type=\"text/javascript\">if (window.MathJax) {MathJax.Hub.Config({SVG: {font: \"STIX-Web\"}});}</script>\n",
              "                <script type=\"text/javascript\">window.PlotlyConfig = {MathJaxConfig: 'local'};</script>\n",
              "        <script src=\"https://cdn.plot.ly/plotly-latest.min.js\"></script>    \n",
              "            <div id=\"4da77393-1d3c-4921-bff3-8f4e065b808c\" class=\"plotly-graph-div\" style=\"height:525px; width:100%;\"></div>\n",
              "            <script type=\"text/javascript\">\n",
              "                \n",
              "                    window.PLOTLYENV=window.PLOTLYENV || {};\n",
              "                    \n",
              "                if (document.getElementById(\"4da77393-1d3c-4921-bff3-8f4e065b808c\")) {\n",
              "                    Plotly.newPlot(\n",
              "                        '4da77393-1d3c-4921-bff3-8f4e065b808c',\n",
              "                        [{\"customdata\": [[\"Audi\"], [\"Audi\"], [\"Audi\"], [\"Hyundai\"], [\"Hyundai\"], [\"Jaguar\"], [\"Jaguar\"], [\"Tesla\"], [\"Tesla\"], [\"Tesla\"], [\"Tesla\"], [\"Tesla\"], [\"Tesla\"], [\"Tesla\"], [\"Tesla\"], [\"Tesla\"], [\"Tesla\"], [\"Tesla\"], [\"Tesla\"], [\"Tesla\"], [\"Tesla\"], [\"Tesla\"], [\"Tesla\"], [\"Tesla\"], [\"Tesla\"], [\"Tesla\"], [\"Toyota\"], [\"Toyota\"], [\"Toyota\"], [\"Toyota\"], [\"Toyota\"], [\"Toyota\"], [\"Toyota\"], [\"BMW\"], [\"BMW\"], [\"BMW\"], [\"BMW\"], [\"BMW\"], [\"BMW\"], [\"BMW\"], [\"BMW\"], [\"BMW\"], [\"BMW\"], [\"BMW\"], [\"BYD Motors\"], [\"BYD Motors\"], [\"BYD Motors\"], [\"BYD Motors\"], [\"Chevrolet\"], [\"Chevrolet\"], [\"Chevrolet\"], [\"Chevrolet\"], [\"Chevrolet\"], [\"Chevrolet\"], [\"Chevrolet\"], [\"Hyundai\"], [\"Hyundai\"], [\"Hyundai\"], [\"Hyundai\"], [\"Kia\"], [\"Kia\"], [\"Kia\"], [\"Kia\"], [\"Kia\"], [\"Kia\"], [\"Kia\"], [\"Kia\"], [\"Mini\"], [\"Nissan\"], [\"Nissan\"], [\"Nissan\"], [\"Nissan\"], [\"Nissan\"], [\"Nissan\"], [\"Nissan\"], [\"Nissan\"], [\"Nissan\"], [\"Nissan\"], [\"Nissan\"], [\"Nissan\"], [\"Nissan\"], [\"Nissan\"], [\"Nissan\"], [\"Nissan\"], [\"Nissan\"], [\"Nissan\"], [\"Nissan\"], [\"Nissan\"], [\"Nissan\"], [\"Nissan\"], [\"Porsche\"], [\"Porsche\"], [\"Porsche\"], [\"Tesla\"], [\"Tesla\"], [\"Tesla\"], [\"Tesla\"], [\"Tesla\"], [\"Tesla\"], [\"Tesla\"], [\"Tesla\"], [\"Tesla\"], [\"Tesla\"], [\"Tesla\"], [\"Tesla\"], [\"Tesla\"], [\"Tesla\"], [\"Tesla\"], [\"Tesla\"], [\"Tesla\"], [\"Tesla\"], [\"Tesla\"], [\"Tesla\"], [\"Tesla\"], [\"Tesla\"], [\"Tesla\"], [\"Tesla\"], [\"Tesla\"], [\"Tesla\"], [\"Tesla\"], [\"Tesla\"], [\"Tesla\"], [\"Tesla\"], [\"Tesla\"], [\"Tesla\"], [\"Tesla\"], [\"Tesla\"], [\"Tesla\"], [\"Tesla\"], [\"Tesla\"], [\"Tesla\"], [\"Tesla\"], [\"Tesla\"], [\"Tesla\"], [\"Tesla\"], [\"Tesla\"], [\"Tesla\"], [\"Tesla\"], [\"Tesla\"], [\"Volkswagen\"], [\"Volkswagen\"], [\"Volkswagen\"], [\"Volkswagen\"], [\"Volkswagen\"], [\"Fiat\"], [\"Fiat\"], [\"Fiat\"], [\"Fiat\"], [\"Fiat\"], [\"Fiat\"], [\"Fiat\"], [\"Ford\"], [\"Ford\"], [\"Ford\"], [\"Ford\"], [\"Ford\"], [\"Ford\"], [\"Ford\"], [\"Ford\"], [\"Ford\"], [\"Ford\"], [\"Honda\"], [\"Honda\"], [\"Honda\"], [\"Honda\"], [\"Honda\"], [\"Honda\"], [\"smart\"], [\"smart\"], [\"smart\"], [\"smart\"], [\"smart\"], [\"smart\"], [\"smart\"], [\"smart\"], [\"smart\"], [\"smart\"], [\"Mercedes-Benz\"], [\"Mercedes-Benz\"], [\"Mercedes-Benz\"], [\"Mercedes-Benz\"], [\"Mitsubishi\"], [\"Mitsubishi\"], [\"Mitsubishi\"], [\"Mitsubishi\"], [\"Mitsubishi\"], [\"Mitsubishi\"], [\"Scion\"], [\"Scion\"], [\"Toyota\"], [\"Coda Automotive\"], [\"Coda Automotive\"], [\"Wheego Electric Cars, Inc.\"], [\"Solectria\"], [\"Solectria\"], [\"General Motors EV\"], [\"General Motors EV\"], [\"General Motors EV\"], [\"General Motors EV\"], [\"Chevrolet\"], [\"Chevrolet\"], [\"Ford\"], [\"Ford\"], [\"Ford\"], [\"Solectria\"], [\"Solectria\"], [\"Ford\"], [\"Ford\"], [\"Ford\"], [\"Ford\"], [\"Solectria\"], [\"Solectria\"], [\"Chrysler\"], [\"Dodge\"]], \"hoverlabel\": {\"namelength\": 0}, \"hovertemplate\": \"fuel=Electric<br>Model Year=%{x}<br>Alternative Fuel Economy Combined=%{y}<br>Maker=%{customdata[0]}\", \"legendgroup\": \"fuel=Electric\", \"marker\": {\"color\": \"#636efa\", \"symbol\": \"circle\"}, \"mode\": \"markers\", \"name\": \"Electric\", \"showlegend\": true, \"type\": \"scatter\", \"x\": [2020, 2020, 2019, 2020, 2019, 2020, 2019, 2020, 2020, 2020, 2019, 2019, 2019, 2019, 2019, 2018, 2018, 2018, 2017, 2017, 2017, 2017, 2017, 2017, 2016, 2016, 2014, 2013, 2012, 2003, 2002, 2001, 2000, 2020, 2020, 2019, 2019, 2018, 2018, 2017, 2017, 2016, 2015, 2014, 2020, 2019, 2018, 2017, 2020, 2019, 2018, 2017, 2016, 2015, 2014, 2020, 2019, 2018, 2017, 2020, 2020, 2019, 2019, 2018, 2017, 2015, 2014, 2020, 2020, 2020, 2020, 2019, 2019, 2019, 2018, 2017, 2016, 2015, 2014, 2013, 2012, 2011, 2011, 2003, 2003, 2002, 2002, 2001, 2001, 2000, 2020, 2020, 2020, 2020, 2020, 2020, 2020, 2020, 2020, 2020, 2020, 2020, 2019, 2019, 2019, 2019, 2019, 2019, 2019, 2019, 2019, 2019, 2019, 2019, 2018, 2018, 2018, 2018, 2018, 2018, 2018, 2017, 2017, 2017, 2017, 2017, 2017, 2017, 2017, 2017, 2016, 2016, 2015, 2014, 2013, 2012, 2011, 2010, 2009, 2020, 2019, 2017, 2016, 2015, 2019, 2018, 2017, 2016, 2015, 2014, 2013, 2018, 2017, 2016, 2015, 2014, 2013, 2012, 2003, 2002, 2000, 2019, 2018, 2017, 2014, 2013, 2012, 2019, 2019, 2018, 2018, 2017, 2017, 2016, 2015, 2014, 2013, 2017, 2016, 2015, 2014, 2017, 2016, 2015, 2014, 2013, 2012, 2014, 2013, 2001, 2013, 2012, 2012, 2001, 2000, 2001, 2001, 2000, 2000, 2000, 2000, 2002, 2001, 2000, 2001, 2000, 2019, 2019, 2012, 2011, 2002, 2001, 2000, 2000], \"xaxis\": \"x\", \"y\": [78.0, 77.0, 73.5, 120.0, 120.0, 76.0, 76.0, 96.0, 89.5, 101.5, 87.5, 93.0, 96.0, 86.0, 78.5, 87.5, 93.0, 86.0, 87.5, 92.5, 93.0, 92.0, 86.5, 89.5, 92.0, 89.5, 76.0, 76.0, null, 30.5, 33.0, 33.0, 33.0, 113.0, 113.0, 113.0, 113.0, 117.5, 112.5, 117.5, 124.0, 124.0, 124.0, null, 72.0, 72.0, 72.0, 72.0, 117.5, 119.0, 119.0, 119.0, 118.0, 118.5, 118.5, 133.0, 136.0, 136.0, 136.0, 112.5, 114.0, 112.5, 108.5, 108.5, 106.0, 106.0, null, 107.5, 111.0, 107.5, 104.0, 111.5, 107.5, 104.0, 112.5, 112.5, 113.5, 113.5, null, 99.0, 99.0, null, 0.345, 27.5, null, 27.5, null, 27.5, null, 27.5, 68.5, 68.5, 67.5, 129.5, 120.0, 120.0, 122.5, 131.0, 144.5, 111.0, 104.0, 109.0, 129.5, 116.0, 116.0, 122.5, 131.0, 132.0, 101.5, 103.5, 111.0, 98.5, 104.0, 109.0, 129.5, 116.0, 116.0, 98.5, 101.5, 103.5, 98.5, 125.5, 101.5, 104.0, 103.5, 98.5, 96.0, 99.5, 98.5, 104.5, 89.0, 100.5, 95.5, 95.5, 89.0, 89.0, 0.3, null, null, 113.0, 118.5, 115.0, 115.5, null, 112.0, 112.0, 112.0, 115.0, 115.0, 115.0, 108.0, 107.0, 107.0, 104.5, 104.5, 104.5, 104.5, null, null, null, null, 114.5, 114.5, 114.5, 118.5, 118.5, null, 101.5, 109.0, 101.5, 109.0, 101.5, 109.0, 107.5, 107.5, 107.5, 100.0, 83.5, 83.5, 84.0, null, 111.5, 112.5, 112.5, 112.5, 112.5, 112.5, 121.5, 121.5, null, 72.5, 72.5, null, 13.7, 13.7, 26.0, 32.0, 26.0, 32.0, 90.0, 43.0, 41.0, 41.0, 41.0, null, null, null, null, 62.0, 62.0, null, null, 70.0, 67.0], \"yaxis\": \"y\"}, {\"customdata\": [[\"Audi\"], [\"Audi\"], [\"Audi\"], [\"Audi\"], [\"Audi\"], [\"BMW\"], [\"Chevrolet\"], [\"Chevrolet\"], [\"Chevrolet\"], [\"Chevrolet\"], [\"Chevrolet\"], [\"Chevrolet\"], [\"Nissan\"], [\"Nissan\"], [\"Nissan\"], [\"Nissan\"], [\"Nissan\"], [\"Nissan\"], [\"Nissan\"], [\"Nissan\"], [\"Nissan\"], [\"Nissan\"], [\"Porsche\"], [\"Porsche\"], [\"Volkswagen\"], [\"Volkswagen\"], [\"Volkswagen\"], [\"Volkswagen\"], [\"Volkswagen\"], [\"Ford\"], [\"Ford\"], [\"Ford\"], [\"Ford\"], [\"Ford\"], [\"Ford\"], [\"Ford\"], [\"Ford\"], [\"Ford\"], [\"Ford\"], [\"Honda\"], [\"Mercedes-Benz\"], [\"Toyota\"], [\"Toyota\"], [\"Toyota\"], [\"Toyota\"], [\"Toyota\"], [\"Toyota\"], [\"Toyota\"], [\"Toyota\"], [\"Toyota\"], [\"Toyota\"], [\"Toyota\"], [\"Toyota\"], [\"Toyota\"], [\"Toyota\"], [\"Toyota\"], [\"Toyota\"], [\"Toyota\"], [\"Toyota\"], [\"Toyota\"], [\"Toyota\"], [\"Toyota\"], [\"Toyota\"], [\"Toyota\"], [\"Toyota\"], [\"Toyota\"], [\"Toyota\"], [\"Toyota\"], [\"Toyota\"], [\"Chrysler\"], [\"Dodge\"], [\"Land Rover\"], [\"Subaru\"], [\"Subaru\"], [\"Subaru\"], [\"Cadillac\"], [\"Cadillac\"], [\"Cadillac\"], [\"Cadillac\"], [\"Cadillac\"], [\"Acura\"], [\"Acura\"], [\"Acura\"], [\"Acura\"], [\"Jeep\"], [\"Jeep\"], [\"Jeep\"], [\"Jeep\"], [\"Jeep\"], [\"Lexus\"], [\"Lexus\"], [\"Lexus\"], [\"Lexus\"], [\"Lexus\"], [\"Lexus\"], [\"Lexus\"], [\"Lexus\"], [\"Lexus\"], [\"Lexus\"], [\"Lexus\"], [\"Lexus\"], [\"Lexus\"], [\"Lexus\"], [\"Lexus\"], [\"Lexus\"], [\"Lexus\"], [\"Lexus\"], [\"GMC\"], [\"GMC\"], [\"GMC\"], [\"GMC\"], [\"GMC\"], [\"GMC\"], [\"GMC\"], [\"Infiniti\"], [\"Infiniti\"], [\"Infiniti\"], [\"Infiniti\"], [\"Infiniti\"], [\"Mazda\"], [\"Mazda\"], [\"Mazda\"], [\"Mazda\"], [\"Mercury\"], [\"Mercury\"], [\"Mercury\"], [\"Mercury\"], [\"Mercury\"], [\"Mercury\"], [\"Saturn\"], [\"Saturn\"], [\"Saturn\"], [\"Audi\"], [\"Audi\"], [\"Audi\"], [\"Audi\"], [\"Audi\"], [\"Audi\"], [\"Audi\"], [\"Audi\"], [\"Audi\"], [\"Audi\"], [\"Audi\"], [\"Audi\"], [\"Audi\"], [\"Audi\"], [\"Audi\"], [\"Audi\"], [\"Audi\"], [\"BMW\"], [\"BMW\"], [\"BMW\"], [\"BMW\"], [\"BMW\"], [\"BMW\"], [\"BMW\"], [\"BMW\"], [\"BMW\"], [\"BMW\"], [\"BMW\"], [\"BMW\"], [\"BMW\"], [\"BMW\"], [\"Chevrolet\"], [\"Chevrolet\"], [\"Chevrolet\"], [\"Chevrolet\"], [\"Chevrolet\"], [\"Chevrolet\"], [\"Chevrolet\"], [\"Hyundai\"], [\"Hyundai\"], [\"Hyundai\"], [\"Hyundai\"], [\"Hyundai\"], [\"Hyundai\"], [\"Hyundai\"], [\"Hyundai\"], [\"Hyundai\"], [\"Hyundai\"], [\"Hyundai\"], [\"Hyundai\"], [\"Hyundai\"], [\"Hyundai\"], [\"Hyundai\"], [\"Hyundai\"], [\"Hyundai\"], [\"Hyundai\"], [\"Hyundai\"], [\"Hyundai\"], [\"Hyundai\"], [\"Hyundai\"], [\"Kia\"], [\"Kia\"], [\"Kia\"], [\"Kia\"], [\"Kia\"], [\"Kia\"], [\"Kia\"], [\"Kia\"], [\"Kia\"], [\"Kia\"], [\"Kia\"], [\"Kia\"], [\"Kia\"], [\"Kia\"], [\"Kia\"], [\"Kia\"], [\"Kia\"], [\"Kia\"], [\"Kia\"], [\"Kia\"], [\"Kia\"], [\"Kia\"], [\"Nissan\"], [\"Nissan\"], [\"Nissan\"], [\"Nissan\"], [\"Nissan\"], [\"Nissan\"], [\"Porsche\"], [\"Porsche\"], [\"Porsche\"], [\"Volkswagen\"], [\"Volkswagen\"], [\"Volkswagen\"], [\"Volkswagen\"], [\"Ford\"], [\"Ford\"], [\"Ford\"], [\"Ford\"], [\"Ford\"], [\"Ford\"], [\"Ford\"], [\"Ford\"], [\"Ford\"], [\"Ford\"], [\"Ford\"], [\"Ford\"], [\"Ford\"], [\"Ford\"], [\"Ford\"], [\"Ford\"], [\"Ford\"], [\"Ford\"], [\"Ford\"], [\"Ford\"], [\"Ford\"], [\"Ford\"], [\"Honda\"], [\"Honda\"], [\"Honda\"], [\"Honda\"], [\"Honda\"], [\"Honda\"], [\"Honda\"], [\"Honda\"], [\"Honda\"], [\"Honda\"], [\"Honda\"], [\"Honda\"], [\"Honda\"], [\"Honda\"], [\"Honda\"], [\"Honda\"], [\"Honda\"], [\"Honda\"], [\"Honda\"], [\"Honda\"], [\"Honda\"], [\"Honda\"], [\"Honda\"], [\"Honda\"], [\"Honda\"], [\"Honda\"], [\"Honda\"], [\"Honda\"], [\"Honda\"], [\"Honda\"], [\"Honda\"], [\"Honda\"], [\"Honda\"], [\"Honda\"], [\"Honda\"], [\"Honda\"], [\"Honda\"], [\"Honda\"], [\"Honda\"], [\"Honda\"], [\"Honda\"], [\"Honda\"], [\"Honda\"], [\"Honda\"], [\"Honda\"], [\"Honda\"], [\"Mercedes-Benz\"], [\"Mercedes-Benz\"], [\"Mercedes-Benz\"], [\"Mercedes-Benz\"], [\"Mercedes-Benz\"], [\"Mercedes-Benz\"], [\"Mercedes-Benz\"], [\"Mercedes-Benz\"], [\"Mercedes-Benz\"], [\"Mercedes-Benz\"], [\"Mercedes-Benz\"], [\"Mercedes-Benz\"], [\"Mercedes-Benz\"], [\"Mercedes-Benz\"], [\"Mercedes-Benz\"], [\"Mercedes-Benz\"], [\"Mercedes-Benz\"], [\"Mercedes-Benz\"], [\"Mercedes-Benz\"], [\"Mercedes-Benz\"], [\"Mercedes-Benz\"], [\"Mercedes-Benz\"], [\"Mercedes-Benz\"], [\"Mercedes-Benz\"], [\"Mercedes-Benz\"], [\"Toyota\"], [\"Toyota\"], [\"Toyota\"], [\"Toyota\"], [\"Toyota\"], [\"Toyota\"], [\"Toyota\"], [\"Toyota\"], [\"Toyota\"], [\"Toyota\"], [\"Toyota\"], [\"Toyota\"], [\"Toyota\"], [\"Toyota\"], [\"Toyota\"], [\"Toyota\"], [\"Toyota\"], [\"Toyota\"], [\"Toyota\"], [\"Toyota\"], [\"Toyota\"], [\"Toyota\"], [\"Toyota\"], [\"Toyota\"], [\"Toyota\"], [\"Toyota\"], [\"Toyota\"], [\"Toyota\"], [\"Toyota\"], [\"Toyota\"], [\"Toyota\"], [\"Toyota\"], [\"Toyota\"], [\"Toyota\"], [\"Toyota\"], [\"Toyota\"], [\"Toyota\"], [\"Toyota\"], [\"Toyota\"], [\"Toyota\"], [\"Toyota\"], [\"Toyota\"], [\"Toyota\"], [\"Toyota\"], [\"Toyota\"], [\"Toyota\"], [\"Toyota\"], [\"Toyota\"], [\"Toyota\"], [\"Toyota\"], [\"Toyota\"], [\"Toyota\"], [\"Toyota\"], [\"Toyota\"], [\"Toyota\"], [\"Toyota\"], [\"Toyota\"], [\"Toyota\"], [\"Toyota\"], [\"Toyota\"], [\"Toyota\"], [\"Toyota\"], [\"Toyota\"], [\"Toyota\"], [\"Toyota\"], [\"Toyota\"], [\"Toyota\"], [\"Toyota\"], [\"Toyota\"], [\"Toyota\"], [\"Toyota\"], [\"Toyota\"], [\"Toyota\"], [\"Lincoln\"], [\"Lincoln\"], [\"Lincoln\"], [\"Lincoln\"], [\"Lincoln\"], [\"Lincoln\"], [\"Lincoln\"], [\"Lincoln\"], [\"Lincoln\"], [\"Lincoln\"], [\"Acura\"], [\"Acura\"], [\"Acura\"], [\"Acura\"], [\"Acura\"], [\"Acura\"], [\"Acura\"], [\"Acura\"], [\"Acura\"], [\"Acura\"], [\"Acura\"], [\"Acura\"], [\"Lexus\"], [\"Lexus\"], [\"Lexus\"], [\"Lexus\"], [\"Lexus\"], [\"Lexus\"], [\"Lexus\"], [\"Lexus\"], [\"Lexus\"], [\"Lexus\"], [\"Lexus\"], [\"Lexus\"], [\"Lexus\"], [\"Lexus\"], [\"Lexus\"], [\"Lexus\"], [\"Lexus\"], [\"Lexus\"], [\"Lexus\"], [\"Lexus\"], [\"Lexus\"], [\"Lexus\"], [\"Lexus\"], [\"Lexus\"], [\"Lexus\"], [\"Lexus\"], [\"Lexus\"], [\"Lexus\"], [\"Lexus\"], [\"Lexus\"], [\"Lexus\"], [\"Lexus\"], [\"Lexus\"], [\"Lexus\"], [\"Lexus\"], [\"Lexus\"], [\"Lexus\"], [\"Lexus\"], [\"Lexus\"], [\"Lexus\"], [\"Lexus\"], [\"Lexus\"], [\"Lexus\"], [\"Lexus\"], [\"Lexus\"], [\"Lexus\"], [\"Lexus\"], [\"Lexus\"], [\"Lexus\"], [\"Lexus\"], [\"Lexus\"], [\"Buick\"], [\"Buick\"], [\"Buick\"], [\"Buick\"], [\"Infiniti\"], [\"Infiniti\"], [\"Infiniti\"], [\"Infiniti\"], [\"Infiniti\"], [\"Infiniti\"], [\"Infiniti\"], [\"Infiniti\"], [\"Infiniti\"], [\"Infiniti\"], [\"Infiniti\"], [\"Infiniti\"], [\"Infiniti\"], [\"Infiniti\"], [\"Infiniti\"], [\"Infiniti\"], [\"Infiniti\"], [\"Ferrari\"], [\"Mercury\"], [\"Mercury\"], [\"Saturn\"], [\"Saturn\"], [\"Chevrolet\"], [\"Chevrolet\"], [\"Chevrolet\"], [\"Chevrolet\"], [\"Chevrolet\"], [\"Chevrolet\"], [\"Chevrolet\"], [\"Chevrolet\"], [\"Chevrolet\"], [\"Chevrolet\"], [\"Chevrolet\"], [\"Chevrolet\"], [\"Ford\"], [\"Ram\"], [\"Ram\"], [\"Ram\"], [\"Ram\"], [\"Ram\"], [\"Ram\"], [\"Ram\"], [\"Ram\"], [\"Ram\"], [\"Ram\"], [\"GMC\"], [\"GMC\"], [\"GMC\"], [\"GMC\"], [\"GMC\"], [\"GMC\"], [\"GMC\"], [\"GMC\"], [\"GMC\"], [\"GMC\"], [\"GMC\"], [\"Ford\"]], \"hoverlabel\": {\"namelength\": 0}, \"hovertemplate\": \"fuel=Hybrid Electric<br>Model Year=%{x}<br>Alternative Fuel Economy Combined=%{y}<br>Maker=%{customdata[0]}\", \"legendgroup\": \"fuel=Hybrid Electric\", \"marker\": {\"color\": \"#EF553B\", \"symbol\": \"circle\"}, \"mode\": \"markers\", \"name\": \"Hybrid Electric\", \"showlegend\": true, \"type\": \"scatter\", \"x\": [2020, 2016, 2015, 2014, 2013, 2011, 2013, 2012, 2011, 2010, 2009, 2008, 2019, 2019, 2018, 2018, 2017, 2017, 2017, 2016, 2015, 2014, 2014, 2012, 2015, 2014, 2013, 2012, 2011, 2020, 2020, 2012, 2011, 2010, 2009, 2008, 2007, 2006, 2005, 2020, 2011, 2020, 2020, 2020, 2020, 2019, 2018, 2018, 2018, 2017, 2017, 2017, 2016, 2016, 2015, 2014, 2013, 2012, 2012, 2011, 2010, 2009, 2008, 2008, 2007, 2007, 2006, 2006, 2005, 2009, 2009, 2019, 2016, 2015, 2014, 2013, 2012, 2011, 2010, 2009, 2020, 2019, 2018, 2017, 2020, 2020, 2020, 2019, 2019, 2020, 2020, 2020, 2019, 2019, 2019, 2018, 2018, 2017, 2017, 2016, 2016, 2015, 2014, 2013, 2012, 2011, 2010, 2013, 2013, 2012, 2011, 2010, 2009, 2008, 2017, 2017, 2016, 2015, 2014, 2011, 2010, 2009, 2008, 2011, 2010, 2009, 2008, 2007, 2006, 2009, 2008, 2007, 2020, 2020, 2020, 2020, 2020, 2020, 2020, 2020, 2020, 2020, 2020, 2019, 2019, 2019, 2019, 2019, 2019, 2016, 2015, 2015, 2015, 2014, 2014, 2014, 2013, 2013, 2013, 2012, 2011, 2011, 2010, 2019, 2018, 2017, 2016, 2010, 2009, 2008, 2020, 2020, 2020, 2020, 2019, 2019, 2019, 2019, 2018, 2018, 2018, 2018, 2017, 2017, 2017, 2017, 2016, 2015, 2014, 2013, 2012, 2011, 2020, 2020, 2020, 2020, 2019, 2019, 2019, 2019, 2018, 2018, 2018, 2018, 2017, 2017, 2017, 2017, 2016, 2015, 2015, 2014, 2013, 2012, 2012, 2011, 2010, 2009, 2008, 2007, 2013, 2013, 2012, 2016, 2015, 2014, 2013, 2020, 2020, 2020, 2020, 2019, 2019, 2018, 2018, 2017, 2017, 2016, 2016, 2015, 2015, 2014, 2014, 2013, 2013, 2012, 2011, 2011, 2010, 2020, 2020, 2020, 2019, 2019, 2019, 2018, 2017, 2016, 2015, 2015, 2015, 2014, 2014, 2014, 2014, 2013, 2013, 2013, 2012, 2012, 2012, 2011, 2011, 2011, 2011, 2010, 2010, 2009, 2008, 2007, 2007, 2006, 2006, 2006, 2005, 2005, 2005, 2004, 2004, 2003, 2003, 2002, 2002, 2001, 2000, 2020, 2020, 2020, 2020, 2020, 2020, 2020, 2020, 2020, 2020, 2020, 2019, 2019, 2019, 2019, 2019, 2019, 2019, 2015, 2014, 2013, 2013, 2012, 2011, 2010, 2020, 2020, 2020, 2020, 2020, 2020, 2020, 2020, 2019, 2019, 2019, 2019, 2019, 2019, 2019, 2019, 2019, 2019, 2018, 2018, 2018, 2018, 2018, 2018, 2017, 2017, 2017, 2017, 2017, 2017, 2017, 2016, 2016, 2016, 2016, 2016, 2015, 2015, 2015, 2015, 2015, 2014, 2014, 2014, 2014, 2014, 2013, 2013, 2013, 2013, 2013, 2012, 2012, 2011, 2011, 2010, 2010, 2009, 2009, 2008, 2008, 2008, 2008, 2007, 2007, 2007, 2006, 2005, 2004, 2003, 2002, 2001, 2000, 2020, 2019, 2018, 2017, 2016, 2015, 2014, 2013, 2012, 2011, 2020, 2020, 2019, 2019, 2018, 2018, 2017, 2017, 2016, 2014, 2014, 2013, 2020, 2020, 2020, 2020, 2020, 2020, 2019, 2019, 2019, 2019, 2019, 2019, 2018, 2018, 2018, 2018, 2018, 2018, 2017, 2017, 2017, 2016, 2016, 2016, 2016, 2016, 2015, 2015, 2015, 2015, 2015, 2015, 2014, 2014, 2014, 2014, 2013, 2013, 2013, 2013, 2012, 2012, 2012, 2012, 2011, 2011, 2011, 2011, 2010, 2009, 2009, 2019, 2018, 2012, 2012, 2018, 2018, 2018, 2017, 2017, 2017, 2016, 2016, 2016, 2015, 2015, 2015, 2014, 2014, 2014, 2013, 2012, 2017, 2011, 2010, 2009, 2008, 2018, 2018, 2017, 2017, 2013, 2012, 2011, 2010, 2009, 2007, 2006, 2005, 2019, 2020, 2020, 2020, 2020, 2020, 2019, 2019, 2019, 2019, 2019, 2018, 2018, 2017, 2017, 2013, 2013, 2012, 2011, 2007, 2006, 2005, 2019], \"xaxis\": \"x\", \"y\": [null, 27.0, null, null, null, 18.0, null, null, 21.5, 21.5, 20.0, 20.5, null, null, null, null, null, null, null, null, null, null, null, null, null, null, null, null, null, null, null, null, 28.5, 32.5, 32.5, 32.0, 33.5, 33.5, 33.5, null, 22.5, null, null, null, null, null, null, null, null, null, null, null, null, null, null, null, null, null, null, 26.0, 26.0, 26.0, 26.0, 25.5, 29.0, 29.0, 30.5, 30.5, 29.0, 19.5, 19.5, null, 32.0, null, null, null, null, 21.5, 21.5, 20.5, null, null, null, null, null, null, null, null, null, null, null, null, null, null, null, null, null, null, null, 33.0, null, null, null, null, null, 30.0, 30.0, null, null, null, 21.5, 21.5, 20.0, 20.5, null, null, null, null, null, null, 32.5, 32.5, 28.0, 28.5, 32.5, 32.5, 32.0, 31.0, 31.0, 28.5, 29.5, 29.5, null, null, null, null, null, null, null, null, null, null, null, null, null, null, null, null, null, 26.5, null, null, null, null, null, null, null, null, null, null, 20.5, 20.5, 18.0, null, null, null, null, 30.0, 24.0, 28.0, null, null, null, null, null, null, null, null, null, null, null, null, null, null, null, null, 41.0, null, null, null, null, 38.0, null, null, null, null, null, null, null, null, null, null, null, null, null, null, null, null, 106.0, null, 38.0, null, null, null, null, 34.0, 34.0, 34.0, 34.0, 38.5, null, null, null, 45.0, null, null, null, null, null, null, null, null, null, null, null, null, null, 39.5, 42.5, null, null, null, null, null, null, null, 38.5, null, 38.5, null, null, null, null, null, null, null, null, 37.5, null, null, null, null, null, null, null, null, null, null, null, null, null, 42.5, 42.5, 37.0, 41.5, 42.5, 41.5, 42.5, 42.5, 31.5, 50.0, 34.0, 50.0, 63.0, 34.0, 47.5, 63.0, 48.5, 64.5, 48.5, 64.5, 48.5, 65.5, 65.5, 65.5, null, null, null, null, null, null, null, null, null, null, null, null, null, null, null, null, null, null, null, null, null, null, null, 22.5, 22.5, null, null, null, null, null, null, null, null, null, null, null, null, null, null, null, null, null, null, null, null, null, null, null, null, null, null, null, null, null, null, null, null, 41.0, null, null, 42.0, null, null, null, null, null, null, null, null, null, null, null, null, null, null, null, null, null, 33.0, 49.5, 33.5, 49.5, 33.5, 46.5, 33.5, 23.5, 21.0, 46.5, 39.0, 26.5, 55.5, 55.5, 55.5, 55.5, 55.5, 55.5, 48.5, 48.5, null, null, null, null, 40.0, null, null, null, null, 38.5, null, null, null, null, null, null, null, null, 30.0, null, null, null, null, null, null, null, null, null, null, null, null, null, null, null, null, null, null, null, null, null, null, null, null, 41.5, 39.5, 31.5, null, 21.0, null, null, null, null, null, null, null, null, null, null, null, null, null, null, null, null, null, null, null, 23.5, 34.5, 21.0, 34.5, 23.5, 21.0, null, null, null, null, null, null, null, null, null, null, null, null, null, null, 26.0, null, null, null, null, null, null, null, 38.5, null, 30.0, 28.0, null, null, null, null, null, null, 21.5, 21.5, 21.5, 19.5, 19.5, 18.0, null, null, null, null, null, null, null, null, null, null, null, null, null, null, null, null, null, null, 21.5, 19.5, 19.5, 18.0, null], \"yaxis\": \"y\"}, {\"customdata\": [[\"BMW\"], [\"BMW\"], [\"BMW\"], [\"BMW\"], [\"Porsche\"], [\"Porsche\"], [\"Porsche\"], [\"Porsche\"], [\"Porsche\"], [\"Porsche\"], [\"Porsche\"], [\"Porsche\"], [\"Mercedes-Benz\"], [\"Mercedes-Benz\"], [\"Mercedes-Benz\"], [\"Mercedes-Benz\"], [\"Mercedes-Benz\"], [\"Mercedes-Benz\"], [\"Mitsubishi\"], [\"Mitsubishi\"], [\"Mitsubishi\"], [\"Land Rover\"], [\"Land Rover\"], [\"Lincoln\"], [\"Subaru\"], [\"Subaru\"], [\"Volvo\"], [\"Volvo\"], [\"Volvo\"], [\"Volvo\"], [\"Volvo\"], [\"Volvo\"], [\"Volvo\"], [\"Volvo\"], [\"Volvo\"], [\"Volvo\"], [\"Volvo\"], [\"Audi\"], [\"Audi\"], [\"Audi\"], [\"Audi\"], [\"Audi\"], [\"Audi\"], [\"BMW\"], [\"BMW\"], [\"BMW\"], [\"BMW\"], [\"BMW\"], [\"BMW\"], [\"BMW\"], [\"BMW\"], [\"BMW\"], [\"BMW\"], [\"BMW\"], [\"BMW\"], [\"BMW\"], [\"BMW\"], [\"BMW\"], [\"BMW\"], [\"BMW\"], [\"BMW\"], [\"BMW\"], [\"BMW\"], [\"BMW\"], [\"BMW\"], [\"BMW\"], [\"BMW\"], [\"BMW\"], [\"BMW\"], [\"BMW\"], [\"BMW\"], [\"BMW\"], [\"BMW\"], [\"Chevrolet\"], [\"Chevrolet\"], [\"Chevrolet\"], [\"Chevrolet\"], [\"Chevrolet\"], [\"Chevrolet\"], [\"Chevrolet\"], [\"Chevrolet\"], [\"Chevrolet\"], [\"Hyundai\"], [\"Hyundai\"], [\"Hyundai\"], [\"Hyundai\"], [\"Hyundai\"], [\"Hyundai\"], [\"Hyundai\"], [\"Kia\"], [\"Kia\"], [\"Kia\"], [\"Kia\"], [\"Kia\"], [\"Kia\"], [\"Kia\"], [\"Mini\"], [\"Mini\"], [\"Mini\"], [\"Porsche\"], [\"Porsche\"], [\"Porsche\"], [\"Porsche\"], [\"Porsche\"], [\"Porsche\"], [\"Porsche\"], [\"Porsche\"], [\"Porsche\"], [\"Porsche\"], [\"Porsche\"], [\"Porsche\"], [\"Porsche\"], [\"Porsche\"], [\"Porsche\"], [\"Porsche\"], [\"Porsche\"], [\"Porsche\"], [\"Porsche\"], [\"Porsche\"], [\"Porsche\"], [\"Porsche\"], [\"Porsche\"], [\"Porsche\"], [\"Ford\"], [\"Ford\"], [\"Ford\"], [\"Ford\"], [\"Ford\"], [\"Ford\"], [\"Ford\"], [\"Ford\"], [\"Ford\"], [\"Ford\"], [\"Ford\"], [\"Ford\"], [\"Ford\"], [\"Ford\"], [\"Ford\"], [\"Honda\"], [\"Honda\"], [\"Honda\"], [\"Honda\"], [\"Honda\"], [\"Mercedes-Benz\"], [\"Mercedes-Benz\"], [\"Mercedes-Benz\"], [\"Mercedes-Benz\"], [\"Mercedes-Benz\"], [\"Mercedes-Benz\"], [\"Toyota\"], [\"Toyota\"], [\"Toyota\"], [\"Toyota\"], [\"Toyota\"], [\"Toyota\"], [\"Toyota\"], [\"Toyota\"], [\"Toyota\"], [\"Chrysler\"], [\"Karma\"], [\"Karma\"], [\"Karma\"], [\"Volvo\"], [\"Volvo\"], [\"Volvo\"], [\"Volvo\"], [\"Cadillac\"], [\"Cadillac\"], [\"Cadillac\"], [\"Cadillac\"], [\"Cadillac\"], [\"McLaren\"], [\"McLaren\"], [\"McLaren\"], [\"Fisker Automotive\"], [\"Ford\"], [\"Ford\"], [\"Ford\"], [\"Chrysler\"], [\"Chrysler\"], [\"Chrysler\"]], \"hoverlabel\": {\"namelength\": 0}, \"hovertemplate\": \"fuel=Plug-in Hybrid Electric<br>Model Year=%{x}<br>Alternative Fuel Economy Combined=%{y}<br>Maker=%{customdata[0]}\", \"legendgroup\": \"fuel=Plug-in Hybrid Electric\", \"marker\": {\"color\": \"#00cc96\", \"symbol\": \"circle\"}, \"mode\": \"markers\", \"name\": \"Plug-in Hybrid Electric\", \"showlegend\": true, \"type\": \"scatter\", \"x\": [2020, 2018, 2017, 2016, 2020, 2020, 2019, 2018, 2017, 2017, 2016, 2015, 2020, 2019, 2019, 2018, 2018, 2017, 2020, 2019, 2018, 2020, 2020, 2020, 2020, 2019, 2020, 2020, 2020, 2020, 2019, 2019, 2019, 2018, 2018, 2017, 2017, 2020, 2020, 2018, 2017, 2016, 2015, 2020, 2020, 2020, 2020, 2020, 2020, 2020, 2019, 2019, 2019, 2019, 2019, 2019, 2019, 2018, 2018, 2018, 2018, 2018, 2018, 2017, 2017, 2017, 2017, 2016, 2016, 2015, 2015, 2014, 2014, 2019, 2018, 2017, 2016, 2015, 2014, 2013, 2012, 2011, 2020, 2019, 2018, 2018, 2017, 2017, 2016, 2020, 2020, 2019, 2019, 2018, 2018, 2017, 2020, 2019, 2018, 2020, 2020, 2020, 2020, 2020, 2020, 2019, 2019, 2019, 2019, 2019, 2019, 2018, 2018, 2018, 2018, 2018, 2018, 2017, 2017, 2016, 2015, 2015, 2014, 2020, 2020, 2019, 2019, 2018, 2017, 2017, 2016, 2016, 2015, 2015, 2014, 2014, 2013, 2013, 2020, 2019, 2018, 2015, 2014, 2018, 2017, 2017, 2016, 2016, 2015, 2020, 2019, 2018, 2017, 2016, 2015, 2014, 2013, 2012, 2017, 2020, 2019, 2018, 2020, 2019, 2018, 2016, 2018, 2017, 2016, 2015, 2014, 2016, 2015, 2014, 2012, 2019, 2019, 2018, 2020, 2019, 2018], \"xaxis\": \"x\", \"y\": [null, 56.0, null, 56.0, 41.0, 41.0, 46.0, 47.0, null, 46.0, 47.0, 47.0, 64.0, null, 64.0, 74.0, 69.0, 43.0, null, null, 74.0, null, null, null, null, null, null, null, null, null, null, null, null, 59.0, 62.0, null, 54.0, null, null, 83.0, 83.0, null, null, null, null, null, null, null, null, null, null, null, null, null, null, null, null, 71.0, 72.0, 67.0, 64.0, 109.0, 109.0, 71.0, 64.0, 111.0, null, 117.0, 76.0, 117.0, 76.0, null, null, null, 106.0, 106.0, 106.0, 98.0, 98.0, 97.0, 94.0, 0.365, null, null, 119.0, 99.0, null, 99.0, 99.0, null, null, null, null, 105.0, 103.0, 103.0, null, null, 65.0, null, null, null, null, null, null, null, null, null, null, null, null, 46.0, 46.0, 46.0, 49.0, 49.0, 49.0, null, null, 51.0, 67.0, 50.0, null, null, null, null, null, 97.0, null, 97.0, 88.0, 88.0, 88.0, 88.0, 100.0, 100.0, null, null, null, null, 110.0, 115.0, 115.0, 56.0, null, 58.0, null, 58.0, null, null, null, null, 133.0, null, 95.0, 95.0, null, 95.0, null, 70.0, 60.0, 60.0, null, null, 71.0, null, 62.0, null, 85.0, 82.0, null, 18.0, null, null, 62.5, null, null, null, 82.0, null, 84.0], \"yaxis\": \"y\"}, {\"customdata\": [[\"Hyundai\"], [\"Hyundai\"], [\"Hyundai\"], [\"Hyundai\"], [\"Hyundai\"], [\"Hyundai\"], [\"Hyundai\"], [\"Honda\"], [\"Honda\"], [\"Honda\"], [\"Honda\"], [\"Honda\"], [\"Honda\"], [\"Honda\"], [\"Honda\"], [\"Honda\"], [\"Honda\"], [\"Mercedes-Benz\"], [\"Mercedes-Benz\"], [\"Mercedes-Benz\"], [\"Toyota\"], [\"Toyota\"], [\"Toyota\"], [\"Toyota\"], [\"Toyota\"], [\"Toyota\"]], \"hoverlabel\": {\"namelength\": 0}, \"hovertemplate\": \"fuel=Hydrogen Fuel Cell<br>Model Year=%{x}<br>Alternative Fuel Economy Combined=%{y}<br>Maker=%{customdata[0]}\", \"legendgroup\": \"fuel=Hydrogen Fuel Cell\", \"marker\": {\"color\": \"#ab63fa\", \"symbol\": \"circle\"}, \"mode\": \"markers\", \"name\": \"Hydrogen Fuel Cell\", \"showlegend\": true, \"type\": \"scatter\", \"x\": [2020, 2020, 2019, 2019, 2017, 2016, 2015, 2020, 2019, 2018, 2016, 2014, 2013, 2011, 2009, 2008, 2007, 2015, 2014, 2012, 2020, 2019, 2018, 2017, 2016, 2015], \"xaxis\": \"x\", \"y\": [56.5, 61.5, 56.5, 61.5, 49.5, null, null, 67.5, 67.5, 67.0, null, 60.0, 60.0, 60.0, 72.0, 56.5, 56.5, null, null, null, 67.0, 67.0, 66.0, 67.0, null, null], \"yaxis\": \"y\"}],\n",
              "                        {\"legend\": {\"tracegroupgap\": 0}, \"template\": {\"data\": {\"bar\": [{\"error_x\": {\"color\": \"#2a3f5f\"}, \"error_y\": {\"color\": \"#2a3f5f\"}, \"marker\": {\"line\": {\"color\": \"#E5ECF6\", \"width\": 0.5}}, \"type\": \"bar\"}], \"barpolar\": [{\"marker\": {\"line\": {\"color\": \"#E5ECF6\", \"width\": 0.5}}, \"type\": \"barpolar\"}], \"carpet\": [{\"aaxis\": {\"endlinecolor\": \"#2a3f5f\", \"gridcolor\": \"white\", \"linecolor\": \"white\", \"minorgridcolor\": \"white\", \"startlinecolor\": \"#2a3f5f\"}, \"baxis\": {\"endlinecolor\": \"#2a3f5f\", \"gridcolor\": \"white\", \"linecolor\": \"white\", \"minorgridcolor\": \"white\", \"startlinecolor\": \"#2a3f5f\"}, \"type\": \"carpet\"}], \"choropleth\": [{\"colorbar\": {\"outlinewidth\": 0, \"ticks\": \"\"}, \"type\": \"choropleth\"}], \"contour\": [{\"colorbar\": {\"outlinewidth\": 0, \"ticks\": \"\"}, \"colorscale\": [[0.0, \"#0d0887\"], [0.1111111111111111, \"#46039f\"], [0.2222222222222222, \"#7201a8\"], [0.3333333333333333, \"#9c179e\"], [0.4444444444444444, \"#bd3786\"], [0.5555555555555556, \"#d8576b\"], [0.6666666666666666, \"#ed7953\"], [0.7777777777777778, \"#fb9f3a\"], [0.8888888888888888, \"#fdca26\"], [1.0, \"#f0f921\"]], \"type\": \"contour\"}], \"contourcarpet\": [{\"colorbar\": {\"outlinewidth\": 0, \"ticks\": \"\"}, \"type\": \"contourcarpet\"}], \"heatmap\": [{\"colorbar\": {\"outlinewidth\": 0, \"ticks\": \"\"}, \"colorscale\": [[0.0, \"#0d0887\"], [0.1111111111111111, \"#46039f\"], [0.2222222222222222, \"#7201a8\"], [0.3333333333333333, \"#9c179e\"], [0.4444444444444444, \"#bd3786\"], [0.5555555555555556, \"#d8576b\"], [0.6666666666666666, \"#ed7953\"], [0.7777777777777778, \"#fb9f3a\"], [0.8888888888888888, \"#fdca26\"], [1.0, \"#f0f921\"]], \"type\": \"heatmap\"}], \"heatmapgl\": [{\"colorbar\": {\"outlinewidth\": 0, \"ticks\": \"\"}, \"colorscale\": [[0.0, \"#0d0887\"], [0.1111111111111111, \"#46039f\"], [0.2222222222222222, \"#7201a8\"], [0.3333333333333333, \"#9c179e\"], [0.4444444444444444, \"#bd3786\"], [0.5555555555555556, \"#d8576b\"], [0.6666666666666666, \"#ed7953\"], [0.7777777777777778, \"#fb9f3a\"], [0.8888888888888888, \"#fdca26\"], [1.0, \"#f0f921\"]], \"type\": \"heatmapgl\"}], \"histogram\": [{\"marker\": {\"colorbar\": {\"outlinewidth\": 0, \"ticks\": \"\"}}, \"type\": \"histogram\"}], \"histogram2d\": [{\"colorbar\": {\"outlinewidth\": 0, \"ticks\": \"\"}, \"colorscale\": [[0.0, \"#0d0887\"], [0.1111111111111111, \"#46039f\"], [0.2222222222222222, \"#7201a8\"], [0.3333333333333333, \"#9c179e\"], [0.4444444444444444, \"#bd3786\"], [0.5555555555555556, \"#d8576b\"], [0.6666666666666666, \"#ed7953\"], [0.7777777777777778, \"#fb9f3a\"], [0.8888888888888888, \"#fdca26\"], [1.0, \"#f0f921\"]], \"type\": \"histogram2d\"}], \"histogram2dcontour\": [{\"colorbar\": {\"outlinewidth\": 0, \"ticks\": \"\"}, \"colorscale\": [[0.0, \"#0d0887\"], [0.1111111111111111, \"#46039f\"], [0.2222222222222222, \"#7201a8\"], [0.3333333333333333, \"#9c179e\"], [0.4444444444444444, \"#bd3786\"], [0.5555555555555556, \"#d8576b\"], [0.6666666666666666, \"#ed7953\"], [0.7777777777777778, \"#fb9f3a\"], [0.8888888888888888, \"#fdca26\"], [1.0, \"#f0f921\"]], \"type\": \"histogram2dcontour\"}], \"mesh3d\": [{\"colorbar\": {\"outlinewidth\": 0, \"ticks\": \"\"}, \"type\": \"mesh3d\"}], \"parcoords\": [{\"line\": {\"colorbar\": {\"outlinewidth\": 0, \"ticks\": \"\"}}, \"type\": \"parcoords\"}], \"pie\": [{\"automargin\": true, \"type\": \"pie\"}], \"scatter\": [{\"marker\": {\"colorbar\": {\"outlinewidth\": 0, \"ticks\": \"\"}}, \"type\": \"scatter\"}], \"scatter3d\": [{\"line\": {\"colorbar\": {\"outlinewidth\": 0, \"ticks\": \"\"}}, \"marker\": {\"colorbar\": {\"outlinewidth\": 0, \"ticks\": \"\"}}, \"type\": \"scatter3d\"}], \"scattercarpet\": [{\"marker\": {\"colorbar\": {\"outlinewidth\": 0, \"ticks\": \"\"}}, \"type\": \"scattercarpet\"}], \"scattergeo\": [{\"marker\": {\"colorbar\": {\"outlinewidth\": 0, \"ticks\": \"\"}}, \"type\": \"scattergeo\"}], \"scattergl\": [{\"marker\": {\"colorbar\": {\"outlinewidth\": 0, \"ticks\": \"\"}}, \"type\": \"scattergl\"}], \"scattermapbox\": [{\"marker\": {\"colorbar\": {\"outlinewidth\": 0, \"ticks\": \"\"}}, \"type\": \"scattermapbox\"}], \"scatterpolar\": [{\"marker\": {\"colorbar\": {\"outlinewidth\": 0, \"ticks\": \"\"}}, \"type\": \"scatterpolar\"}], \"scatterpolargl\": [{\"marker\": {\"colorbar\": {\"outlinewidth\": 0, \"ticks\": \"\"}}, \"type\": \"scatterpolargl\"}], \"scatterternary\": [{\"marker\": {\"colorbar\": {\"outlinewidth\": 0, \"ticks\": \"\"}}, \"type\": \"scatterternary\"}], \"surface\": [{\"colorbar\": {\"outlinewidth\": 0, \"ticks\": \"\"}, \"colorscale\": [[0.0, \"#0d0887\"], [0.1111111111111111, \"#46039f\"], [0.2222222222222222, \"#7201a8\"], [0.3333333333333333, \"#9c179e\"], [0.4444444444444444, \"#bd3786\"], [0.5555555555555556, \"#d8576b\"], [0.6666666666666666, \"#ed7953\"], [0.7777777777777778, \"#fb9f3a\"], [0.8888888888888888, \"#fdca26\"], [1.0, \"#f0f921\"]], \"type\": \"surface\"}], \"table\": [{\"cells\": {\"fill\": {\"color\": \"#EBF0F8\"}, \"line\": {\"color\": \"white\"}}, \"header\": {\"fill\": {\"color\": \"#C8D4E3\"}, \"line\": {\"color\": \"white\"}}, \"type\": \"table\"}]}, \"layout\": {\"annotationdefaults\": {\"arrowcolor\": \"#2a3f5f\", \"arrowhead\": 0, \"arrowwidth\": 1}, \"coloraxis\": {\"colorbar\": {\"outlinewidth\": 0, \"ticks\": \"\"}}, \"colorscale\": {\"diverging\": [[0, \"#8e0152\"], [0.1, \"#c51b7d\"], [0.2, \"#de77ae\"], [0.3, \"#f1b6da\"], [0.4, \"#fde0ef\"], [0.5, \"#f7f7f7\"], [0.6, \"#e6f5d0\"], [0.7, \"#b8e186\"], [0.8, \"#7fbc41\"], [0.9, \"#4d9221\"], [1, \"#276419\"]], \"sequential\": [[0.0, \"#0d0887\"], [0.1111111111111111, \"#46039f\"], [0.2222222222222222, \"#7201a8\"], [0.3333333333333333, \"#9c179e\"], [0.4444444444444444, \"#bd3786\"], [0.5555555555555556, \"#d8576b\"], [0.6666666666666666, \"#ed7953\"], [0.7777777777777778, \"#fb9f3a\"], [0.8888888888888888, \"#fdca26\"], [1.0, \"#f0f921\"]], \"sequentialminus\": [[0.0, \"#0d0887\"], [0.1111111111111111, \"#46039f\"], [0.2222222222222222, \"#7201a8\"], [0.3333333333333333, \"#9c179e\"], [0.4444444444444444, \"#bd3786\"], [0.5555555555555556, \"#d8576b\"], [0.6666666666666666, \"#ed7953\"], [0.7777777777777778, \"#fb9f3a\"], [0.8888888888888888, \"#fdca26\"], [1.0, \"#f0f921\"]]}, \"colorway\": [\"#636efa\", \"#EF553B\", \"#00cc96\", \"#ab63fa\", \"#FFA15A\", \"#19d3f3\", \"#FF6692\", \"#B6E880\", \"#FF97FF\", \"#FECB52\"], \"font\": {\"color\": \"#2a3f5f\"}, \"geo\": {\"bgcolor\": \"white\", \"lakecolor\": \"white\", \"landcolor\": \"#E5ECF6\", \"showlakes\": true, \"showland\": true, \"subunitcolor\": \"white\"}, \"hoverlabel\": {\"align\": \"left\"}, \"hovermode\": \"closest\", \"mapbox\": {\"style\": \"light\"}, \"paper_bgcolor\": \"white\", \"plot_bgcolor\": \"#E5ECF6\", \"polar\": {\"angularaxis\": {\"gridcolor\": \"white\", \"linecolor\": \"white\", \"ticks\": \"\"}, \"bgcolor\": \"#E5ECF6\", \"radialaxis\": {\"gridcolor\": \"white\", \"linecolor\": \"white\", \"ticks\": \"\"}}, \"scene\": {\"xaxis\": {\"backgroundcolor\": \"#E5ECF6\", \"gridcolor\": \"white\", \"gridwidth\": 2, \"linecolor\": \"white\", \"showbackground\": true, \"ticks\": \"\", \"zerolinecolor\": \"white\"}, \"yaxis\": {\"backgroundcolor\": \"#E5ECF6\", \"gridcolor\": \"white\", \"gridwidth\": 2, \"linecolor\": \"white\", \"showbackground\": true, \"ticks\": \"\", \"zerolinecolor\": \"white\"}, \"zaxis\": {\"backgroundcolor\": \"#E5ECF6\", \"gridcolor\": \"white\", \"gridwidth\": 2, \"linecolor\": \"white\", \"showbackground\": true, \"ticks\": \"\", \"zerolinecolor\": \"white\"}}, \"shapedefaults\": {\"line\": {\"color\": \"#2a3f5f\"}}, \"ternary\": {\"aaxis\": {\"gridcolor\": \"white\", \"linecolor\": \"white\", \"ticks\": \"\"}, \"baxis\": {\"gridcolor\": \"white\", \"linecolor\": \"white\", \"ticks\": \"\"}, \"bgcolor\": \"#E5ECF6\", \"caxis\": {\"gridcolor\": \"white\", \"linecolor\": \"white\", \"ticks\": \"\"}}, \"title\": {\"x\": 0.05}, \"xaxis\": {\"automargin\": true, \"gridcolor\": \"white\", \"linecolor\": \"white\", \"ticks\": \"\", \"title\": {\"standoff\": 15}, \"zerolinecolor\": \"white\", \"zerolinewidth\": 2}, \"yaxis\": {\"automargin\": true, \"gridcolor\": \"white\", \"linecolor\": \"white\", \"ticks\": \"\", \"title\": {\"standoff\": 15}, \"zerolinecolor\": \"white\", \"zerolinewidth\": 2}}}, \"title\": {\"text\": \"Fuel Efficiency for Electric Vehicles by Alternative Fuel Type Over the Past 20 Years\"}, \"xaxis\": {\"anchor\": \"y\", \"domain\": [0.0, 1.0], \"title\": {\"text\": \"Model Year\"}}, \"yaxis\": {\"anchor\": \"x\", \"domain\": [0.0, 1.0], \"title\": {\"text\": \"Alternative Fuel Economy Combined\"}}},\n",
              "                        {\"responsive\": true}\n",
              "                    ).then(function(){\n",
              "                            \n",
              "var gd = document.getElementById('4da77393-1d3c-4921-bff3-8f4e065b808c');\n",
              "var x = new MutationObserver(function (mutations, observer) {{\n",
              "        var display = window.getComputedStyle(gd).display;\n",
              "        if (!display || display === 'none') {{\n",
              "            console.log([gd, 'removed!']);\n",
              "            Plotly.purge(gd);\n",
              "            observer.disconnect();\n",
              "        }}\n",
              "}});\n",
              "\n",
              "// Listen for the removal of the full notebook cells\n",
              "var notebookContainer = gd.closest('#notebook-container');\n",
              "if (notebookContainer) {{\n",
              "    x.observe(notebookContainer, {childList: true});\n",
              "}}\n",
              "\n",
              "// Listen for the clearing of the current output cell\n",
              "var outputEl = gd.closest('.output');\n",
              "if (outputEl) {{\n",
              "    x.observe(outputEl, {childList: true});\n",
              "}}\n",
              "\n",
              "                        })\n",
              "                };\n",
              "                \n",
              "            </script>\n",
              "        </div>\n",
              "</body>\n",
              "</html>"
            ]
          },
          "metadata": {
            "tags": []
          }
        }
      ]
    },
    {
      "cell_type": "code",
      "metadata": {
        "id": "XVxU_tRxFgAp",
        "colab_type": "code",
        "colab": {
          "base_uri": "https://localhost:8080/",
          "height": 542
        },
        "outputId": "93a3ea14-d06c-435e-8ecf-39c142df2a56"
      },
      "source": [
        "fig = px.scatter(cmb_ID,x='Model Year',y='Alternative Fuel Economy Combined',color = 'fuel',hover_data=['Maker'],title='Fuel Efficiency for Combustion Vehicles by Alternative Fuel Type Over the Past 20 Years').for_each_trace(lambda t: t.update(name=t.name.split(\"=\")[1]))\n",
        "fig.show()"
      ],
      "execution_count": 31,
      "outputs": [
        {
          "output_type": "display_data",
          "data": {
            "text/html": [
              "<html>\n",
              "<head><meta charset=\"utf-8\" /></head>\n",
              "<body>\n",
              "    <div>\n",
              "            <script src=\"https://cdnjs.cloudflare.com/ajax/libs/mathjax/2.7.5/MathJax.js?config=TeX-AMS-MML_SVG\"></script><script type=\"text/javascript\">if (window.MathJax) {MathJax.Hub.Config({SVG: {font: \"STIX-Web\"}});}</script>\n",
              "                <script type=\"text/javascript\">window.PlotlyConfig = {MathJaxConfig: 'local'};</script>\n",
              "        <script src=\"https://cdn.plot.ly/plotly-latest.min.js\"></script>    \n",
              "            <div id=\"f398d108-488b-4449-8715-fe790e915a86\" class=\"plotly-graph-div\" style=\"height:525px; width:100%;\"></div>\n",
              "            <script type=\"text/javascript\">\n",
              "                \n",
              "                    window.PLOTLYENV=window.PLOTLYENV || {};\n",
              "                    \n",
              "                if (document.getElementById(\"f398d108-488b-4449-8715-fe790e915a86\")) {\n",
              "                    Plotly.newPlot(\n",
              "                        'f398d108-488b-4449-8715-fe790e915a86',\n",
              "                        [{\"customdata\": [[\"Chevrolet\"], [\"Chevrolet\"], [\"Chevrolet\"], [\"Chevrolet\"], [\"Chevrolet\"], [\"Chevrolet\"], [\"Chevrolet\"], [\"Chevrolet\"], [\"Chevrolet\"], [\"Chevrolet\"], [\"Chevrolet\"], [\"Chevrolet\"], [\"Chevrolet\"], [\"Chevrolet\"], [\"Chevrolet\"], [\"Chevrolet\"], [\"Chevrolet\"], [\"Chevrolet\"], [\"Chevrolet\"], [\"Chevrolet\"], [\"Chevrolet\"], [\"Chevrolet\"], [\"Chevrolet\"], [\"Chevrolet\"], [\"Chevrolet\"], [\"Chevrolet\"], [\"Chevrolet\"], [\"Chevrolet\"], [\"Chevrolet\"], [\"Chevrolet\"], [\"Chevrolet\"], [\"Chevrolet\"], [\"Ford\"], [\"Ford\"], [\"Ford\"], [\"Ford\"], [\"Ford\"], [\"Ford\"], [\"Ford\"], [\"Ford\"], [\"Ford\"], [\"Ford\"], [\"Ford\"], [\"Ford\"], [\"Ford\"], [\"Ford\"], [\"Ford\"], [\"Ford\"], [\"Ford\"], [\"Ford\"], [\"Ford\"], [\"Ford\"], [\"Ford\"], [\"Ford\"], [\"Ford\"], [\"Ford\"], [\"Ford\"], [\"Ford\"], [\"Ford\"], [\"Ford\"], [\"Ford\"], [\"Ford\"], [\"Ford\"], [\"Ford\"], [\"Ford\"], [\"Ford\"], [\"Ford\"], [\"Ford\"], [\"Ford\"], [\"Ford\"], [\"Ford\"], [\"Ford\"], [\"Ford\"], [\"Ford\"], [\"Ford\"], [\"Ford\"], [\"Ford\"], [\"Chrysler\"], [\"Chrysler\"], [\"Chrysler\"], [\"Chrysler\"], [\"Chrysler\"], [\"Chrysler\"], [\"Chrysler\"], [\"Chrysler\"], [\"Chrysler\"], [\"Chrysler\"], [\"Chrysler\"], [\"Chrysler\"], [\"Chrysler\"], [\"Chrysler\"], [\"Chrysler\"], [\"Chrysler\"], [\"Chrysler\"], [\"Chrysler\"], [\"Chrysler\"], [\"Chrysler\"], [\"Chrysler\"], [\"Chrysler\"], [\"Chrysler\"], [\"Chrysler\"], [\"Chrysler\"], [\"Chrysler\"], [\"Chrysler\"], [\"Chrysler\"], [\"Chrysler\"], [\"Chrysler\"], [\"Chrysler\"], [\"Chrysler\"], [\"Dodge\"], [\"Dodge\"], [\"Dodge\"], [\"Dodge\"], [\"Dodge\"], [\"Dodge\"], [\"Dodge\"], [\"Dodge\"], [\"Dodge\"], [\"Dodge\"], [\"Dodge\"], [\"Dodge\"], [\"Dodge\"], [\"Dodge\"], [\"Dodge\"], [\"Dodge\"], [\"Dodge\"], [\"Dodge\"], [\"Dodge\"], [\"Dodge\"], [\"Dodge\"], [\"Dodge\"], [\"Dodge\"], [\"Dodge\"], [\"Dodge\"], [\"Dodge\"], [\"Dodge\"], [\"Mercedes-Benz\"], [\"Mercedes-Benz\"], [\"Mercedes-Benz\"], [\"Mercedes-Benz\"], [\"Mercedes-Benz\"], [\"Mercedes-Benz\"], [\"Mercedes-Benz\"], [\"Mercedes-Benz\"], [\"Mercedes-Benz\"], [\"Mercedes-Benz\"], [\"Mercedes-Benz\"], [\"Mercedes-Benz\"], [\"Mercedes-Benz\"], [\"Mercedes-Benz\"], [\"Mercedes-Benz\"], [\"Mercedes-Benz\"], [\"Mercedes-Benz\"], [\"Mercedes-Benz\"], [\"Mercedes-Benz\"], [\"Mercedes-Benz\"], [\"Mercedes-Benz\"], [\"Mercedes-Benz\"], [\"Mercedes-Benz\"], [\"Mercedes-Benz\"], [\"Mercedes-Benz\"], [\"Mercedes-Benz\"], [\"Mercedes-Benz\"], [\"Mercedes-Benz\"], [\"Mercedes-Benz\"], [\"Mercedes-Benz\"], [\"Audi\"], [\"Audi\"], [\"Audi\"], [\"Audi\"], [\"Audi\"], [\"Audi\"], [\"Audi\"], [\"Audi\"], [\"Audi\"], [\"Audi\"], [\"Audi\"], [\"Audi\"], [\"Audi\"], [\"Audi\"], [\"Audi\"], [\"Audi\"], [\"Audi\"], [\"Audi\"], [\"Buick\"], [\"Buick\"], [\"Buick\"], [\"Buick\"], [\"Buick\"], [\"Buick\"], [\"Buick\"], [\"Buick\"], [\"Buick\"], [\"Buick\"], [\"Buick\"], [\"Buick\"], [\"Buick\"], [\"Buick\"], [\"Buick\"], [\"Buick\"], [\"Buick\"], [\"Buick\"], [\"Bentley Motors\"], [\"Bentley Motors\"], [\"Bentley Motors\"], [\"Bentley Motors\"], [\"Bentley Motors\"], [\"Bentley Motors\"], [\"Bentley Motors\"], [\"Bentley Motors\"], [\"Bentley Motors\"], [\"Bentley Motors\"], [\"Bentley Motors\"], [\"Bentley Motors\"], [\"Bentley Motors\"], [\"Bentley Motors\"], [\"Bentley Motors\"], [\"Bentley Motors\"], [\"Bentley Motors\"], [\"Cadillac\"], [\"Cadillac\"], [\"Cadillac\"], [\"Cadillac\"], [\"Jaguar\"], [\"Jaguar\"], [\"Jaguar\"], [\"Jaguar\"], [\"Jaguar\"], [\"Jaguar\"], [\"Jaguar\"], [\"Jaguar\"], [\"Jaguar\"], [\"Jaguar\"], [\"Jaguar\"], [\"Lincoln\"], [\"Lincoln\"], [\"Lincoln\"], [\"Lincoln\"], [\"Lincoln\"], [\"Lincoln\"], [\"Mercury\"], [\"Mercury\"], [\"Mercury\"], [\"Mercury\"], [\"Mercury\"], [\"Mercury\"], [\"Mercury\"], [\"Mercury\"], [\"Mercury\"], [\"Saab\"], [\"Chevrolet\"], [\"Chevrolet\"], [\"Chevrolet\"], [\"Chevrolet\"], [\"Chevrolet\"], [\"Chevrolet\"], [\"Chevrolet\"], [\"Chevrolet\"], [\"Chevrolet\"], [\"Chevrolet\"], [\"Chevrolet\"], [\"Chevrolet\"], [\"Chevrolet\"], [\"Chevrolet\"], [\"Chevrolet\"], [\"Chevrolet\"], [\"Chevrolet\"], [\"Chevrolet\"], [\"Chevrolet\"], [\"Chevrolet\"], [\"Chevrolet\"], [\"Chevrolet\"], [\"Chevrolet\"], [\"Chevrolet\"], [\"Chevrolet\"], [\"Chevrolet\"], [\"Chevrolet\"], [\"Chevrolet\"], [\"Chevrolet\"], [\"Chevrolet\"], [\"Chevrolet\"], [\"Chevrolet\"], [\"Chevrolet\"], [\"Chevrolet\"], [\"Chevrolet\"], [\"Chevrolet\"], [\"Chevrolet\"], [\"Chevrolet\"], [\"Chevrolet\"], [\"Chevrolet\"], [\"Chevrolet\"], [\"Chevrolet\"], [\"Chevrolet\"], [\"Chevrolet\"], [\"Chevrolet\"], [\"Chevrolet\"], [\"Chevrolet\"], [\"Chevrolet\"], [\"Chevrolet\"], [\"Chevrolet\"], [\"Ford\"], [\"Ford\"], [\"Ford\"], [\"Ford\"], [\"Ford\"], [\"Ford\"], [\"Ford\"], [\"Ford\"], [\"Ford\"], [\"Ford\"], [\"Ford\"], [\"Ford\"], [\"Ford\"], [\"Ford\"], [\"Ford\"], [\"Ford\"], [\"Ford\"], [\"Ford\"], [\"Ford\"], [\"Ford\"], [\"Ford\"], [\"Ford\"], [\"Ford\"], [\"Ford\"], [\"Ford\"], [\"Ford\"], [\"Ford\"], [\"Ford\"], [\"Ford\"], [\"Ford\"], [\"Ford\"], [\"Ford\"], [\"Ford\"], [\"Ford\"], [\"Ford\"], [\"Ford\"], [\"Ford\"], [\"Ford\"], [\"Ford\"], [\"Ford\"], [\"Ford\"], [\"Ford\"], [\"Ford\"], [\"GMC\"], [\"GMC\"], [\"GMC\"], [\"GMC\"], [\"GMC\"], [\"GMC\"], [\"GMC\"], [\"GMC\"], [\"GMC\"], [\"GMC\"], [\"GMC\"], [\"GMC\"], [\"GMC\"], [\"GMC\"], [\"GMC\"], [\"GMC\"], [\"GMC\"], [\"GMC\"], [\"GMC\"], [\"GMC\"], [\"GMC\"], [\"GMC\"], [\"GMC\"], [\"GMC\"], [\"GMC\"], [\"GMC\"], [\"GMC\"], [\"GMC\"], [\"GMC\"], [\"GMC\"], [\"GMC\"], [\"GMC\"], [\"GMC\"], [\"GMC\"], [\"GMC\"], [\"GMC\"], [\"GMC\"], [\"GMC\"], [\"GMC\"], [\"Dodge\"], [\"Dodge\"], [\"Dodge\"], [\"Dodge\"], [\"Dodge\"], [\"Dodge\"], [\"Dodge\"], [\"Dodge\"], [\"Dodge\"], [\"Dodge\"], [\"Dodge\"], [\"Dodge\"], [\"Dodge\"], [\"Dodge\"], [\"Dodge\"], [\"Dodge\"], [\"Dodge\"], [\"Nissan\"], [\"Nissan\"], [\"Nissan\"], [\"Nissan\"], [\"Nissan\"], [\"Nissan\"], [\"Nissan\"], [\"Nissan\"], [\"Nissan\"], [\"Nissan\"], [\"Nissan\"], [\"Nissan\"], [\"Nissan\"], [\"Nissan\"], [\"Nissan\"], [\"Nissan\"], [\"Nissan\"], [\"Ram\"], [\"Ram\"], [\"Ram\"], [\"Ram\"], [\"Ram\"], [\"Ram\"], [\"Ram\"], [\"Ram\"], [\"Ram\"], [\"Ram\"], [\"Ram\"], [\"Toyota\"], [\"Toyota\"], [\"Toyota\"], [\"Toyota\"], [\"Toyota\"], [\"Toyota\"], [\"Toyota\"], [\"Toyota\"], [\"Toyota\"], [\"Toyota\"], [\"Toyota\"], [\"Toyota\"], [\"Toyota\"], [\"Cadillac\"], [\"Mazda\"], [\"Mazda\"], [\"Mazda\"], [\"Mazda\"], [\"Mitsubishi\"], [\"Chevrolet\"], [\"Chevrolet\"], [\"Chevrolet\"], [\"Chevrolet\"], [\"Chevrolet\"], [\"Chevrolet\"], [\"Chevrolet\"], [\"Chevrolet\"], [\"Chevrolet\"], [\"Chevrolet\"], [\"Chevrolet\"], [\"Chevrolet\"], [\"Chevrolet\"], [\"Chevrolet\"], [\"Chevrolet\"], [\"Chevrolet\"], [\"Chevrolet\"], [\"Chevrolet\"], [\"Chevrolet\"], [\"Chevrolet\"], [\"Chevrolet\"], [\"Chevrolet\"], [\"Chevrolet\"], [\"Chevrolet\"], [\"Chevrolet\"], [\"Chevrolet\"], [\"Chevrolet\"], [\"Chevrolet\"], [\"Chevrolet\"], [\"Chevrolet\"], [\"Chevrolet\"], [\"Chevrolet\"], [\"Chevrolet\"], [\"Chevrolet\"], [\"Chevrolet\"], [\"Chevrolet\"], [\"Chevrolet\"], [\"Chevrolet\"], [\"Chevrolet\"], [\"Chevrolet\"], [\"Chevrolet\"], [\"Chevrolet\"], [\"Chevrolet\"], [\"Chevrolet\"], [\"Chevrolet\"], [\"Chevrolet\"], [\"Chevrolet\"], [\"Chevrolet\"], [\"Chevrolet\"], [\"Chevrolet\"], [\"Chevrolet\"], [\"Chevrolet\"], [\"Chevrolet\"], [\"Chevrolet\"], [\"Chevrolet\"], [\"Chevrolet\"], [\"Chevrolet\"], [\"Chevrolet\"], [\"Chevrolet\"], [\"Chevrolet\"], [\"Chevrolet\"], [\"Chevrolet\"], [\"Chevrolet\"], [\"Chevrolet\"], [\"Chevrolet\"], [\"Chevrolet\"], [\"Chevrolet\"], [\"Chevrolet\"], [\"Chevrolet\"], [\"Chevrolet\"], [\"Chevrolet\"], [\"Chevrolet\"], [\"Chevrolet\"], [\"Chevrolet\"], [\"Chevrolet\"], [\"Chevrolet\"], [\"Chevrolet\"], [\"Chevrolet\"], [\"Ford\"], [\"Ford\"], [\"Ford\"], [\"Ford\"], [\"Ford\"], [\"Ford\"], [\"Ford\"], [\"Ford\"], [\"Ford\"], [\"Ford\"], [\"Ford\"], [\"Ford\"], [\"Ford\"], [\"Ford\"], [\"Ford\"], [\"Ford\"], [\"Ford\"], [\"Ford\"], [\"Ford\"], [\"Ford\"], [\"Ford\"], [\"Ford\"], [\"Ford\"], [\"Ford\"], [\"Ford\"], [\"Ford\"], [\"Ford\"], [\"Ford\"], [\"Ford\"], [\"Ford\"], [\"Ford\"], [\"Ford\"], [\"Ford\"], [\"Ford\"], [\"Ford\"], [\"Ford\"], [\"Ford\"], [\"GMC\"], [\"GMC\"], [\"GMC\"], [\"GMC\"], [\"GMC\"], [\"GMC\"], [\"GMC\"], [\"GMC\"], [\"GMC\"], [\"GMC\"], [\"GMC\"], [\"GMC\"], [\"GMC\"], [\"GMC\"], [\"GMC\"], [\"GMC\"], [\"GMC\"], [\"GMC\"], [\"GMC\"], [\"GMC\"], [\"GMC\"], [\"GMC\"], [\"GMC\"], [\"GMC\"], [\"GMC\"], [\"GMC\"], [\"GMC\"], [\"GMC\"], [\"GMC\"], [\"GMC\"], [\"GMC\"], [\"GMC\"], [\"GMC\"], [\"GMC\"], [\"GMC\"], [\"GMC\"], [\"GMC\"], [\"GMC\"], [\"GMC\"], [\"GMC\"], [\"GMC\"], [\"GMC\"], [\"GMC\"], [\"GMC\"], [\"GMC\"], [\"GMC\"], [\"GMC\"], [\"GMC\"], [\"GMC\"], [\"GMC\"], [\"GMC\"], [\"GMC\"], [\"GMC\"], [\"GMC\"], [\"GMC\"], [\"GMC\"], [\"GMC\"], [\"GMC\"], [\"GMC\"], [\"GMC\"], [\"GMC\"], [\"GMC\"], [\"GMC\"], [\"Chrysler\"], [\"Chrysler\"], [\"Chrysler\"], [\"Chrysler\"], [\"Dodge\"], [\"Dodge\"], [\"Dodge\"], [\"Dodge\"], [\"Dodge\"], [\"Dodge\"], [\"Dodge\"], [\"Dodge\"], [\"Dodge\"], [\"Dodge\"], [\"Dodge\"], [\"Dodge\"], [\"Dodge\"], [\"Dodge\"], [\"Dodge\"], [\"Dodge\"], [\"Dodge\"], [\"Dodge\"], [\"Dodge\"], [\"Dodge\"], [\"Dodge\"], [\"Dodge\"], [\"Dodge\"], [\"Dodge\"], [\"Mercedes-Benz\"], [\"Mercedes-Benz\"], [\"Mercedes-Benz\"], [\"Mercedes-Benz\"], [\"Mercedes-Benz\"], [\"Mercedes-Benz\"], [\"Mercedes-Benz\"], [\"Mercedes-Benz\"], [\"Mercedes-Benz\"], [\"Mercedes-Benz\"], [\"Mercedes-Benz\"], [\"Mercedes-Benz\"], [\"Nissan\"], [\"Nissan\"], [\"Nissan\"], [\"Nissan\"], [\"Nissan\"], [\"Nissan\"], [\"Nissan\"], [\"Nissan\"], [\"Nissan\"], [\"Nissan\"], [\"Nissan\"], [\"Toyota\"], [\"Toyota\"], [\"Toyota\"], [\"Toyota\"], [\"Toyota\"], [\"Toyota\"], [\"Toyota\"], [\"Toyota\"], [\"Jeep\"], [\"Jeep\"], [\"Jeep\"], [\"Jeep\"], [\"Jeep\"], [\"Jeep\"], [\"Jeep\"], [\"Jeep\"], [\"Jeep\"], [\"Jeep\"], [\"Jeep\"], [\"Jeep\"], [\"Jeep\"], [\"Jeep\"], [\"Jeep\"], [\"Jeep\"], [\"Jeep\"], [\"Jeep\"], [\"Jeep\"], [\"Jeep\"], [\"Jeep\"], [\"Audi\"], [\"Audi\"], [\"Audi\"], [\"Audi\"], [\"Audi\"], [\"Cadillac\"], [\"Cadillac\"], [\"Cadillac\"], [\"Cadillac\"], [\"Cadillac\"], [\"Cadillac\"], [\"Cadillac\"], [\"Cadillac\"], [\"Cadillac\"], [\"Cadillac\"], [\"Cadillac\"], [\"Cadillac\"], [\"Cadillac\"], [\"Cadillac\"], [\"Land Rover\"], [\"Land Rover\"], [\"Land Rover\"], [\"Land Rover\"], [\"Land Rover\"], [\"Land Rover\"], [\"Land Rover\"], [\"Lincoln\"], [\"Lincoln\"], [\"Lincoln\"], [\"Lincoln\"], [\"Lincoln\"], [\"Lincoln\"], [\"Lincoln\"], [\"Volkswagen\"], [\"Mazda\"], [\"Mazda\"], [\"Mazda\"], [\"Mazda\"], [\"Mercury\"], [\"Mercury\"], [\"Mercury\"], [\"Mercury\"], [\"Mercury\"], [\"Mercury\"], [\"HUMMER\"], [\"Chevrolet\"], [\"Chevrolet\"], [\"Chevrolet\"], [\"Chevrolet\"], [\"Chevrolet\"], [\"Chevrolet\"], [\"Chevrolet\"], [\"Chevrolet\"], [\"Chevrolet\"], [\"Chevrolet\"], [\"Chevrolet\"], [\"Chevrolet\"], [\"Chevrolet\"], [\"Chevrolet\"], [\"Chevrolet\"], [\"Chevrolet\"], [\"Chevrolet\"], [\"Chevrolet\"], [\"Chevrolet\"], [\"Chevrolet\"], [\"Chevrolet\"], [\"Chevrolet\"], [\"Ford\"], [\"Ford\"], [\"Ford\"], [\"Ford\"], [\"Ford\"], [\"Ford\"], [\"Ford\"], [\"Ford\"], [\"Ford\"], [\"Ford\"], [\"Ford\"], [\"Ford\"], [\"Ford\"], [\"Ford\"], [\"Ford\"], [\"Ford\"], [\"Ford\"], [\"Ford\"], [\"Ford\"], [\"Ford\"], [\"Ford\"], [\"Ford\"], [\"Ford\"], [\"Ford\"], [\"Ford\"], [\"Ford\"], [\"Ford\"], [\"Ford\"], [\"Ford\"], [\"Ford\"], [\"GMC\"], [\"GMC\"], [\"GMC\"], [\"GMC\"], [\"GMC\"], [\"GMC\"], [\"GMC\"], [\"GMC\"], [\"GMC\"], [\"GMC\"], [\"GMC\"], [\"GMC\"], [\"GMC\"], [\"GMC\"], [\"GMC\"], [\"GMC\"], [\"GMC\"], [\"GMC\"], [\"GMC\"], [\"Chrysler\"], [\"Chrysler\"], [\"Chrysler\"], [\"Chrysler\"], [\"Chrysler\"], [\"Chrysler\"], [\"Chrysler\"], [\"Chrysler\"], [\"Chrysler\"], [\"Chrysler\"], [\"Chrysler\"], [\"Chrysler\"], [\"Chrysler\"], [\"Chrysler\"], [\"Chrysler\"], [\"Chrysler\"], [\"Chrysler\"], [\"Dodge\"], [\"Dodge\"], [\"Dodge\"], [\"Dodge\"], [\"Dodge\"], [\"Dodge\"], [\"Dodge\"], [\"Dodge\"], [\"Dodge\"], [\"Dodge\"], [\"Dodge\"], [\"Dodge\"], [\"Dodge\"], [\"Dodge\"], [\"Dodge\"], [\"Dodge\"], [\"Dodge\"], [\"Dodge\"], [\"Dodge\"], [\"Dodge\"], [\"Dodge\"], [\"Dodge\"], [\"Dodge\"], [\"Dodge\"], [\"Ram\"], [\"Ram\"], [\"Ram\"], [\"Ram\"], [\"Buick\"], [\"Volkswagen\"], [\"Plymouth\"], [\"Chevrolet\"], [\"Chevrolet\"], [\"Ford\"], [\"Ford\"], [\"Ford\"], [\"GMC\"], [\"GMC\"]], \"hoverlabel\": {\"namelength\": 0}, \"hovertemplate\": \"fuel=Ethanol (E85)<br>Model Year=%{x}<br>Alternative Fuel Economy Combined=%{y}<br>Maker=%{customdata[0]}\", \"legendgroup\": \"fuel=Ethanol (E85)\", \"marker\": {\"color\": \"#636efa\", \"symbol\": \"circle\"}, \"mode\": \"markers\", \"name\": \"Ethanol (E85)\", \"showlegend\": true, \"type\": \"scattergl\", \"x\": [2020, 2019, 2018, 2017, 2016, 2016, 2016, 2016, 2015, 2015, 2015, 2014, 2014, 2014, 2014, 2013, 2013, 2013, 2012, 2012, 2012, 2011, 2011, 2010, 2010, 2009, 2008, 2008, 2007, 2007, 2006, 2006, 2019, 2019, 2018, 2018, 2017, 2017, 2016, 2016, 2016, 2015, 2015, 2015, 2015, 2014, 2014, 2014, 2014, 2013, 2013, 2013, 2012, 2012, 2011, 2011, 2011, 2010, 2010, 2009, 2008, 2008, 2008, 2007, 2007, 2006, 2006, 2006, 2006, 2005, 2005, 2004, 2004, 2003, 2002, 2001, 2000, 2019, 2019, 2018, 2018, 2017, 2017, 2017, 2016, 2016, 2016, 2016, 2015, 2015, 2015, 2015, 2014, 2014, 2013, 2013, 2012, 2012, 2011, 2011, 2010, 2009, 2008, 2007, 2006, 2005, 2004, 2003, 2003, 2019, 2018, 2018, 2016, 2016, 2015, 2015, 2014, 2014, 2014, 2013, 2013, 2013, 2012, 2012, 2012, 2012, 2011, 2011, 2011, 2010, 2009, 2008, 2006, 2005, 2004, 2003, 2019, 2017, 2016, 2016, 2016, 2015, 2015, 2014, 2014, 2014, 2014, 2013, 2013, 2013, 2012, 2011, 2011, 2010, 2009, 2008, 2007, 2005, 2005, 2005, 2005, 2005, 2004, 2004, 2004, 2003, 2017, 2017, 2016, 2016, 2016, 2016, 2015, 2015, 2015, 2015, 2014, 2014, 2014, 2014, 2013, 2013, 2013, 2013, 2016, 2016, 2015, 2015, 2015, 2014, 2013, 2013, 2013, 2013, 2013, 2012, 2012, 2011, 2011, 2011, 2010, 2009, 2015, 2015, 2015, 2014, 2014, 2014, 2014, 2013, 2013, 2013, 2013, 2012, 2012, 2012, 2011, 2011, 2011, 2015, 2014, 2013, 2013, 2015, 2015, 2015, 2015, 2015, 2014, 2014, 2014, 2014, 2014, 2014, 2011, 2010, 2009, 2008, 2007, 2006, 2011, 2011, 2010, 2010, 2009, 2005, 2004, 2004, 2003, 2011, 2020, 2020, 2019, 2019, 2018, 2018, 2018, 2018, 2018, 2017, 2017, 2017, 2017, 2016, 2016, 2016, 2016, 2015, 2015, 2015, 2015, 2015, 2014, 2014, 2013, 2013, 2013, 2013, 2012, 2012, 2012, 2011, 2011, 2010, 2010, 2009, 2009, 2008, 2008, 2007, 2007, 2006, 2006, 2005, 2005, 2004, 2003, 2002, 2001, 2000, 2020, 2020, 2020, 2020, 2019, 2019, 2019, 2019, 2019, 2018, 2018, 2018, 2018, 2018, 2016, 2016, 2016, 2015, 2015, 2015, 2014, 2014, 2014, 2014, 2014, 2014, 2013, 2013, 2013, 2012, 2012, 2012, 2011, 2011, 2010, 2009, 2008, 2007, 2006, 2003, 2002, 2001, 2000, 2020, 2020, 2019, 2019, 2019, 2018, 2018, 2018, 2018, 2018, 2017, 2017, 2017, 2017, 2016, 2016, 2016, 2015, 2015, 2015, 2015, 2014, 2014, 2013, 2013, 2012, 2012, 2012, 2011, 2009, 2008, 2007, 2006, 2005, 2004, 2003, 2002, 2001, 2000, 2013, 2011, 2011, 2011, 2011, 2010, 2010, 2009, 2009, 2008, 2008, 2007, 2007, 2006, 2005, 2004, 2003, 2019, 2019, 2018, 2018, 2016, 2015, 2014, 2013, 2012, 2011, 2011, 2010, 2009, 2008, 2007, 2006, 2005, 2019, 2019, 2018, 2018, 2017, 2017, 2016, 2015, 2014, 2013, 2012, 2019, 2018, 2018, 2017, 2017, 2016, 2015, 2014, 2013, 2012, 2011, 2010, 2009, 2013, 2003, 2002, 2001, 2000, 2009, 2020, 2020, 2020, 2020, 2019, 2019, 2019, 2019, 2018, 2018, 2018, 2018, 2017, 2017, 2017, 2017, 2017, 2017, 2016, 2016, 2016, 2016, 2016, 2015, 2015, 2015, 2015, 2015, 2015, 2014, 2014, 2014, 2014, 2014, 2014, 2014, 2013, 2013, 2013, 2013, 2013, 2013, 2012, 2012, 2012, 2012, 2012, 2012, 2011, 2011, 2011, 2011, 2011, 2011, 2011, 2011, 2010, 2010, 2010, 2009, 2009, 2009, 2008, 2008, 2008, 2007, 2007, 2007, 2006, 2006, 2005, 2005, 2004, 2004, 2003, 2003, 2002, 2002, 2020, 2019, 2019, 2019, 2018, 2018, 2017, 2017, 2017, 2016, 2016, 2015, 2015, 2015, 2014, 2014, 2014, 2013, 2013, 2013, 2012, 2012, 2012, 2011, 2011, 2010, 2010, 2009, 2005, 2005, 2004, 2004, 2003, 2002, 2002, 2002, 2001, 2020, 2020, 2020, 2020, 2019, 2019, 2019, 2019, 2018, 2018, 2018, 2018, 2017, 2017, 2017, 2017, 2017, 2016, 2016, 2016, 2016, 2015, 2015, 2015, 2015, 2014, 2014, 2014, 2014, 2014, 2014, 2014, 2013, 2013, 2013, 2013, 2013, 2013, 2013, 2012, 2012, 2012, 2012, 2011, 2011, 2011, 2010, 2009, 2009, 2008, 2008, 2007, 2007, 2006, 2006, 2005, 2005, 2004, 2004, 2003, 2003, 2002, 2002, 2010, 2009, 2008, 2007, 2019, 2018, 2017, 2016, 2016, 2015, 2015, 2015, 2014, 2014, 2014, 2013, 2013, 2013, 2012, 2012, 2011, 2011, 2011, 2010, 2009, 2008, 2007, 2006, 2019, 2018, 2018, 2018, 2017, 2017, 2016, 2016, 2015, 2015, 2014, 2013, 2016, 2015, 2014, 2013, 2012, 2011, 2011, 2010, 2009, 2008, 2007, 2016, 2015, 2014, 2013, 2012, 2011, 2011, 2010, 2018, 2018, 2018, 2017, 2017, 2017, 2016, 2016, 2015, 2015, 2014, 2013, 2012, 2011, 2011, 2009, 2009, 2008, 2008, 2007, 2007, 2017, 2016, 2015, 2014, 2013, 2014, 2014, 2013, 2013, 2012, 2012, 2012, 2011, 2011, 2011, 2011, 2011, 2010, 2009, 2015, 2015, 2015, 2014, 2014, 2014, 2014, 2014, 2013, 2012, 2011, 2011, 2010, 2009, 2012, 2012, 2011, 2011, 2010, 2011, 2010, 2005, 2004, 2003, 2003, 2009, 2018, 2016, 2016, 2016, 2015, 2014, 2014, 2014, 2013, 2013, 2013, 2013, 2012, 2012, 2011, 2011, 2010, 2009, 2008, 2008, 2007, 2007, 2020, 2020, 2020, 2020, 2019, 2019, 2019, 2018, 2018, 2018, 2018, 2018, 2017, 2017, 2016, 2016, 2015, 2014, 2014, 2014, 2013, 2013, 2013, 2012, 2012, 2012, 2011, 2011, 2011, 2009, 2019, 2018, 2016, 2016, 2015, 2014, 2014, 2014, 2013, 2013, 2013, 2012, 2012, 2011, 2011, 2010, 2009, 2008, 2007, 2016, 2015, 2014, 2013, 2012, 2011, 2009, 2008, 2007, 2003, 2003, 2002, 2002, 2001, 2001, 2001, 2000, 2019, 2018, 2017, 2016, 2015, 2014, 2013, 2012, 2011, 2009, 2008, 2007, 2007, 2006, 2006, 2005, 2005, 2003, 2003, 2002, 2002, 2001, 2001, 2000, 2016, 2015, 2014, 2013, 2007, 2013, 2000, 2015, 2015, 2016, 2015, 2015, 2015, 2015], \"xaxis\": \"x\", \"y\": [17.0, 17.0, 17.0, 17.0, null, null, 24.0, null, null, 17.0, 17.0, null, null, 17.0, null, null, 17.5, null, 15.5, 17.5, 19.0, 18.0, 19.0, 18.0, 19.5, 18.0, 17.5, 17.5, 19.5, 19.5, 19.5, 20.0, 15.5, 16.0, 16.5, 15.5, 16.5, 17.0, 21.5, null, null, null, null, null, 17.0, 24.0, null, null, 17.0, 24.0, null, 17.0, 17.5, null, 14.5, 16.0, 17.5, 14.5, 16.0, 14.5, 13.5, 13.5, 8.5, 15.0, 15.0, 15.0, 15.0, 17.5, 17.5, 17.5, 16.5, 17.0, 17.0, 17.0, 16.5, 17.0, 16.5, 18.0, 16.5, 18.0, 16.5, 18.5, 21.5, 17.5, 29.5, 24.0, 25.0, 29.0, 22.5, 18.5, 18.5, 21.5, 17.5, 18.5, 17.5, 18.5, 17.5, 16.0, 17.5, 16.0, 17.0, 16.5, 16.5, 17.5, 17.5, 18.0, 18.0, 18.0, 18.0, 18.0, 18.0, 16.5, null, 25.0, null, 18.5, 17.5, 18.5, null, 17.5, 16.0, 16.0, 17.5, 16.0, 16.0, 16.0, 17.5, 16.0, 16.0, 17.0, 16.5, 16.5, 17.5, 18.0, 18.0, 18.0, 20.5, 20.0, 28.5, 24.5, 24.0, 17.0, 17.0, 17.0, 18.0, 18.0, 19.5, 17.0, 18.0, 18.0, 15.5, 16.0, 16.0, 16.0, 16.0, 16.0, 16.0, 22.5, 22.5, 23.0, 21.5, 23.0, 21.0, 18.5, 18.5, 18.5, 18.0, 18.5, 25.5, 25.0, 25.5, 24.5, 18.5, 18.0, 18.5, 18.0, 17.0, 17.0, 17.0, 16.0, 17.0, 17.0, 17.0, 16.0, 23.0, null, 17.0, null, null, 17.0, 19.0, 19.0, 16.5, 18.5, 19.0, 16.0, 18.5, 16.5, 17.0, 18.5, 16.5, 16.5, 12.0, 12.0, 12.0, 12.0, 12.0, 12.0, 12.0, 12.0, 11.0, 10.5, 11.0, 9.5, 10.0, 10.0, 10.5, 10.5, 11.0, null, null, 17.5, 16.0, 14.0, 15.5, 14.0, 14.0, 65.0, 14.0, 19.0, 15.5, 14.0, 15.0, 14.0, 14.5, 14.5, 14.5, 13.5, 15.0, 15.0, 14.5, 17.5, 14.5, 16.5, 14.5, 17.5, 17.0, 17.0, 17.0, 16.5, 12.5, 12.0, 13.0, 12.5, null, 14.0, 14.5, 13.5, 13.5, 14.5, 14.0, 13.5, 13.5, 19.5, 21.0, null, null, 14.5, 14.5, 14.5, null, null, 14.5, 14.0, 13.5, 12.0, 13.5, 11.0, 12.0, 13.5, 11.0, 12.0, 11.0, 13.5, 13.5, 12.5, 13.0, 13.0, 13.0, 14.0, 14.0, 12.5, 14.0, null, 12.5, 12.5, 12.5, 16.5, 18.0, 19.5, 16.5, 14.5, 13.5, 15.0, 14.5, 16.5, 15.0, 13.5, null, 14.5, 16.5, 13.5, 15.0, null, 21.5, 20.0, null, 13.5, 15.5, null, 10.5, 14.5, 14.5, null, null, null, 14.5, 12.0, null, 14.5, 13.0, null, 12.0, null, 12.0, 12.0, 11.5, 12.5, 12.5, 14.5, 14.0, 14.0, 14.0, 12.5, 12.5, null, 13.0, 12.5, null, 14.5, 14.0, 13.5, 13.5, 14.5, 14.0, 13.5, 13.5, 21.0, 19.5, null, 14.5, 13.0, null, null, 14.5, 14.0, 11.0, 12.0, 11.0, 13.5, 12.0, 13.5, 13.0, 13.0, 14.0, 14.0, 12.5, 12.5, 12.5, 16.5, 18.0, 19.5, 10.5, 11.0, 11.0, 10.5, 11.0, 11.0, 10.5, 11.0, 11.0, 10.5, 10.5, 12.0, 11.0, 10.0, 20.5, 20.5, 20.5, 13.5, 12.5, 13.5, 13.0, null, null, 11.0, 11.0, 11.0, 11.0, 11.0, 11.0, 10.5, 11.0, 11.5, 12.0, 16.5, 14.5, 13.5, 14.5, 13.5, 14.5, 13.5, 21.0, 14.5, 14.5, 14.5, 11.0, 10.5, 11.0, 10.5, 11.0, 10.5, 15.5, 10.5, 10.5, 11.0, 11.5, 11.5, 11.5, 11.5, 12.5, 14.5, 14.0, 14.0, 14.0, 11.0, 14.0, 13.5, 14.0, 13.5, 14.0, 13.5, 14.0, 13.5, 14.5, 13.0, 14.5, 13.5, 17.0, 18.0, 14.5, 13.0, 14.5, 13.5, null, 27.0, 19.5, 19.5, null, 18.5, 18.5, null, 14.5, 14.5, 14.5, 18.5, 14.5, 17.5, 18.5, 13.5, 13.5, null, 14.5, 18.5, 18.5, 17.5, 13.5, null, 13.5, 15.0, 18.5, 13.5, 13.5, null, 13.5, 14.5, 15.0, 18.0, 19.5, 19.5, 13.5, 13.5, 19.5, 13.5, 13.5, 19.0, 12.5, 12.5, 13.0, 13.0, 13.0, 14.0, 14.0, 14.0, 12.5, 13.0, 11.5, 12.5, 11.5, 12.5, 11.5, 12.5, 12.0, 12.0, 13.0, 18.5, 15.5, 14.0, 18.5, 14.0, 18.5, 15.5, 14.5, 20.5, null, null, 15.5, null, 12.0, 15.5, null, 12.0, 15.5, null, 15.0, 12.5, null, 16.5, 11.0, 16.5, 11.0, 12.0, 18.5, 13.5, 13.5, 13.5, null, 13.0, 20.0, 18.0, 14.0, 13.5, 13.0, 14.0, 14.0, 14.0, 13.5, 13.5, 14.0, 14.5, 14.5, 13.5, 13.0, 18.0, 14.5, 14.5, 13.5, 13.0, null, 27.0, 19.5, 19.5, null, 18.5, 14.5, 14.5, 18.5, 17.5, 12.5, 13.5, 12.0, 12.5, 13.5, 17.5, 18.5, 13.5, 12.5, 12.5, 13.5, 12.5, 18.5, 15.0, 13.5, 12.0, 14.5, 15.0, 13.5, 13.5, 12.5, 12.5, 13.0, 13.0, 14.0, 14.0, 13.0, 12.5, 12.5, 11.5, 12.5, 11.5, 12.5, 11.5, 12.0, 12.0, 14.5, 11.0, 10.5, 12.0, 15.0, 15.0, 15.5, null, 21.0, null, 16.0, 15.0, 15.5, null, 15.0, 14.5, 14.5, 15.0, 14.5, 15.5, 14.5, 14.0, 15.5, 14.5, 11.0, 10.5, 12.0, 10.0, 20.0, 20.5, 20.0, 15.0, 20.0, 15.0, 28.0, 19.5, 20.5, 15.0, 15.0, 15.0, null, 11.0, 11.0, 11.0, 11.0, 11.0, 11.0, 11.0, 11.0, 11.0, 11.5, 15.0, 11.0, 10.5, 11.0, 10.5, 10.5, 10.5, 10.5, 17.5, 18.5, 19.5, 18.0, 19.5, 24.5, 26.5, 26.5, 19.0, 16.5, 16.5, 15.0, 15.0, 15.0, 14.0, 11.0, 11.0, 11.0, 11.0, 12.0, 12.0, 23.5, 23.5, 16.5, 16.5, 16.5, 12.5, 12.5, 12.5, 12.5, 12.5, 12.5, 11.0, 12.5, 12.0, 12.5, 11.0, 11.0, 13.0, 12.0, 11.5, 11.5, 11.5, 11.5, 14.0, 14.0, 11.5, 12.0, 12.0, 12.5, 12.5, 11.0, 11.0, 12.0, 15.0, 15.0, 14.5, 16.5, 16.5, 16.5, 16.5, 13.5, 13.5, null, null, 14.0, null, null, null, null, 9.5, 11.5, 9.5, 9.5, 11.5, 9.5, 10.0, null, 11.5, 10.0, 11.5, 10.0, 11.5, 11.0, 10.5, 14.5, 11.5, 16.0, 19.0, 19.0, 13.0, 12.5, 19.0, 19.0, 11.5, 17.5, 16.5, 16.5, 11.5, null, 17.5, null, 15.0, 24.0, 12.5, 11.0, 11.0, null, 10.5, null, 10.5, 10.5, 11.0, null, 11.0, 10.5, 10.0, null, null, null, null, null, 9.5, 11.5, 9.5, 9.5, 11.5, 10.0, 9.5, 10.0, 11.5, 11.5, 10.0, 11.5, 11.0, 11.5, 11.5, 21.0, 15.0, 15.0, 15.0, 15.0, 14.5, 13.5, 14.0, 15.0, 15.0, 15.0, 15.0, 15.0, 21.0, null, null, 15.5, 15.0, 15.0, 15.0, 21.0, 15.0, 15.0, 15.0, 15.0, 15.0, 13.5, 14.0, 15.0, 15.0, 15.0, 15.0, 15.0, 15.0, 15.0, 15.0, 15.0, 15.0, null, 21.0, 15.5, null, 15.5, 15.5, 15.0, 16.0, 15.0, 15.5, 13.0, 13.0, null, null, null, 13.0, 13.0], \"yaxis\": \"y\"}, {\"customdata\": [[\"Chevrolet\"], [\"Chevrolet\"], [\"Chevrolet\"], [\"Chevrolet\"], [\"Chevrolet\"], [\"Chevrolet\"], [\"Ford\"], [\"Ford\"], [\"Ford\"], [\"Ford\"], [\"Ford\"], [\"Ford\"], [\"Toyota\"], [\"Toyota\"], [\"Toyota\"], [\"Honda\"], [\"Honda\"], [\"Honda\"], [\"Honda\"], [\"Honda\"], [\"Honda\"], [\"Honda\"], [\"Honda\"], [\"Honda\"], [\"Honda\"], [\"Honda\"], [\"Honda\"], [\"Honda\"], [\"Honda\"], [\"Honda\"], [\"Chevrolet\"], [\"Chevrolet\"], [\"Chevrolet\"], [\"Chevrolet\"], [\"Chevrolet\"], [\"Chevrolet\"], [\"Chevrolet\"], [\"Chevrolet\"], [\"Chevrolet\"], [\"Chevrolet\"], [\"Chevrolet\"], [\"Chevrolet\"], [\"Chevrolet\"], [\"Chevrolet\"], [\"Chevrolet\"], [\"Chevrolet\"], [\"Ford\"], [\"Ford\"], [\"Ford\"], [\"Ford\"], [\"Ford\"], [\"Ford\"], [\"Ford\"], [\"Ford\"], [\"Ford\"], [\"Ford\"], [\"Ford\"], [\"Ford\"], [\"Ford\"], [\"Ford\"], [\"Ford\"], [\"Ford\"], [\"Ford\"], [\"Ford\"], [\"Ford\"], [\"Ford\"], [\"GMC\"], [\"GMC\"], [\"GMC\"], [\"GMC\"], [\"GMC\"], [\"GMC\"], [\"GMC\"], [\"GMC\"], [\"GMC\"], [\"GMC\"], [\"GMC\"], [\"GMC\"], [\"GMC\"], [\"GMC\"], [\"GMC\"], [\"GMC\"], [\"Ram\"], [\"Ram\"], [\"Ram\"], [\"Vehicle Production Group\"], [\"Vehicle Production Group\"], [\"Vehicle Production Group\"], [\"Chevrolet\"], [\"Chevrolet\"], [\"Chevrolet\"], [\"Chevrolet\"], [\"Chevrolet\"], [\"Chevrolet\"], [\"Chevrolet\"], [\"Chevrolet\"], [\"Chevrolet\"], [\"Chevrolet\"], [\"Chevrolet\"], [\"Chevrolet\"], [\"Chevrolet\"], [\"Chevrolet\"], [\"Chevrolet\"], [\"Ford\"], [\"Ford\"], [\"Ford\"], [\"Ford\"], [\"Ford\"], [\"Ford\"], [\"Ford\"], [\"Ford\"], [\"Ford\"], [\"Ford\"], [\"Ford\"], [\"Ford\"], [\"Ford\"], [\"Ford\"], [\"Ford\"], [\"Ford\"], [\"Ford\"], [\"Ford\"], [\"Ford\"], [\"Ford\"], [\"Ford\"], [\"Ford\"], [\"GMC\"], [\"GMC\"], [\"GMC\"], [\"GMC\"], [\"GMC\"], [\"GMC\"], [\"GMC\"], [\"GMC\"], [\"GMC\"], [\"GMC\"], [\"GMC\"], [\"GMC\"], [\"GMC\"], [\"GMC\"], [\"GMC\"], [\"Dodge\"], [\"Dodge\"], [\"Dodge\"], [\"Dodge\"], [\"Dodge\"], [\"Dodge\"], [\"Dodge\"], [\"Dodge\"], [\"Dodge\"], [\"Dodge\"], [\"Dodge\"], [\"Dodge\"], [\"Chevrolet\"], [\"Ford\"], [\"Ford\"], [\"Ford\"], [\"Ford\"], [\"Ford\"], [\"Ford\"], [\"Ford\"], [\"GMC\"]], \"hoverlabel\": {\"namelength\": 0}, \"hovertemplate\": \"fuel=CNG - Compressed Natural Gas<br>Model Year=%{x}<br>Alternative Fuel Economy Combined=%{y}<br>Maker=%{customdata[0]}\", \"legendgroup\": \"fuel=CNG - Compressed Natural Gas\", \"marker\": {\"color\": \"#EF553B\", \"symbol\": \"circle\"}, \"mode\": \"markers\", \"name\": \"CNG - Compressed Natural Gas\", \"showlegend\": true, \"type\": \"scattergl\", \"x\": [2016, 2004, 2003, 2002, 2001, 2000, 2004, 2003, 2002, 2001, 2000, 2000, 2002, 2001, 2000, 2015, 2014, 2013, 2012, 2011, 2010, 2009, 2008, 2007, 2005, 2004, 2003, 2002, 2001, 2000, 2019, 2018, 2017, 2016, 2006, 2006, 2005, 2005, 2004, 2004, 2003, 2002, 2002, 2001, 2000, 2000, 2019, 2019, 2018, 2018, 2017, 2017, 2016, 2016, 2015, 2004, 2004, 2003, 2003, 2002, 2002, 2001, 2001, 2001, 2000, 2000, 2019, 2018, 2017, 2016, 2006, 2006, 2005, 2005, 2004, 2004, 2003, 2002, 2002, 2001, 2000, 2000, 2018, 2017, 2016, 2013, 2012, 2010, 2019, 2018, 2017, 2016, 2016, 2015, 2014, 2013, 2012, 2004, 2004, 2003, 2003, 2002, 2001, 2019, 2018, 2018, 2017, 2017, 2016, 2016, 2015, 2012, 2011, 2011, 2004, 2004, 2004, 2003, 2003, 2003, 2002, 2002, 2001, 2000, 2000, 2019, 2018, 2017, 2016, 2015, 2014, 2014, 2013, 2012, 2004, 2004, 2003, 2003, 2002, 2001, 2003, 2003, 2002, 2002, 2002, 2002, 2001, 2001, 2001, 2001, 2000, 2000, 2015, 2016, 2015, 2015, 2015, 2015, 2015, 2015, 2015], \"xaxis\": \"x\", \"y\": [20.0, 27.5, 27.5, 23.5, 23.5, 23.5, 18.5, 18.5, 18.5, 19.0, 28.0, 18.5, null, null, null, 32.5, null, 32.5, 30.0, 30.0, 30.0, 30.0, 30.0, 33.5, 32.0, 32.0, 32.0, 32.0, 32.0, 31.0, null, null, null, null, 10.5, 10.5, 11.0, 11.0, 11.0, 11.0, 11.0, null, null, null, null, null, null, null, null, null, null, null, null, null, null, 14.0, 13.5, 14.0, 13.5, 14.0, 12.5, 13.5, 13.0, 15.35, 13.0, 15.5, null, null, null, null, 10.5, 10.5, 11.0, 11.0, 11.0, 11.0, 11.0, null, null, null, 17.200000000000003, null, null, null, null, 13.5, 13.5, null, null, null, null, null, null, null, null, null, null, 16.0, 16.0, 16.0, 16.0, null, null, null, null, null, null, null, null, null, null, null, null, null, 13.5, 13.5, 15.0, 13.5, 13.5, 15.0, 12.5, 12.5, 12.5, 12.5, 12.5, null, null, null, null, null, null, null, null, null, 16.0, 16.0, 16.0, 16.0, null, null, 15.0, 15.0, 14.0, 14.0, null, 14.0, 14.0, null, 14.0, null, 14.0, 14.0, null, null, null, null, null, null, null, null, null], \"yaxis\": \"y\"}, {\"customdata\": [[\"Chevrolet\"], [\"Chevrolet\"], [\"Chevrolet\"], [\"Chevrolet\"], [\"Chevrolet\"], [\"Chevrolet\"], [\"Chevrolet\"], [\"Chevrolet\"], [\"Jaguar\"], [\"Jaguar\"], [\"Jaguar\"], [\"Jaguar\"], [\"Jaguar\"], [\"Jaguar\"], [\"Jaguar\"], [\"Jaguar\"], [\"Jaguar\"], [\"Jaguar\"], [\"Jaguar\"], [\"Chevrolet\"], [\"Chevrolet\"], [\"Chevrolet\"], [\"Chevrolet\"], [\"Chevrolet\"], [\"Chevrolet\"], [\"Chevrolet\"], [\"Chevrolet\"], [\"Chevrolet\"], [\"Chevrolet\"], [\"Chevrolet\"], [\"Chevrolet\"], [\"Chevrolet\"], [\"Chevrolet\"], [\"Chevrolet\"], [\"Chevrolet\"], [\"Chevrolet\"], [\"Chevrolet\"], [\"Chevrolet\"], [\"Chevrolet\"], [\"Chevrolet\"], [\"Ford\"], [\"Ford\"], [\"Ford\"], [\"Ford\"], [\"Ford\"], [\"Ford\"], [\"Ford\"], [\"Ford\"], [\"Ford\"], [\"Ford\"], [\"Ford\"], [\"Ford\"], [\"Ford\"], [\"Ford\"], [\"Ford\"], [\"Ford\"], [\"GMC\"], [\"GMC\"], [\"GMC\"], [\"GMC\"], [\"GMC\"], [\"GMC\"], [\"GMC\"], [\"GMC\"], [\"GMC\"], [\"GMC\"], [\"GMC\"], [\"GMC\"], [\"GMC\"], [\"GMC\"], [\"GMC\"], [\"GMC\"], [\"GMC\"], [\"GMC\"], [\"GMC\"], [\"GMC\"], [\"GMC\"], [\"Nissan\"], [\"Nissan\"], [\"Nissan\"], [\"Ram\"], [\"Ram\"], [\"Ram\"], [\"Ram\"], [\"Ram\"], [\"Ram\"], [\"Ram\"], [\"Ram\"], [\"Ram\"], [\"Ram\"], [\"Ram\"], [\"Chevrolet\"], [\"Chevrolet\"], [\"Chevrolet\"], [\"Chevrolet\"], [\"GMC\"], [\"GMC\"], [\"GMC\"], [\"GMC\"], [\"Ram\"], [\"Jeep\"], [\"Jeep\"], [\"Jeep\"], [\"Jaguar\"], [\"Jaguar\"], [\"Jaguar\"], [\"Land Rover\"], [\"Land Rover\"], [\"Land Rover\"], [\"Land Rover\"], [\"Land Rover\"], [\"Land Rover\"], [\"Land Rover\"], [\"Land Rover\"], [\"Land Rover\"], [\"Chevrolet\"], [\"Chevrolet\"], [\"Chevrolet\"], [\"Chevrolet\"], [\"Chevrolet\"], [\"Chevrolet\"], [\"Chevrolet\"], [\"Chevrolet\"], [\"Chevrolet\"], [\"Ford\"], [\"Ford\"], [\"Ford\"], [\"Ford\"], [\"Ford\"], [\"Ford\"], [\"Ford\"], [\"GMC\"], [\"GMC\"], [\"GMC\"], [\"GMC\"], [\"GMC\"], [\"GMC\"], [\"GMC\"], [\"GMC\"], [\"Ram\"], [\"Ram\"], [\"Chevrolet\"], [\"Chevrolet\"], [\"Ford\"], [\"Ford\"], [\"GMC\"], [\"GMC\"], [\"Ram\"]], \"hoverlabel\": {\"namelength\": 0}, \"hovertemplate\": \"fuel=Biodiesel (B20)<br>Model Year=%{x}<br>Alternative Fuel Economy Combined=%{y}<br>Maker=%{customdata[0]}\", \"legendgroup\": \"fuel=Biodiesel (B20)\", \"marker\": {\"color\": \"#00cc96\", \"symbol\": \"circle\"}, \"mode\": \"markers\", \"name\": \"Biodiesel (B20)\", \"showlegend\": true, \"type\": \"scattergl\", \"x\": [2019, 2019, 2018, 2018, 2018, 2018, 2015, 2014, 2019, 2019, 2019, 2019, 2018, 2018, 2018, 2018, 2017, 2017, 2017, 2020, 2020, 2020, 2020, 2020, 2019, 2019, 2019, 2018, 2018, 2018, 2018, 2017, 2017, 2017, 2016, 2016, 2015, 2014, 2013, 2012, 2019, 2019, 2019, 2019, 2018, 2018, 2018, 2018, 2017, 2016, 2015, 2014, 2014, 2013, 2012, 2012, 2020, 2020, 2020, 2020, 2020, 2019, 2019, 2018, 2018, 2018, 2018, 2017, 2017, 2017, 2017, 2016, 2015, 2014, 2014, 2013, 2012, 2018, 2017, 2016, 2018, 2018, 2017, 2017, 2016, 2016, 2015, 2014, 2014, 2013, 2012, 2019, 2019, 2018, 2018, 2019, 2019, 2018, 2018, 2015, 2017, 2016, 2015, 2019, 2018, 2017, 2020, 2020, 2020, 2019, 2019, 2019, 2019, 2018, 2017, 2018, 2017, 2016, 2016, 2015, 2014, 2013, 2013, 2012, 2019, 2019, 2018, 2018, 2017, 2015, 2014, 2018, 2017, 2016, 2015, 2014, 2013, 2013, 2012, 2017, 2016, 2015, 2015, 2015, 2015, 2015, 2015, 2015], \"xaxis\": \"x\", \"y\": [null, null, null, null, null, null, 36.5, null, null, null, null, null, null, null, null, null, null, null, null, null, null, null, null, null, null, null, null, null, null, null, null, null, null, null, null, null, null, null, null, null, null, null, null, null, null, null, null, null, null, null, null, null, null, null, null, null, null, null, null, null, null, null, null, null, null, null, null, null, null, null, null, null, null, null, null, null, null, null, null, null, null, null, null, null, null, null, null, null, null, null, null, null, null, null, null, null, null, null, null, 24.0, null, null, 26.0, null, null, null, null, null, null, null, null, null, null, null, null, null, null, null, null, null, null, null, null, null, null, null, null, null, null, null, null, null, null, null, null, null, null, null, null, null, null, null, null, null, null, null, null, null], \"yaxis\": \"y\"}, {\"customdata\": [[\"Chevrolet\"], [\"Chevrolet\"], [\"Chevrolet\"], [\"Chevrolet\"], [\"Chevrolet\"], [\"Ford\"], [\"Ford\"], [\"Ford\"], [\"Ford\"], [\"Ford\"], [\"Ford\"], [\"Ford\"], [\"Ford\"], [\"Ford\"], [\"Ford\"], [\"Ford\"], [\"GMC\"], [\"GMC\"], [\"GMC\"], [\"Ram\"], [\"Ram\"], [\"Ram\"], [\"Ford\"], [\"Ford\"], [\"Ford\"], [\"Ford\"], [\"Ford\"], [\"Ford\"], [\"Ford\"]], \"hoverlabel\": {\"namelength\": 0}, \"hovertemplate\": \"fuel=CNG - Bi-fuel<br>Model Year=%{x}<br>Alternative Fuel Economy Combined=%{y}<br>Maker=%{customdata[0]}\", \"legendgroup\": \"fuel=CNG - Bi-fuel\", \"marker\": {\"color\": \"#ab63fa\", \"symbol\": \"circle\"}, \"mode\": \"markers\", \"name\": \"CNG - Bi-fuel\", \"showlegend\": true, \"type\": \"scattergl\", \"x\": [2015, 2015, 2015, 2014, 2013, 2014, 2014, 2014, 2014, 2014, 2014, 2014, 2014, 2013, 2012, 2012, 2015, 2014, 2013, 2015, 2014, 2013, 2014, 2014, 2014, 2014, 2013, 2013, 2013], \"xaxis\": \"x\", \"y\": [null, null, null, null, null, null, null, null, null, null, null, null, null, null, null, null, null, null, null, null, null, null, null, null, null, null, null, null, null], \"yaxis\": \"y\"}, {\"customdata\": [[\"Chevrolet\"], [\"Chevrolet\"], [\"Chevrolet\"], [\"Chevrolet\"], [\"Ford\"], [\"Ford\"], [\"Ford\"], [\"Ford\"], [\"Ford\"], [\"Ford\"], [\"Ford\"], [\"Ford\"], [\"Ford\"], [\"Ford\"], [\"Ford\"], [\"Ford\"], [\"Ford\"], [\"Ford\"], [\"Ford\"], [\"Ford\"], [\"Ford\"], [\"Ford\"], [\"GMC\"], [\"GMC\"], [\"GMC\"], [\"GMC\"], [\"GMC\"], [\"Chevrolet\"], [\"Chevrolet\"], [\"Chevrolet\"], [\"Chevrolet\"], [\"Chevrolet\"], [\"Ford\"], [\"Ford\"], [\"Ford\"], [\"Ford\"], [\"Ford\"], [\"Ford\"], [\"Ford\"], [\"Ford\"], [\"GMC\"], [\"GMC\"], [\"GMC\"], [\"GMC\"], [\"GMC\"], [\"QUANTUM-PROCON\"], [\"QUANTUM-PROCON\"], [\"QUANTUM-PROCON\"], [\"QUANTUM-PROCON\"], [\"Chevrolet\"], [\"Ford\"], [\"Ford\"], [\"Ford\"], [\"Ford\"], [\"Ford\"], [\"Ford\"], [\"Ford\"], [\"GMC\"]], \"hoverlabel\": {\"namelength\": 0}, \"hovertemplate\": \"fuel=Propane<br>Model Year=%{x}<br>Alternative Fuel Economy Combined=%{y}<br>Maker=%{customdata[0]}\", \"legendgroup\": \"fuel=Propane\", \"marker\": {\"color\": \"#FFA15A\", \"symbol\": \"circle\"}, \"mode\": \"markers\", \"name\": \"Propane\", \"showlegend\": true, \"type\": \"scattergl\", \"x\": [2019, 2018, 2017, 2001, 2019, 2019, 2018, 2018, 2017, 2017, 2016, 2016, 2015, 2009, 2008, 2004, 2003, 2002, 2001, 2001, 2000, 2000, 2019, 2018, 2017, 2001, 2001, 2019, 2018, 2017, 2014, 2013, 2019, 2018, 2017, 2017, 2016, 2016, 2015, 2011, 2019, 2018, 2017, 2014, 2013, 2002, 2002, 2002, 2002, 2015, 2016, 2015, 2015, 2015, 2015, 2015, 2015, 2015], \"xaxis\": \"x\", \"y\": [null, null, null, null, null, null, null, null, null, null, null, null, null, null, null, 13.0, 13.5, 12.5, 11.5, null, null, null, null, null, null, null, null, null, null, null, null, null, null, null, null, null, null, null, null, null, null, null, null, null, null, 11.0, 11.0, 11.0, 11.0, null, null, null, null, null, null, null, null, null], \"yaxis\": \"y\"}, {\"customdata\": [[\"Ford\"], [\"Ford\"], [\"Ford\"], [\"Ford\"], [\"Ford\"], [\"Ford\"], [\"Ford\"], [\"Ford\"], [\"Ford\"], [\"Ford\"], [\"Ford\"], [\"Ford\"], [\"Ford\"], [\"Ford\"], [\"Ford\"], [\"Ford\"], [\"Ford\"], [\"Ford\"]], \"hoverlabel\": {\"namelength\": 0}, \"hovertemplate\": \"fuel=Propane - Bi-fuel<br>Model Year=%{x}<br>Alternative Fuel Economy Combined=%{y}<br>Maker=%{customdata[0]}\", \"legendgroup\": \"fuel=Propane - Bi-fuel\", \"marker\": {\"color\": \"#19d3f3\", \"symbol\": \"circle\"}, \"mode\": \"markers\", \"name\": \"Propane - Bi-fuel\", \"showlegend\": true, \"type\": \"scattergl\", \"x\": [2014, 2014, 2014, 2014, 2014, 2014, 2014, 2014, 2013, 2012, 2012, 2014, 2014, 2014, 2014, 2013, 2013, 2013], \"xaxis\": \"x\", \"y\": [null, null, null, null, null, null, null, null, null, null, null, null, null, null, null, null, null, null], \"yaxis\": \"y\"}],\n",
              "                        {\"legend\": {\"tracegroupgap\": 0}, \"template\": {\"data\": {\"bar\": [{\"error_x\": {\"color\": \"#2a3f5f\"}, \"error_y\": {\"color\": \"#2a3f5f\"}, \"marker\": {\"line\": {\"color\": \"#E5ECF6\", \"width\": 0.5}}, \"type\": \"bar\"}], \"barpolar\": [{\"marker\": {\"line\": {\"color\": \"#E5ECF6\", \"width\": 0.5}}, \"type\": \"barpolar\"}], \"carpet\": [{\"aaxis\": {\"endlinecolor\": \"#2a3f5f\", \"gridcolor\": \"white\", \"linecolor\": \"white\", \"minorgridcolor\": \"white\", \"startlinecolor\": \"#2a3f5f\"}, \"baxis\": {\"endlinecolor\": \"#2a3f5f\", \"gridcolor\": \"white\", \"linecolor\": \"white\", \"minorgridcolor\": \"white\", \"startlinecolor\": \"#2a3f5f\"}, \"type\": \"carpet\"}], \"choropleth\": [{\"colorbar\": {\"outlinewidth\": 0, \"ticks\": \"\"}, \"type\": \"choropleth\"}], \"contour\": [{\"colorbar\": {\"outlinewidth\": 0, \"ticks\": \"\"}, \"colorscale\": [[0.0, \"#0d0887\"], [0.1111111111111111, \"#46039f\"], [0.2222222222222222, \"#7201a8\"], [0.3333333333333333, \"#9c179e\"], [0.4444444444444444, \"#bd3786\"], [0.5555555555555556, \"#d8576b\"], [0.6666666666666666, \"#ed7953\"], [0.7777777777777778, \"#fb9f3a\"], [0.8888888888888888, \"#fdca26\"], [1.0, \"#f0f921\"]], \"type\": \"contour\"}], \"contourcarpet\": [{\"colorbar\": {\"outlinewidth\": 0, \"ticks\": \"\"}, \"type\": \"contourcarpet\"}], \"heatmap\": [{\"colorbar\": {\"outlinewidth\": 0, \"ticks\": \"\"}, \"colorscale\": [[0.0, \"#0d0887\"], [0.1111111111111111, \"#46039f\"], [0.2222222222222222, \"#7201a8\"], [0.3333333333333333, \"#9c179e\"], [0.4444444444444444, \"#bd3786\"], [0.5555555555555556, \"#d8576b\"], [0.6666666666666666, \"#ed7953\"], [0.7777777777777778, \"#fb9f3a\"], [0.8888888888888888, \"#fdca26\"], [1.0, \"#f0f921\"]], \"type\": \"heatmap\"}], \"heatmapgl\": [{\"colorbar\": {\"outlinewidth\": 0, \"ticks\": \"\"}, \"colorscale\": [[0.0, \"#0d0887\"], [0.1111111111111111, \"#46039f\"], [0.2222222222222222, \"#7201a8\"], [0.3333333333333333, \"#9c179e\"], [0.4444444444444444, \"#bd3786\"], [0.5555555555555556, \"#d8576b\"], [0.6666666666666666, \"#ed7953\"], [0.7777777777777778, \"#fb9f3a\"], [0.8888888888888888, \"#fdca26\"], [1.0, \"#f0f921\"]], \"type\": \"heatmapgl\"}], \"histogram\": [{\"marker\": {\"colorbar\": {\"outlinewidth\": 0, \"ticks\": \"\"}}, \"type\": \"histogram\"}], \"histogram2d\": [{\"colorbar\": {\"outlinewidth\": 0, \"ticks\": \"\"}, \"colorscale\": [[0.0, \"#0d0887\"], [0.1111111111111111, \"#46039f\"], [0.2222222222222222, \"#7201a8\"], [0.3333333333333333, \"#9c179e\"], [0.4444444444444444, \"#bd3786\"], [0.5555555555555556, \"#d8576b\"], [0.6666666666666666, \"#ed7953\"], [0.7777777777777778, \"#fb9f3a\"], [0.8888888888888888, \"#fdca26\"], [1.0, \"#f0f921\"]], \"type\": \"histogram2d\"}], \"histogram2dcontour\": [{\"colorbar\": {\"outlinewidth\": 0, \"ticks\": \"\"}, \"colorscale\": [[0.0, \"#0d0887\"], [0.1111111111111111, \"#46039f\"], [0.2222222222222222, \"#7201a8\"], [0.3333333333333333, \"#9c179e\"], [0.4444444444444444, \"#bd3786\"], [0.5555555555555556, \"#d8576b\"], [0.6666666666666666, \"#ed7953\"], [0.7777777777777778, \"#fb9f3a\"], [0.8888888888888888, \"#fdca26\"], [1.0, \"#f0f921\"]], \"type\": \"histogram2dcontour\"}], \"mesh3d\": [{\"colorbar\": {\"outlinewidth\": 0, \"ticks\": \"\"}, \"type\": \"mesh3d\"}], \"parcoords\": [{\"line\": {\"colorbar\": {\"outlinewidth\": 0, \"ticks\": \"\"}}, \"type\": \"parcoords\"}], \"pie\": [{\"automargin\": true, \"type\": \"pie\"}], \"scatter\": [{\"marker\": {\"colorbar\": {\"outlinewidth\": 0, \"ticks\": \"\"}}, \"type\": \"scatter\"}], \"scatter3d\": [{\"line\": {\"colorbar\": {\"outlinewidth\": 0, \"ticks\": \"\"}}, \"marker\": {\"colorbar\": {\"outlinewidth\": 0, \"ticks\": \"\"}}, \"type\": \"scatter3d\"}], \"scattercarpet\": [{\"marker\": {\"colorbar\": {\"outlinewidth\": 0, \"ticks\": \"\"}}, \"type\": \"scattercarpet\"}], \"scattergeo\": [{\"marker\": {\"colorbar\": {\"outlinewidth\": 0, \"ticks\": \"\"}}, \"type\": \"scattergeo\"}], \"scattergl\": [{\"marker\": {\"colorbar\": {\"outlinewidth\": 0, \"ticks\": \"\"}}, \"type\": \"scattergl\"}], \"scattermapbox\": [{\"marker\": {\"colorbar\": {\"outlinewidth\": 0, \"ticks\": \"\"}}, \"type\": \"scattermapbox\"}], \"scatterpolar\": [{\"marker\": {\"colorbar\": {\"outlinewidth\": 0, \"ticks\": \"\"}}, \"type\": \"scatterpolar\"}], \"scatterpolargl\": [{\"marker\": {\"colorbar\": {\"outlinewidth\": 0, \"ticks\": \"\"}}, \"type\": \"scatterpolargl\"}], \"scatterternary\": [{\"marker\": {\"colorbar\": {\"outlinewidth\": 0, \"ticks\": \"\"}}, \"type\": \"scatterternary\"}], \"surface\": [{\"colorbar\": {\"outlinewidth\": 0, \"ticks\": \"\"}, \"colorscale\": [[0.0, \"#0d0887\"], [0.1111111111111111, \"#46039f\"], [0.2222222222222222, \"#7201a8\"], [0.3333333333333333, \"#9c179e\"], [0.4444444444444444, \"#bd3786\"], [0.5555555555555556, \"#d8576b\"], [0.6666666666666666, \"#ed7953\"], [0.7777777777777778, \"#fb9f3a\"], [0.8888888888888888, \"#fdca26\"], [1.0, \"#f0f921\"]], \"type\": \"surface\"}], \"table\": [{\"cells\": {\"fill\": {\"color\": \"#EBF0F8\"}, \"line\": {\"color\": \"white\"}}, \"header\": {\"fill\": {\"color\": \"#C8D4E3\"}, \"line\": {\"color\": \"white\"}}, \"type\": \"table\"}]}, \"layout\": {\"annotationdefaults\": {\"arrowcolor\": \"#2a3f5f\", \"arrowhead\": 0, \"arrowwidth\": 1}, \"coloraxis\": {\"colorbar\": {\"outlinewidth\": 0, \"ticks\": \"\"}}, \"colorscale\": {\"diverging\": [[0, \"#8e0152\"], [0.1, \"#c51b7d\"], [0.2, \"#de77ae\"], [0.3, \"#f1b6da\"], [0.4, \"#fde0ef\"], [0.5, \"#f7f7f7\"], [0.6, \"#e6f5d0\"], [0.7, \"#b8e186\"], [0.8, \"#7fbc41\"], [0.9, \"#4d9221\"], [1, \"#276419\"]], \"sequential\": [[0.0, \"#0d0887\"], [0.1111111111111111, \"#46039f\"], [0.2222222222222222, \"#7201a8\"], [0.3333333333333333, \"#9c179e\"], [0.4444444444444444, \"#bd3786\"], [0.5555555555555556, \"#d8576b\"], [0.6666666666666666, \"#ed7953\"], [0.7777777777777778, \"#fb9f3a\"], [0.8888888888888888, \"#fdca26\"], [1.0, \"#f0f921\"]], \"sequentialminus\": [[0.0, \"#0d0887\"], [0.1111111111111111, \"#46039f\"], [0.2222222222222222, \"#7201a8\"], [0.3333333333333333, \"#9c179e\"], [0.4444444444444444, \"#bd3786\"], [0.5555555555555556, \"#d8576b\"], [0.6666666666666666, \"#ed7953\"], [0.7777777777777778, \"#fb9f3a\"], [0.8888888888888888, \"#fdca26\"], [1.0, \"#f0f921\"]]}, \"colorway\": [\"#636efa\", \"#EF553B\", \"#00cc96\", \"#ab63fa\", \"#FFA15A\", \"#19d3f3\", \"#FF6692\", \"#B6E880\", \"#FF97FF\", \"#FECB52\"], \"font\": {\"color\": \"#2a3f5f\"}, \"geo\": {\"bgcolor\": \"white\", \"lakecolor\": \"white\", \"landcolor\": \"#E5ECF6\", \"showlakes\": true, \"showland\": true, \"subunitcolor\": \"white\"}, \"hoverlabel\": {\"align\": \"left\"}, \"hovermode\": \"closest\", \"mapbox\": {\"style\": \"light\"}, \"paper_bgcolor\": \"white\", \"plot_bgcolor\": \"#E5ECF6\", \"polar\": {\"angularaxis\": {\"gridcolor\": \"white\", \"linecolor\": \"white\", \"ticks\": \"\"}, \"bgcolor\": \"#E5ECF6\", \"radialaxis\": {\"gridcolor\": \"white\", \"linecolor\": \"white\", \"ticks\": \"\"}}, \"scene\": {\"xaxis\": {\"backgroundcolor\": \"#E5ECF6\", \"gridcolor\": \"white\", \"gridwidth\": 2, \"linecolor\": \"white\", \"showbackground\": true, \"ticks\": \"\", \"zerolinecolor\": \"white\"}, \"yaxis\": {\"backgroundcolor\": \"#E5ECF6\", \"gridcolor\": \"white\", \"gridwidth\": 2, \"linecolor\": \"white\", \"showbackground\": true, \"ticks\": \"\", \"zerolinecolor\": \"white\"}, \"zaxis\": {\"backgroundcolor\": \"#E5ECF6\", \"gridcolor\": \"white\", \"gridwidth\": 2, \"linecolor\": \"white\", \"showbackground\": true, \"ticks\": \"\", \"zerolinecolor\": \"white\"}}, \"shapedefaults\": {\"line\": {\"color\": \"#2a3f5f\"}}, \"ternary\": {\"aaxis\": {\"gridcolor\": \"white\", \"linecolor\": \"white\", \"ticks\": \"\"}, \"baxis\": {\"gridcolor\": \"white\", \"linecolor\": \"white\", \"ticks\": \"\"}, \"bgcolor\": \"#E5ECF6\", \"caxis\": {\"gridcolor\": \"white\", \"linecolor\": \"white\", \"ticks\": \"\"}}, \"title\": {\"x\": 0.05}, \"xaxis\": {\"automargin\": true, \"gridcolor\": \"white\", \"linecolor\": \"white\", \"ticks\": \"\", \"title\": {\"standoff\": 15}, \"zerolinecolor\": \"white\", \"zerolinewidth\": 2}, \"yaxis\": {\"automargin\": true, \"gridcolor\": \"white\", \"linecolor\": \"white\", \"ticks\": \"\", \"title\": {\"standoff\": 15}, \"zerolinecolor\": \"white\", \"zerolinewidth\": 2}}}, \"title\": {\"text\": \"Fuel Efficiency for Combustion Vehicles by Alternative Fuel Type Over the Past 20 Years\"}, \"xaxis\": {\"anchor\": \"y\", \"domain\": [0.0, 1.0], \"title\": {\"text\": \"Model Year\"}}, \"yaxis\": {\"anchor\": \"x\", \"domain\": [0.0, 1.0], \"title\": {\"text\": \"Alternative Fuel Economy Combined\"}}},\n",
              "                        {\"responsive\": true}\n",
              "                    ).then(function(){\n",
              "                            \n",
              "var gd = document.getElementById('f398d108-488b-4449-8715-fe790e915a86');\n",
              "var x = new MutationObserver(function (mutations, observer) {{\n",
              "        var display = window.getComputedStyle(gd).display;\n",
              "        if (!display || display === 'none') {{\n",
              "            console.log([gd, 'removed!']);\n",
              "            Plotly.purge(gd);\n",
              "            observer.disconnect();\n",
              "        }}\n",
              "}});\n",
              "\n",
              "// Listen for the removal of the full notebook cells\n",
              "var notebookContainer = gd.closest('#notebook-container');\n",
              "if (notebookContainer) {{\n",
              "    x.observe(notebookContainer, {childList: true});\n",
              "}}\n",
              "\n",
              "// Listen for the clearing of the current output cell\n",
              "var outputEl = gd.closest('.output');\n",
              "if (outputEl) {{\n",
              "    x.observe(outputEl, {childList: true});\n",
              "}}\n",
              "\n",
              "                        })\n",
              "                };\n",
              "                \n",
              "            </script>\n",
              "        </div>\n",
              "</body>\n",
              "</html>"
            ]
          },
          "metadata": {
            "tags": []
          }
        }
      ]
    },
    {
      "cell_type": "code",
      "metadata": {
        "id": "sYuMldriGExJ",
        "colab_type": "code",
        "colab": {
          "base_uri": "https://localhost:8080/",
          "height": 426
        },
        "outputId": "3dc844fa-9507-454e-af4c-9cfab1029c28"
      },
      "source": [
        "import seaborn as sns\n",
        "ax = sns.scatterplot(x='Model Year',y='Alternative Fuel Economy Combined',data=elc_ID,style='fuel' ,hue='Category')\n",
        "ax.legend(loc='right', bbox_to_anchor=(1.6, 0.5), ncol=1)\n",
        "plt.title('Fuel Efficiency for Electric Vehicles Over the Past 20 Years',fontsize=15,y=1.2)\n",
        "plt.plot(elc_avg['Model Year'],elc_avg['Alternative Fuel Economy Combined'],color ='grey', label ='Average Electric Efficiency',alpha =.5)\n",
        "plt.xticks(range(2000,2021,1),rotation=70)\n",
        "plt.xlabel('Year of Production',fontsize = 11)\n",
        "plt.show()"
      ],
      "execution_count": 32,
      "outputs": [
        {
          "output_type": "stream",
          "text": [
            "/usr/local/lib/python3.6/dist-packages/statsmodels/tools/_testing.py:19: FutureWarning:\n",
            "\n",
            "pandas.util.testing is deprecated. Use the functions in the public API at pandas.testing instead.\n",
            "\n"
          ],
          "name": "stderr"
        },
        {
          "output_type": "display_data",
          "data": {
            "image/png": "[encoded data removed]",
            "text/plain": [
              "<Figure size 432x288 with 1 Axes>"
            ]
          },
          "metadata": {
            "tags": [],
            "needs_background": "light"
          }
        }
      ]
    },
    {
      "cell_type": "code",
      "metadata": {
        "id": "vG1s7Nb3OFjc",
        "colab_type": "code",
        "colab": {
          "base_uri": "https://localhost:8080/",
          "height": 358
        },
        "outputId": "aaad1932-cf10-4024-b720-d400a3f9377c"
      },
      "source": [
        "ax = sns.scatterplot(x='Model Year',y='Alternative Fuel Economy Combined',data=cmb_ID,style='fuel' ,hue='Category',ci=.95)\n",
        "ax.legend(loc='right', bbox_to_anchor=(1.75, 0.5), ncol=1)\n",
        "plt.title('Fuel Efficiency for Alternative Combustion Vehicles Over the Past 20 Years',fontsize=15,y=1.2)\n",
        "plt.plot(cmb_avg['Model Year'],cmb_avg['Alternative Fuel Economy Combined'],color ='grey', label ='Average Commbustion Efficiency',alpha=.5)\n",
        "plt.xticks(range(2000,2021,1),rotation=70)\n",
        "plt.xlabel('Year of Production',fontsize = 11)\n",
        "plt.show()"
      ],
      "execution_count": 33,
      "outputs": [
        {
          "output_type": "display_data",
          "data": {
            "image/png": "[encoded data removed]",
            "text/plain": [
              "<Figure size 432x288 with 1 Axes>"
            ]
          },
          "metadata": {
            "tags": [],
            "needs_background": "light"
          }
        }
      ]
    },
    {
      "cell_type": "code",
      "metadata": {
        "id": "r5trQ9N0lj84",
        "colab_type": "code",
        "colab": {
          "base_uri": "https://localhost:8080/",
          "height": 34
        },
        "outputId": "07f07aae-4f5a-46d4-cad9-4860674acd9f"
      },
      "source": [
        "from scipy import stats\n",
        "stats.ttest_ind(elc_ID['Alternative Fuel Economy Combined'],cmb_ID['Alternative Fuel Economy Combined'],nan_policy='omit')"
      ],
      "execution_count": 34,
      "outputs": [
        {
          "output_type": "execute_result",
          "data": {
            "text/plain": [
              "Ttest_indResult(statistic=45.10355133333579, pvalue=3.593462429497739e-269)"
            ]
          },
          "metadata": {
            "tags": []
          },
          "execution_count": 34
        }
      ]
    }
  ]
}